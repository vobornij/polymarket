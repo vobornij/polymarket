{
 "cells": [
  {
   "cell_type": "code",
   "execution_count": 1,
   "id": "132795e0",
   "metadata": {},
   "outputs": [
    {
     "name": "stdout",
     "output_type": "stream",
     "text": [
      "Fetched 400 price points for BTC-USD\n",
      "Calculated 399 daily returns\n"
     ]
    },
    {
     "data": {
      "text/plain": [
       "{'mu_daily': np.float64(0.001491057218510357),\n",
       " 'sigma_daily': np.float64(0.025244149411078137),\n",
       " 'mu_annualized': np.float64(0.5442358847562803),\n",
       " 'sigma_annualized': np.float64(0.4822887973127982)}"
      ]
     },
     "execution_count": 1,
     "metadata": {},
     "output_type": "execute_result"
    }
   ],
   "source": [
    "\n",
    "from polymarket_analysis.analytics.gbm_param_estimator import GBMParameterEstimator\n",
    "\n",
    "\n",
    "gbm = GBMParameterEstimator(symbol=\"BTC-USD\", period=\"400d\")\n",
    "gbm.fetch_data()\n",
    "gbm.calculate_returns()\n",
    "gbm.estimate_parameters()"
   ]
  },
  {
   "cell_type": "code",
   "execution_count": 1,
   "id": "1747f315",
   "metadata": {},
   "outputs": [
    {
     "name": "stdout",
     "output_type": "stream",
     "text": [
      "Loaded 9819 markets.\n"
     ]
    }
   ],
   "source": [
    "from polymarket_analysis.data.load_history import load_price_history\n",
    "from polymarket_analysis.data.markets import load_raw_markets\n",
    "\n",
    "\n",
    "raw_markets = load_raw_markets()\n",
    "\n",
    "print(f\"Loaded {len(raw_markets)} markets.\")"
   ]
  },
  {
   "cell_type": "code",
   "execution_count": 8,
   "id": "14a5256b",
   "metadata": {},
   "outputs": [],
   "source": [
    "import pandas as pd\n",
    "markets = pd.DataFrame(raw_markets)"
   ]
  },
  {
   "cell_type": "code",
   "execution_count": 3,
   "id": "04a7467c",
   "metadata": {},
   "outputs": [
    {
     "data": {
      "text/plain": [
       "<module 'polymarket_analysis.data.load_history' from '/Users/vobornij/projects/polymarket/src/polymarket_analysis/data/load_history.py'>"
      ]
     },
     "execution_count": 3,
     "metadata": {},
     "output_type": "execute_result"
    }
   ],
   "source": [
    "import importlib\n",
    "from polymarket_analysis.data import load_history\n",
    "importlib.reload(load_history)"
   ]
  },
  {
   "cell_type": "code",
   "execution_count": 4,
   "id": "f5da4556",
   "metadata": {},
   "outputs": [
    {
     "ename": "TypeError",
     "evalue": "list indices must be integers or slices, not str",
     "output_type": "error",
     "traceback": [
      "\u001b[31m---------------------------------------------------------------------------\u001b[39m",
      "\u001b[31mTypeError\u001b[39m                                 Traceback (most recent call last)",
      "\u001b[36mCell\u001b[39m\u001b[36m \u001b[39m\u001b[32mIn[4]\u001b[39m\u001b[32m, line 3\u001b[39m\n\u001b[32m      1\u001b[39m \u001b[38;5;28;01mfrom\u001b[39;00m\u001b[38;5;250m \u001b[39m\u001b[34;01mpolymarket_analysis\u001b[39;00m\u001b[34;01m.\u001b[39;00m\u001b[34;01mdata\u001b[39;00m\u001b[34;01m.\u001b[39;00m\u001b[34;01mcontract_loader\u001b[39;00m\u001b[38;5;250m \u001b[39m\u001b[38;5;28;01mimport\u001b[39;00m ContractLoader\n\u001b[32m----> \u001b[39m\u001b[32m3\u001b[39m contracts = \u001b[43mContractLoader\u001b[49m\u001b[43m(\u001b[49m\u001b[43m)\u001b[49m\u001b[43m.\u001b[49m\u001b[43mload_crypto_contracts\u001b[49m\u001b[43m(\u001b[49m\u001b[43mraw_markets\u001b[49m\u001b[43m)\u001b[49m\n",
      "\u001b[36mFile \u001b[39m\u001b[32m~/projects/polymarket/src/polymarket_analysis/data/contract_loader.py:14\u001b[39m, in \u001b[36mContractLoader.load_crypto_contracts\u001b[39m\u001b[34m(self, raw_markets)\u001b[39m\n\u001b[32m     13\u001b[39m \u001b[38;5;28;01mdef\u001b[39;00m\u001b[38;5;250m \u001b[39m\u001b[34mload_crypto_contracts\u001b[39m(\u001b[38;5;28mself\u001b[39m, raw_markets: pd.DataFrame) -> \u001b[38;5;28mlist\u001b[39m[TokenPriceRangeContract]:\n\u001b[32m---> \u001b[39m\u001b[32m14\u001b[39m     filtered_markets = \u001b[43mContractLoader\u001b[49m\u001b[43m.\u001b[49m\u001b[43m_filter_btc_markets\u001b[49m\u001b[43m(\u001b[49m\u001b[43mraw_markets\u001b[49m\u001b[43m)\u001b[49m\n\u001b[32m     15\u001b[39m     \u001b[38;5;28;01mreturn\u001b[39;00m [ \n\u001b[32m     16\u001b[39m         contract \u001b[38;5;28;01mfor\u001b[39;00m _, row \u001b[38;5;129;01min\u001b[39;00m filtered_markets.iterrows() \u001b[38;5;28;01mfor\u001b[39;00m contract \u001b[38;5;129;01min\u001b[39;00m \n\u001b[32m     17\u001b[39m         \u001b[38;5;28mself\u001b[39m._parse_contracts(row) \n\u001b[32m     18\u001b[39m     ]\n",
      "\u001b[36mFile \u001b[39m\u001b[32m~/projects/polymarket/src/polymarket_analysis/data/contract_loader.py:25\u001b[39m, in \u001b[36mContractLoader._filter_btc_markets\u001b[39m\u001b[34m(raw_markets)\u001b[39m\n\u001b[32m     22\u001b[39m \u001b[38;5;129m@staticmethod\u001b[39m\n\u001b[32m     23\u001b[39m \u001b[38;5;28;01mdef\u001b[39;00m\u001b[38;5;250m \u001b[39m\u001b[34m_filter_btc_markets\u001b[39m(raw_markets: pd.DataFrame) -> pd.DataFrame:\n\u001b[32m     24\u001b[39m     filtered_markets = raw_markets[\n\u001b[32m---> \u001b[39m\u001b[32m25\u001b[39m         (\u001b[43mraw_markets\u001b[49m\u001b[43m[\u001b[49m\u001b[33;43m'\u001b[39;49m\u001b[33;43mtags\u001b[39;49m\u001b[33;43m'\u001b[39;49m\u001b[43m]\u001b[49m.apply(\u001b[38;5;28;01mlambda\u001b[39;00m x: \n\u001b[32m     26\u001b[39m                                 \u001b[33m'\u001b[39m\u001b[33mCrypto Prices\u001b[39m\u001b[33m'\u001b[39m \u001b[38;5;129;01min\u001b[39;00m x\n\u001b[32m     27\u001b[39m                                     \u001b[38;5;129;01mand\u001b[39;00m \u001b[33m'\u001b[39m\u001b[33mBitcoin\u001b[39m\u001b[33m'\u001b[39m \u001b[38;5;129;01min\u001b[39;00m x\n\u001b[32m     28\u001b[39m                                     \u001b[38;5;129;01mand\u001b[39;00m \u001b[38;5;129;01mnot\u001b[39;00m \u001b[33m'\u001b[39m\u001b[33mEthereum\u001b[39m\u001b[33m'\u001b[39m \u001b[38;5;129;01min\u001b[39;00m x \n\u001b[32m     29\u001b[39m                                     \u001b[38;5;28;01mif\u001b[39;00m x \u001b[38;5;28;01melse\u001b[39;00m \u001b[38;5;28;01mFalse\u001b[39;00m))\n\u001b[32m     30\u001b[39m                                     & \n\u001b[32m     31\u001b[39m         (raw_markets[\u001b[33m'\u001b[39m\u001b[33maccepting_order_timestamp\u001b[39m\u001b[33m'\u001b[39m] > datetime(\u001b[32m2024\u001b[39m, \u001b[32m1\u001b[39m, \u001b[32m1\u001b[39m).isoformat())\n\u001b[32m     32\u001b[39m         & (~raw_markets[\u001b[33m'\u001b[39m\u001b[33mmarket_slug\u001b[39m\u001b[33m'\u001b[39m].str.contains(\u001b[33m'\u001b[39m\u001b[33mreach\u001b[39m\u001b[33m'\u001b[39m))\n\u001b[32m     33\u001b[39m         & (~raw_markets[\u001b[33m'\u001b[39m\u001b[33mmarket_slug\u001b[39m\u001b[33m'\u001b[39m].str.contains(\u001b[33m'\u001b[39m\u001b[33mdip\u001b[39m\u001b[33m'\u001b[39m))\n\u001b[32m     34\u001b[39m         & (~raw_markets[\u001b[33m'\u001b[39m\u001b[33mmarket_slug\u001b[39m\u001b[33m'\u001b[39m].str.contains(\u001b[33m'\u001b[39m\u001b[33mhit\u001b[39m\u001b[33m'\u001b[39m))\n\u001b[32m     35\u001b[39m         & (~raw_markets[\u001b[33m'\u001b[39m\u001b[33mmarket_slug\u001b[39m\u001b[33m'\u001b[39m].str.contains(\u001b[33m'\u001b[39m\u001b[33mall-time-high\u001b[39m\u001b[33m'\u001b[39m))\n\u001b[32m     36\u001b[39m         & (~raw_markets[\u001b[33m'\u001b[39m\u001b[33mmarket_slug\u001b[39m\u001b[33m'\u001b[39m].str.contains(\u001b[33m'\u001b[39m\u001b[33mup-or-down\u001b[39m\u001b[33m'\u001b[39m))\n\u001b[32m     37\u001b[39m         & (raw_markets[\u001b[33m'\u001b[39m\u001b[33mdescription\u001b[39m\u001b[33m'\u001b[39m].str.contains(\u001b[33m'\u001b[39m\u001b[33mBinance 1 minute candle\u001b[39m\u001b[33m'\u001b[39m))\n\u001b[32m     38\u001b[39m         & (raw_markets[\u001b[33m'\u001b[39m\u001b[33mdescription\u001b[39m\u001b[33m'\u001b[39m].str.contains(\u001b[33m'\u001b[39m\u001b[33mET\u001b[39m\u001b[33m'\u001b[39m))\n\u001b[32m     39\u001b[39m     ].dropna(subset=[\u001b[33m'\u001b[39m\u001b[33mend_date_iso\u001b[39m\u001b[33m'\u001b[39m]).copy().sort_values(by=\u001b[33m'\u001b[39m\u001b[33maccepting_order_timestamp\u001b[39m\u001b[33m'\u001b[39m)\n\u001b[32m     41\u001b[39m     \u001b[38;5;28;01mreturn\u001b[39;00m filtered_markets\n",
      "\u001b[31mTypeError\u001b[39m: list indices must be integers or slices, not str"
     ]
    }
   ],
   "source": [
    "from polymarket_analysis.data.contract_loader import ContractLoader\n",
    "\n",
    "contracts = ContractLoader().load_crypto_contracts(raw_markets)"
   ]
  },
  {
   "cell_type": "code",
   "execution_count": null,
   "id": "6da92496",
   "metadata": {},
   "outputs": [
    {
     "name": "stdout",
     "output_type": "stream",
     "text": [
      "No price history found for contract Will the price of Bitcoin be greater than $112K on June 17? - Yes\n",
      "No price history found for contract Will the price of Bitcoin be between $108K and $110K on June 17? - Yes\n",
      "No price history found for contract Will the price of Bitcoin be between $110K and $112K on June 17? - Yes\n",
      "No price history found for contract Will the price of Bitcoin be between $106K and $108K on June 17? - Yes\n",
      "No price history found for contract Will the price of Bitcoin be between $110K and $112K on June 17? - Yes\n",
      "No price history found for contract Will the price of Bitcoin be between $106K and $108K on June 17? - Yes\n",
      "No price history found for contract Will the price of Bitcoin be less than $106K on June 17? - Yes\n",
      "No price history found for contract Will the price of Bitcoin be less than $106K on June 17? - Yes\n"
     ]
    }
   ],
   "source": [
    "token_histories = [load_price_history(contract) for contract in contracts[300:310]]\n",
    "nonempty_histories = [history for history in token_histories if history is not None]\n",
    "token_history = nonempty_histories[0]"
   ]
  },
  {
   "cell_type": "code",
   "execution_count": null,
   "id": "17860978",
   "metadata": {},
   "outputs": [
    {
     "name": "stdout",
     "output_type": "stream",
     "text": [
      "Filtered Bitcoin data between 2025-06-10 18:20:07+00:00, 2025-06-17 00:00:00+00:00: 1796 rows\n"
     ]
    }
   ],
   "source": [
    "from polymarket_analysis.data.binance import Binance\n",
    "\n",
    "polymarket_start = token_history.price_df['timestamp'].min()\n",
    "polymarket_end = token_history.contract.end_date\n",
    "\n",
    "btc_df = Binance.load_bitcon_5min(\n",
    "    from_date=polymarket_start, \n",
    "    to_date=polymarket_end\n",
    ")\n",
    "print(f\"Filtered Bitcoin data between {polymarket_start}, {polymarket_end}: {len(btc_df)} rows\")"
   ]
  },
  {
   "cell_type": "code",
   "execution_count": null,
   "id": "6003a302",
   "metadata": {},
   "outputs": [
    {
     "ename": "TypeError",
     "evalue": "Cannot subtract tz-naive and tz-aware datetime-like objects.",
     "output_type": "error",
     "traceback": [
      "\u001b[31m---------------------------------------------------------------------------\u001b[39m",
      "\u001b[31mTypeError\u001b[39m                                 Traceback (most recent call last)",
      "\u001b[36mCell\u001b[39m\u001b[36m \u001b[39m\u001b[32mIn[45]\u001b[39m\u001b[32m, line 20\u001b[39m\n\u001b[32m     16\u001b[39m     \u001b[38;5;28;01mreturn\u001b[39;00m gbm.p_above_target(row[\u001b[33m'\u001b[39m\u001b[33mprice\u001b[39m\u001b[33m'\u001b[39m], target_price, days_ahead)\n\u001b[32m     19\u001b[39m \u001b[38;5;66;03m# Apply the function to calculate probabilities\u001b[39;00m\n\u001b[32m---> \u001b[39m\u001b[32m20\u001b[39m btc_df[\u001b[33m'\u001b[39m\u001b[33mestimated_prob_above_103k\u001b[39m\u001b[33m'\u001b[39m] = \u001b[43mbtc_df\u001b[49m\u001b[43m.\u001b[49m\u001b[43mapply\u001b[49m\u001b[43m(\u001b[49m\n\u001b[32m     21\u001b[39m \u001b[43m    \u001b[49m\u001b[38;5;28;43;01mlambda\u001b[39;49;00m\u001b[43m \u001b[49m\u001b[43mrow\u001b[49m\u001b[43m:\u001b[49m\u001b[43m \u001b[49m\u001b[43mcalculate_prob_above_target\u001b[49m\u001b[43m(\u001b[49m\u001b[43mrow\u001b[49m\u001b[43m,\u001b[49m\u001b[43m \u001b[49m\u001b[43mtarget_price\u001b[49m\u001b[43m=\u001b[49m\u001b[32;43m103000\u001b[39;49m\u001b[43m)\u001b[49m\u001b[43m,\u001b[49m\n\u001b[32m     22\u001b[39m \u001b[43m    \u001b[49m\u001b[43maxis\u001b[49m\u001b[43m=\u001b[49m\u001b[32;43m1\u001b[39;49m\n\u001b[32m     23\u001b[39m \u001b[43m)\u001b[49m\n\u001b[32m     25\u001b[39m \u001b[38;5;66;03m# Display results\u001b[39;00m\n\u001b[32m     26\u001b[39m \u001b[38;5;28mprint\u001b[39m(\u001b[33m\"\u001b[39m\u001b[33mSample of estimated probabilities:\u001b[39m\u001b[33m\"\u001b[39m)\n",
      "\u001b[36mFile \u001b[39m\u001b[32m~/Library/Caches/pypoetry/virtualenvs/polymarket-analysis-rlaaxbWf-py3.13/lib/python3.13/site-packages/pandas/core/frame.py:10381\u001b[39m, in \u001b[36mDataFrame.apply\u001b[39m\u001b[34m(self, func, axis, raw, result_type, args, by_row, engine, engine_kwargs, **kwargs)\u001b[39m\n\u001b[32m  10367\u001b[39m \u001b[38;5;28;01mfrom\u001b[39;00m\u001b[38;5;250m \u001b[39m\u001b[34;01mpandas\u001b[39;00m\u001b[34;01m.\u001b[39;00m\u001b[34;01mcore\u001b[39;00m\u001b[34;01m.\u001b[39;00m\u001b[34;01mapply\u001b[39;00m\u001b[38;5;250m \u001b[39m\u001b[38;5;28;01mimport\u001b[39;00m frame_apply\n\u001b[32m  10369\u001b[39m op = frame_apply(\n\u001b[32m  10370\u001b[39m     \u001b[38;5;28mself\u001b[39m,\n\u001b[32m  10371\u001b[39m     func=func,\n\u001b[32m   (...)\u001b[39m\u001b[32m  10379\u001b[39m     kwargs=kwargs,\n\u001b[32m  10380\u001b[39m )\n\u001b[32m> \u001b[39m\u001b[32m10381\u001b[39m \u001b[38;5;28;01mreturn\u001b[39;00m \u001b[43mop\u001b[49m\u001b[43m.\u001b[49m\u001b[43mapply\u001b[49m\u001b[43m(\u001b[49m\u001b[43m)\u001b[49m.__finalize__(\u001b[38;5;28mself\u001b[39m, method=\u001b[33m\"\u001b[39m\u001b[33mapply\u001b[39m\u001b[33m\"\u001b[39m)\n",
      "\u001b[36mFile \u001b[39m\u001b[32m~/Library/Caches/pypoetry/virtualenvs/polymarket-analysis-rlaaxbWf-py3.13/lib/python3.13/site-packages/pandas/core/apply.py:916\u001b[39m, in \u001b[36mFrameApply.apply\u001b[39m\u001b[34m(self)\u001b[39m\n\u001b[32m    913\u001b[39m \u001b[38;5;28;01melif\u001b[39;00m \u001b[38;5;28mself\u001b[39m.raw:\n\u001b[32m    914\u001b[39m     \u001b[38;5;28;01mreturn\u001b[39;00m \u001b[38;5;28mself\u001b[39m.apply_raw(engine=\u001b[38;5;28mself\u001b[39m.engine, engine_kwargs=\u001b[38;5;28mself\u001b[39m.engine_kwargs)\n\u001b[32m--> \u001b[39m\u001b[32m916\u001b[39m \u001b[38;5;28;01mreturn\u001b[39;00m \u001b[38;5;28;43mself\u001b[39;49m\u001b[43m.\u001b[49m\u001b[43mapply_standard\u001b[49m\u001b[43m(\u001b[49m\u001b[43m)\u001b[49m\n",
      "\u001b[36mFile \u001b[39m\u001b[32m~/Library/Caches/pypoetry/virtualenvs/polymarket-analysis-rlaaxbWf-py3.13/lib/python3.13/site-packages/pandas/core/apply.py:1063\u001b[39m, in \u001b[36mFrameApply.apply_standard\u001b[39m\u001b[34m(self)\u001b[39m\n\u001b[32m   1061\u001b[39m \u001b[38;5;28;01mdef\u001b[39;00m\u001b[38;5;250m \u001b[39m\u001b[34mapply_standard\u001b[39m(\u001b[38;5;28mself\u001b[39m):\n\u001b[32m   1062\u001b[39m     \u001b[38;5;28;01mif\u001b[39;00m \u001b[38;5;28mself\u001b[39m.engine == \u001b[33m\"\u001b[39m\u001b[33mpython\u001b[39m\u001b[33m\"\u001b[39m:\n\u001b[32m-> \u001b[39m\u001b[32m1063\u001b[39m         results, res_index = \u001b[38;5;28;43mself\u001b[39;49m\u001b[43m.\u001b[49m\u001b[43mapply_series_generator\u001b[49m\u001b[43m(\u001b[49m\u001b[43m)\u001b[49m\n\u001b[32m   1064\u001b[39m     \u001b[38;5;28;01melse\u001b[39;00m:\n\u001b[32m   1065\u001b[39m         results, res_index = \u001b[38;5;28mself\u001b[39m.apply_series_numba()\n",
      "\u001b[36mFile \u001b[39m\u001b[32m~/Library/Caches/pypoetry/virtualenvs/polymarket-analysis-rlaaxbWf-py3.13/lib/python3.13/site-packages/pandas/core/apply.py:1081\u001b[39m, in \u001b[36mFrameApply.apply_series_generator\u001b[39m\u001b[34m(self)\u001b[39m\n\u001b[32m   1078\u001b[39m \u001b[38;5;28;01mwith\u001b[39;00m option_context(\u001b[33m\"\u001b[39m\u001b[33mmode.chained_assignment\u001b[39m\u001b[33m\"\u001b[39m, \u001b[38;5;28;01mNone\u001b[39;00m):\n\u001b[32m   1079\u001b[39m     \u001b[38;5;28;01mfor\u001b[39;00m i, v \u001b[38;5;129;01min\u001b[39;00m \u001b[38;5;28menumerate\u001b[39m(series_gen):\n\u001b[32m   1080\u001b[39m         \u001b[38;5;66;03m# ignore SettingWithCopy here in case the user mutates\u001b[39;00m\n\u001b[32m-> \u001b[39m\u001b[32m1081\u001b[39m         results[i] = \u001b[38;5;28;43mself\u001b[39;49m\u001b[43m.\u001b[49m\u001b[43mfunc\u001b[49m\u001b[43m(\u001b[49m\u001b[43mv\u001b[49m\u001b[43m,\u001b[49m\u001b[43m \u001b[49m\u001b[43m*\u001b[49m\u001b[38;5;28;43mself\u001b[39;49m\u001b[43m.\u001b[49m\u001b[43margs\u001b[49m\u001b[43m,\u001b[49m\u001b[43m \u001b[49m\u001b[43m*\u001b[49m\u001b[43m*\u001b[49m\u001b[38;5;28;43mself\u001b[39;49m\u001b[43m.\u001b[49m\u001b[43mkwargs\u001b[49m\u001b[43m)\u001b[49m\n\u001b[32m   1082\u001b[39m         \u001b[38;5;28;01mif\u001b[39;00m \u001b[38;5;28misinstance\u001b[39m(results[i], ABCSeries):\n\u001b[32m   1083\u001b[39m             \u001b[38;5;66;03m# If we have a view on v, we need to make a copy because\u001b[39;00m\n\u001b[32m   1084\u001b[39m             \u001b[38;5;66;03m#  series_generator will swap out the underlying data\u001b[39;00m\n\u001b[32m   1085\u001b[39m             results[i] = results[i].copy(deep=\u001b[38;5;28;01mFalse\u001b[39;00m)\n",
      "\u001b[36mCell\u001b[39m\u001b[36m \u001b[39m\u001b[32mIn[45]\u001b[39m\u001b[32m, line 21\u001b[39m, in \u001b[36m<lambda>\u001b[39m\u001b[34m(row)\u001b[39m\n\u001b[32m     16\u001b[39m     \u001b[38;5;28;01mreturn\u001b[39;00m gbm.p_above_target(row[\u001b[33m'\u001b[39m\u001b[33mprice\u001b[39m\u001b[33m'\u001b[39m], target_price, days_ahead)\n\u001b[32m     19\u001b[39m \u001b[38;5;66;03m# Apply the function to calculate probabilities\u001b[39;00m\n\u001b[32m     20\u001b[39m btc_df[\u001b[33m'\u001b[39m\u001b[33mestimated_prob_above_103k\u001b[39m\u001b[33m'\u001b[39m] = btc_df.apply(\n\u001b[32m---> \u001b[39m\u001b[32m21\u001b[39m     \u001b[38;5;28;01mlambda\u001b[39;00m row: \u001b[43mcalculate_prob_above_target\u001b[49m\u001b[43m(\u001b[49m\u001b[43mrow\u001b[49m\u001b[43m,\u001b[49m\u001b[43m \u001b[49m\u001b[43mtarget_price\u001b[49m\u001b[43m=\u001b[49m\u001b[32;43m103000\u001b[39;49m\u001b[43m)\u001b[49m,\n\u001b[32m     22\u001b[39m     axis=\u001b[32m1\u001b[39m\n\u001b[32m     23\u001b[39m )\n\u001b[32m     25\u001b[39m \u001b[38;5;66;03m# Display results\u001b[39;00m\n\u001b[32m     26\u001b[39m \u001b[38;5;28mprint\u001b[39m(\u001b[33m\"\u001b[39m\u001b[33mSample of estimated probabilities:\u001b[39m\u001b[33m\"\u001b[39m)\n",
      "\u001b[36mCell\u001b[39m\u001b[36m \u001b[39m\u001b[32mIn[45]\u001b[39m\u001b[32m, line 13\u001b[39m, in \u001b[36mcalculate_prob_above_target\u001b[39m\u001b[34m(row, target_price)\u001b[39m\n\u001b[32m     10\u001b[39m current_date = pd.to_datetime(row[\u001b[33m'\u001b[39m\u001b[33mtimestamp\u001b[39m\u001b[33m'\u001b[39m])\n\u001b[32m     12\u001b[39m \u001b[38;5;66;03m# Calculate days ahead (fractional days for precision)\u001b[39;00m\n\u001b[32m---> \u001b[39m\u001b[32m13\u001b[39m time_diff = \u001b[43mend_date\u001b[49m\u001b[43m \u001b[49m\u001b[43m-\u001b[49m\u001b[43m \u001b[49m\u001b[43mcurrent_date\u001b[49m\n\u001b[32m     14\u001b[39m days_ahead = time_diff.total_seconds() / (\u001b[32m24\u001b[39m * \u001b[32m3600\u001b[39m)\n\u001b[32m     16\u001b[39m \u001b[38;5;28;01mreturn\u001b[39;00m gbm.p_above_target(row[\u001b[33m'\u001b[39m\u001b[33mprice\u001b[39m\u001b[33m'\u001b[39m], target_price, days_ahead)\n",
      "\u001b[36mFile \u001b[39m\u001b[32mpandas/_libs/tslibs/timestamps.pyx:546\u001b[39m, in \u001b[36mpandas._libs.tslibs.timestamps._Timestamp.__rsub__\u001b[39m\u001b[34m()\u001b[39m\n",
      "\u001b[36mFile \u001b[39m\u001b[32mpandas/_libs/tslibs/timestamps.pyx:514\u001b[39m, in \u001b[36mpandas._libs.tslibs.timestamps._Timestamp.__sub__\u001b[39m\u001b[34m()\u001b[39m\n",
      "\u001b[31mTypeError\u001b[39m: Cannot subtract tz-naive and tz-aware datetime-like objects."
     ]
    }
   ],
   "source": [
    "# Calculate probability of BTC above 103k at each token's end date\n",
    "from datetime import datetime, timezone\n",
    "import pandas as pd\n",
    "\n",
    "def calculate_prob_above_target(row, target_price):\n",
    "    end_date = token_history.contract.target_time\n",
    "    \n",
    "    # Get current date (or the date when prediction is made)\n",
    "    # Using the date from the row or current date\n",
    "    current_date = pd.to_datetime(row['timestamp'])\n",
    "    \n",
    "    # Calculate days ahead (fractional days for precision)\n",
    "    time_diff = end_date - current_date\n",
    "    days_ahead = time_diff.total_seconds() / (24 * 3600)\n",
    "\n",
    "    return gbm.p_above_target(row['price'], target_price, days_ahead)\n",
    "    \n",
    "\n",
    "# Apply the function to calculate probabilities\n",
    "btc_df['estimated_prob_above_103k'] = btc_df.apply(\n",
    "    lambda row: calculate_prob_above_target(row, target_price=103000),\n",
    "    axis=1\n",
    ")\n",
    "\n",
    "# Display results\n",
    "print(\"Sample of estimated probabilities:\")\n",
    "print(btc_df[['timestamp', 'estimated_prob_above_103k']].head(10))"
   ]
  },
  {
   "cell_type": "code",
   "execution_count": null,
   "id": "2c158cbc",
   "metadata": {},
   "outputs": [],
   "source": [
    "# %matplotlib tk\n",
    "%matplotlib inline\n",
    "\n",
    "import plotly.graph_objects as go\n",
    "from plotly.subplots import make_subplots\n",
    "\n",
    "fig = go.Figure()\n",
    "# Create subplot with secondary y-axis\n",
    "fig = make_subplots(specs=[[{\"secondary_y\": True}]])\n",
    "\n",
    "for mh in [token_history]:\n",
    "    fig.add_trace(go.Scatter(\n",
    "            x=mh.price_df['timestamp'], \n",
    "            y=mh.price_df['price'],\n",
    "            mode='lines+markers',\n",
    "            name=f\"{mh.slug}\",\n",
    "        ))\n",
    "\n",
    "# Add Bitcoin price\n",
    "fig.add_trace(\n",
    "    go.Scatter(\n",
    "        x=btc_df['timestamp'], \n",
    "        y=btc_df['price'],\n",
    "        mode='lines',\n",
    "        name='Bitcoin Price',\n",
    "        # line=dict(color='black'),\n",
    "    ),\n",
    "    secondary_y=True,\n",
    ")\n",
    "\n",
    "# Add Bitcoin estimate\n",
    "fig.add_trace(\n",
    "    go.Scatter(\n",
    "        x=btc_df['timestamp'], \n",
    "        y=btc_df['estimated_prob_above_103k'],\n",
    "        mode='lines',\n",
    "        name='Bitcoin Estimate (P(BTC > 103k))',\n",
    "        # line=dict(color='black'),\n",
    "    ),\n",
    ")\n",
    "\n",
    "# Update layout\n",
    "fig.update_xaxes(title_text=\"Timestamp\")\n",
    "fig.update_yaxes(title_text=\"Polymarket Price\", secondary_y=False)\n",
    "fig.update_yaxes(title_text=\"Bitcoin Price (USD)\", secondary_y=True)\n",
    "\n",
    "fig.update_layout(\n",
    "    title_text=\"Polymarket vs Bitcoin Price Comparison (5-minute data)\",\n",
    "    legend=dict(\n",
    "        orientation=\"h\",  # horizontal orientation\n",
    "        yanchor=\"top\",\n",
    "        y=-0.1,          # position below the plot\n",
    "        xanchor=\"center\",\n",
    "        x=0.5\n",
    "    ),\n",
    "    showlegend=True\n",
    ")\n",
    "\n",
    "fig.show(renderer=\"browser\")"
   ]
  }
 ],
 "metadata": {
  "kernelspec": {
   "display_name": "polymarket-analysis-rlaaxbWf-py3.13",
   "language": "python",
   "name": "python3"
  },
  "language_info": {
   "codemirror_mode": {
    "name": "ipython",
    "version": 3
   },
   "file_extension": ".py",
   "mimetype": "text/x-python",
   "name": "python",
   "nbconvert_exporter": "python",
   "pygments_lexer": "ipython3",
   "version": "3.13.5"
  }
 },
 "nbformat": 4,
 "nbformat_minor": 5
}
