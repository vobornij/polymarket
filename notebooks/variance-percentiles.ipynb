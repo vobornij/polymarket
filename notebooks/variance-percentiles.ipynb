{
 "cells": [
  {
   "cell_type": "markdown",
   "id": "5e7d833e",
   "metadata": {},
   "source": [
    "# BTC 5-Min Data: Hourly Realized Standard Deviation of Log Returns\n",
    "\n",
    "This section loads 5-minute BTC price data and computes the realized standard deviation (std) of intra-hour log returns.\n",
    "\n",
    "Definition used:\n",
    "- Log return r_t = ln(P_t / P_{t-1}) for each 5-minute bar.\n",
    "- For each hour H, realized variance = sum_{t in H} (r_t - mean_H)^2 / (n_H - 1) (i.e. sample variance) and realized std = sqrt(variance).\n",
    "\n",
    "Optionally we can exclude the first 5-minute return of each hour (as it spans the boundary from the prior hour). Both versions are produced."
   ]
  },
  {
   "cell_type": "code",
   "execution_count": 1,
   "id": "496290a8",
   "metadata": {},
   "outputs": [
    {
     "ename": "TypeError",
     "evalue": "Cannot interpret 'datetime64[ns, UTC]' as a data type",
     "output_type": "error",
     "traceback": [
      "\u001b[31m---------------------------------------------------------------------------\u001b[39m",
      "\u001b[31mTypeError\u001b[39m                                 Traceback (most recent call last)",
      "\u001b[36mCell\u001b[39m\u001b[36m \u001b[39m\u001b[32mIn[1]\u001b[39m\u001b[32m, line 12\u001b[39m\n\u001b[32m     10\u001b[39m df = pd.read_json(data_file_5min, lines=\u001b[38;5;28;01mTrue\u001b[39;00m)\n\u001b[32m     11\u001b[39m \u001b[38;5;66;03m# Ensure timestamp is datetime\u001b[39;00m\n\u001b[32m---> \u001b[39m\u001b[32m12\u001b[39m \u001b[38;5;28;01mif\u001b[39;00m \u001b[38;5;129;01mnot\u001b[39;00m \u001b[43mnp\u001b[49m\u001b[43m.\u001b[49m\u001b[43missubdtype\u001b[49m\u001b[43m(\u001b[49m\u001b[43mdf\u001b[49m\u001b[43m[\u001b[49m\u001b[33;43m'\u001b[39;49m\u001b[33;43mtimestamp\u001b[39;49m\u001b[33;43m'\u001b[39;49m\u001b[43m]\u001b[49m\u001b[43m.\u001b[49m\u001b[43mdtype\u001b[49m\u001b[43m,\u001b[49m\u001b[43m \u001b[49m\u001b[43mnp\u001b[49m\u001b[43m.\u001b[49m\u001b[43mdatetime64\u001b[49m\u001b[43m)\u001b[49m:\n\u001b[32m     13\u001b[39m     df[\u001b[33m'\u001b[39m\u001b[33mtimestamp\u001b[39m\u001b[33m'\u001b[39m] = pd.to_datetime(df[\u001b[33m'\u001b[39m\u001b[33mtimestamp\u001b[39m\u001b[33m'\u001b[39m])\n\u001b[32m     15\u001b[39m \u001b[38;5;66;03m# Sort just in case\u001b[39;00m\n",
      "\u001b[36mFile \u001b[39m\u001b[32m~/Library/Caches/pypoetry/virtualenvs/polymarket-analysis-rlaaxbWf-py3.13/lib/python3.13/site-packages/numpy/_core/numerictypes.py:534\u001b[39m, in \u001b[36missubdtype\u001b[39m\u001b[34m(arg1, arg2)\u001b[39m\n\u001b[32m    477\u001b[39m \u001b[38;5;250m\u001b[39m\u001b[33mr\u001b[39m\u001b[33;03m\"\"\"\u001b[39;00m\n\u001b[32m    478\u001b[39m \u001b[33;03mReturns True if first argument is a typecode lower/equal in type hierarchy.\u001b[39;00m\n\u001b[32m    479\u001b[39m \n\u001b[32m   (...)\u001b[39m\u001b[32m    531\u001b[39m \n\u001b[32m    532\u001b[39m \u001b[33;03m\"\"\"\u001b[39;00m\n\u001b[32m    533\u001b[39m \u001b[38;5;28;01mif\u001b[39;00m \u001b[38;5;129;01mnot\u001b[39;00m issubclass_(arg1, generic):\n\u001b[32m--> \u001b[39m\u001b[32m534\u001b[39m     arg1 = \u001b[43mdtype\u001b[49m\u001b[43m(\u001b[49m\u001b[43marg1\u001b[49m\u001b[43m)\u001b[49m.type\n\u001b[32m    535\u001b[39m \u001b[38;5;28;01mif\u001b[39;00m \u001b[38;5;129;01mnot\u001b[39;00m issubclass_(arg2, generic):\n\u001b[32m    536\u001b[39m     arg2 = dtype(arg2).type\n",
      "\u001b[31mTypeError\u001b[39m: Cannot interpret 'datetime64[ns, UTC]' as a data type"
     ]
    }
   ],
   "source": [
    "import pandas as pd\n",
    "import numpy as np\n",
    "from pathlib import Path\n",
    "\n",
    "# Config\n",
    "data_file_5min = Path('/Users/kate/projects/polymarket/data/btc_5min_data.json')\n",
    "assert data_file_5min.exists(), f\"Data file not found: {data_file_5min}\"\n",
    "\n",
    "# Load 5-min BTC data (expects JSON lines with timestamp & price)\n",
    "df = pd.read_json(data_file_5min, lines=True)\n",
    "# Ensure timestamp is datetime\n",
    "if not np.issubdtype(df['timestamp'].dtype, np.datetime64):\n",
    "    df['timestamp'] = pd.to_datetime(df['timestamp'])\n",
    "\n",
    "# Sort just in case\n",
    "df = df.sort_values('timestamp').reset_index(drop=True)\n",
    "\n",
    "# Compute log returns on consecutive 5-min bars\n",
    "df['prev_price'] = df['price'].shift(1)\n",
    "df['log_return'] = np.log(df['price'] / df['prev_price'])\n",
    "\n",
    "# Derive hour bucket (UTC)\n",
    "df['hour'] = df['timestamp'].dt.floor('H')\n",
    "\n",
    "# Helper: compute realized std within each hour including all intra-hour returns\n",
    "# Note: The first return in an hour uses prev_price from prior hour boundary.\n",
    "# We also create a variant excluding that boundary-spanning return.\n",
    "\n",
    "def hourly_stats(group: pd.DataFrame):\n",
    "    # All returns in this hour (drop NaN from first overall row)\n",
    "    r_all = group['log_return'].dropna()\n",
    "    n_all = len(r_all)\n",
    "    std_all = r_all.std(ddof=1) if n_all > 1 else np.nan\n",
    "\n",
    "    # Exclude the first row of the hour (boundary) for alt measure\n",
    "    if n_all > 1:\n",
    "        # Identify the first non-null return's index within group\n",
    "        first_idx = r_all.index[0]\n",
    "        r_ex = r_all.drop(first_idx)\n",
    "    else:\n",
    "        r_ex = pd.Series(dtype=float)\n",
    "    n_ex = len(r_ex)\n",
    "    std_ex = r_ex.std(ddof=1) if n_ex > 1 else np.nan\n",
    "\n",
    "    return pd.Series({\n",
    "        'n_returns_all': n_all,\n",
    "        'realized_std_all': std_all,\n",
    "        'n_returns_ex_boundary': n_ex,\n",
    "        'realized_std_ex_boundary': std_ex,\n",
    "        'mean_log_return_all': r_all.mean() if n_all else np.nan,\n",
    "        'mean_log_return_ex_boundary': r_ex.mean() if n_ex else np.nan,\n",
    "    })\n",
    "\n",
    "hourly_realized = df.groupby('hour', as_index=False).apply(hourly_stats)\n",
    "\n",
    "# Optional: annualize / scale variants (not required yet)\n",
    "# realized_vol_per_hour = hourly_realized['realized_std_all']\n",
    "# If needed to convert to per-day (assuming 12 five-minute intervals per hour => 12 returns) etc.\n",
    "\n",
    "print(\"Computed hourly realized standard deviations (first 5 rows):\")\n",
    "hourly_realized.head()"
   ]
  },
  {
   "cell_type": "code",
   "execution_count": null,
   "id": "d7446d9e",
   "metadata": {},
   "outputs": [],
   "source": [
    "# Descriptive statistics of realized hourly std\n",
    "summary = hourly_realized[['realized_std_all','realized_std_ex_boundary']].describe().T\n",
    "print(summary)\n",
    "summary"
   ]
  },
  {
   "cell_type": "code",
   "execution_count": null,
   "id": "6593fbd5",
   "metadata": {},
   "outputs": [],
   "source": [
    "import plotly.graph_objects as go\n",
    "\n",
    "fig = go.Figure()\n",
    "fig.add_trace(go.Scatter(x=hourly_realized['hour'], y=hourly_realized['realized_std_all'],\n",
    "                         mode='lines', name='Realized Std (All Returns)', line=dict(color='blue')))\n",
    "fig.add_trace(go.Scatter(x=hourly_realized['hour'], y=hourly_realized['realized_std_ex_boundary'],\n",
    "                         mode='lines', name='Realized Std (Ex Boundary)', line=dict(color='orange')))\n",
    "fig.update_layout(title='BTC Hourly Realized Std of 5-Min Log Returns',\n",
    "                  xaxis_title='Hour (UTC)', yaxis_title='Realized Std',\n",
    "                  hovermode='x unified', height=450)\n",
    "fig.show(renderer='browser')"
   ]
  },
  {
   "cell_type": "code",
   "execution_count": null,
   "id": "109e222d",
   "metadata": {},
   "outputs": [],
   "source": [
    "# Aggregate realized std by clock hour of day (0-23)\n",
    "hourly_realized['clock_hour'] = hourly_realized['hour'].dt.hour\n",
    "clock_hour_stats = hourly_realized.groupby('clock_hour').agg(\n",
    "    mean_realized_std_all=('realized_std_all','mean'),\n",
    "    mean_realized_std_ex_boundary=('realized_std_ex_boundary','mean'),\n",
    "    count_hours=('hour','count')\n",
    ").reset_index()\n",
    "\n",
    "clock_hour_stats"
   ]
  },
  {
   "cell_type": "code",
   "execution_count": null,
   "id": "7b5900d5",
   "metadata": {},
   "outputs": [],
   "source": [
    "# Bar chart of average realized std by clock hour\n",
    "fig = go.Figure()\n",
    "fig.add_bar(x=clock_hour_stats['clock_hour'], y=clock_hour_stats['mean_realized_std_all'], name='All Returns')\n",
    "fig.add_bar(x=clock_hour_stats['clock_hour'], y=clock_hour_stats['mean_realized_std_ex_boundary'], name='Ex Boundary')\n",
    "fig.update_layout(barmode='group', title='Average Hourly Realized Std by Clock Hour (UTC)',\n",
    "                  xaxis_title='Clock Hour (UTC)', yaxis_title='Average Realized Std')\n",
    "fig.show(renderer='browser')"
   ]
  }
 ],
 "metadata": {
  "kernelspec": {
   "display_name": "polymarket-analysis-rlaaxbWf-py3.13",
   "language": "python",
   "name": "python3"
  },
  "language_info": {
   "codemirror_mode": {
    "name": "ipython",
    "version": 3
   },
   "file_extension": ".py",
   "mimetype": "text/x-python",
   "name": "python",
   "nbconvert_exporter": "python",
   "pygments_lexer": "ipython3",
   "version": "3.13.5"
  }
 },
 "nbformat": 4,
 "nbformat_minor": 5
}
