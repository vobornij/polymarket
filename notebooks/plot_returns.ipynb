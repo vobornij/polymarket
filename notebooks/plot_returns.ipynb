{
 "cells": [
  {
   "cell_type": "markdown",
   "id": "0ce42925",
   "metadata": {},
   "source": [
    "# Bitcoin Daily Prices & Log Returns\n",
    "\n",
    "This notebook:\n",
    "\n",
    "1. Downloads historical daily BTCUSDT prices from Binance using `Binance.load_bitcon_1d`.\n",
    "2. Stores the result in a pandas DataFrame.\n",
    "3. Computes daily log returns.\n",
    "4. Computes the cumulative average (mean to date) of daily log returns.\n",
    "5. Plots price and return series with Plotly.\n",
    "\n",
    "Adjust the date range below as needed."
   ]
  },
  {
   "cell_type": "code",
   "execution_count": 29,
   "id": "d5be768a",
   "metadata": {},
   "outputs": [
    {
     "name": "stdout",
     "output_type": "stream",
     "text": [
      "Fetching daily BTCUSDT data from 2024-10-18 to 2025-08-14 (300 days)\n",
      "Plot will be truncated at 2025-05-31\n"
     ]
    }
   ],
   "source": [
    "# Imports and date range\n",
    "from datetime import datetime, timedelta, timezone\n",
    "import pandas as pd\n",
    "import numpy as np\n",
    "import plotly.express as px\n",
    "import plotly.graph_objects as go\n",
    "from plotly.subplots import make_subplots  # <-- added\n",
    "\n",
    "from polymarket_analysis.data.binance import Binance\n",
    "\n",
    "# Parameters\n",
    "DAYS_BACK = 300  # change as needed\n",
    "END = datetime.now(timezone.utc).replace(hour=0, minute=0, second=0, microsecond=0)\n",
    "START = END - timedelta(days=DAYS_BACK)\n",
    "\n",
    "# Plot cutoff (inclusive) - stop plot in May 2025\n",
    "PLOT_END_DATE = datetime(2025, 5, 31, tzinfo=timezone.utc).date()\n",
    "\n",
    "print(f\"Fetching daily BTCUSDT data from {START.date()} to {END.date()} ({DAYS_BACK} days)\")\n",
    "print(f\"Plot will be truncated at {PLOT_END_DATE}\")"
   ]
  },
  {
   "cell_type": "code",
   "execution_count": 30,
   "id": "e1540411",
   "metadata": {},
   "outputs": [
    {
     "name": "stdout",
     "output_type": "stream",
     "text": [
      "               price\n",
      "date                \n",
      "2024-10-18  68428.00\n",
      "2024-10-19  68378.00\n",
      "2024-10-20  69031.99\n",
      "2024-10-21  67377.50\n",
      "2024-10-22  67426.00\n",
      "Loaded 301 daily rows\n"
     ]
    }
   ],
   "source": [
    "# Download data\n",
    "df = Binance.load_bitcon_1d(START, END)\n",
    "\n",
    "# Keep relevant columns, ensure proper types\n",
    "df = df[['timestamp','price']].copy()\n",
    "df = df.sort_values('timestamp')\n",
    "\n",
    "# Convert timestamp to date (UTC) for daily grouping\n",
    "df['date'] = df['timestamp'].dt.date\n",
    "\n",
    "# Daily close price (since interval is 1d we already have 1 row per day)\n",
    "daily = df[['date','price']].set_index('date')\n",
    "print(daily.head())\n",
    "print(f\"Loaded {len(daily)} daily rows\")"
   ]
  },
  {
   "cell_type": "code",
   "execution_count": 31,
   "id": "6b2c9b4d",
   "metadata": {},
   "outputs": [
    {
     "data": {
      "text/html": [
       "<div>\n",
       "<style scoped>\n",
       "    .dataframe tbody tr th:only-of-type {\n",
       "        vertical-align: middle;\n",
       "    }\n",
       "\n",
       "    .dataframe tbody tr th {\n",
       "        vertical-align: top;\n",
       "    }\n",
       "\n",
       "    .dataframe thead th {\n",
       "        text-align: right;\n",
       "    }\n",
       "</style>\n",
       "<table border=\"1\" class=\"dataframe\">\n",
       "  <thead>\n",
       "    <tr style=\"text-align: right;\">\n",
       "      <th></th>\n",
       "      <th>price</th>\n",
       "      <th>log_return</th>\n",
       "      <th>avg_log_return_forward</th>\n",
       "      <th>rolling_30d_log_return</th>\n",
       "    </tr>\n",
       "    <tr>\n",
       "      <th>date</th>\n",
       "      <th></th>\n",
       "      <th></th>\n",
       "      <th></th>\n",
       "      <th></th>\n",
       "    </tr>\n",
       "  </thead>\n",
       "  <tbody>\n",
       "    <tr>\n",
       "      <th>2025-08-10</th>\n",
       "      <td>119294.01</td>\n",
       "      <td>0.024024</td>\n",
       "      <td>0.002769</td>\n",
       "      <td>0.000497</td>\n",
       "    </tr>\n",
       "    <tr>\n",
       "      <th>2025-08-11</th>\n",
       "      <td>118686.00</td>\n",
       "      <td>-0.005110</td>\n",
       "      <td>-0.002545</td>\n",
       "      <td>0.000357</td>\n",
       "    </tr>\n",
       "    <tr>\n",
       "      <th>2025-08-12</th>\n",
       "      <td>120134.08</td>\n",
       "      <td>0.012127</td>\n",
       "      <td>-0.001690</td>\n",
       "      <td>0.000292</td>\n",
       "    </tr>\n",
       "    <tr>\n",
       "      <th>2025-08-13</th>\n",
       "      <td>123306.43</td>\n",
       "      <td>0.026064</td>\n",
       "      <td>-0.008598</td>\n",
       "      <td>0.000950</td>\n",
       "    </tr>\n",
       "    <tr>\n",
       "      <th>2025-08-14</th>\n",
       "      <td>118085.85</td>\n",
       "      <td>-0.043261</td>\n",
       "      <td>-0.043261</td>\n",
       "      <td>0.000093</td>\n",
       "    </tr>\n",
       "  </tbody>\n",
       "</table>\n",
       "</div>"
      ],
      "text/plain": [
       "                price  log_return  avg_log_return_forward  \\\n",
       "date                                                        \n",
       "2025-08-10  119294.01    0.024024                0.002769   \n",
       "2025-08-11  118686.00   -0.005110               -0.002545   \n",
       "2025-08-12  120134.08    0.012127               -0.001690   \n",
       "2025-08-13  123306.43    0.026064               -0.008598   \n",
       "2025-08-14  118085.85   -0.043261               -0.043261   \n",
       "\n",
       "            rolling_30d_log_return  \n",
       "date                                \n",
       "2025-08-10                0.000497  \n",
       "2025-08-11                0.000357  \n",
       "2025-08-12                0.000292  \n",
       "2025-08-13                0.000950  \n",
       "2025-08-14                0.000093  "
      ]
     },
     "execution_count": 31,
     "metadata": {},
     "output_type": "execute_result"
    }
   ],
   "source": [
    "# Compute daily log returns\n",
    "# log return r_t = ln(P_t / P_{t-1})\n",
    "daily['log_return'] = np.log(daily['price'] / daily['price'].shift(1))\n",
    "\n",
    "# Drop first NaN\n",
    "returns = daily.dropna().copy()\n",
    "\n",
    "# Forward-looking average log return from each day until the final day (today)\n",
    "# NOTE: This is an ex-post metric (not knowable on that past date in real time).\n",
    "returns['avg_log_return_forward'] = returns['log_return'][::-1].expanding().mean()[::-1]\n",
    "\n",
    "# 30-day rolling average (backward-looking) of daily log returns\n",
    "# Uses a simple moving average over the last 30 observations (approx 30 calendar days)\n",
    "returns['rolling_30d_log_return'] = returns['log_return'].rolling(30).mean()\n",
    "\n",
    "returns.tail()"
   ]
  },
  {
   "cell_type": "code",
   "execution_count": 32,
   "id": "80a9e9df",
   "metadata": {},
   "outputs": [],
   "source": [
    "# Plot with Plotly (price + forward average, truncated to May 2025)\n",
    "plot_returns = returns.loc[returns.index <= PLOT_END_DATE]\n",
    "\n",
    "fig = make_subplots(rows=2, cols=1, shared_xaxes=True, vertical_spacing=0.04,\n",
    "                    subplot_titles=(\"BTC Daily Close Price\", \"Avg Forward & 30D Rolling Log Return\") )\n",
    "\n",
    "# Row 1: Price\n",
    "fig.add_trace(go.Scatter(x=plot_returns.index, y=plot_returns['price'], name='Price', line=dict(color='#1f77b4')), row=1, col=1)\n",
    "\n",
    "# Row 2: Forward average log return\n",
    "fig.add_trace(go.Scatter(x=plot_returns.index, y=plot_returns['avg_log_return_forward'], name='Forward Avg Log Return', line=dict(color='#2ca02c')), row=2, col=1)\n",
    "\n",
    "# Row 2: 30-day rolling average\n",
    "fig.add_trace(go.Scatter(x=plot_returns.index, y=plot_returns['rolling_30d_log_return'], name='30D Rolling Log Return', line=dict(color='#d62728', dash='dash')), row=2, col=1)\n",
    "\n",
    "fig.update_layout(height=650, title='BTC Daily Price & Log Return Averages (through May 2025)', showlegend=True, legend=dict(orientation='h', yanchor='bottom', y=1.02, xanchor='right', x=1))\n",
    "fig.update_yaxes(title_text='Price (USDT)', row=1, col=1)\n",
    "fig.update_yaxes(title_text='Log Return', row=2, col=1)\n",
    "fig.show(renderer=\"browser\")"
   ]
  }
 ],
 "metadata": {
  "kernelspec": {
   "display_name": "polymarket-analysis-rlaaxbWf-py3.13",
   "language": "python",
   "name": "python3"
  },
  "language_info": {
   "codemirror_mode": {
    "name": "ipython",
    "version": 3
   },
   "file_extension": ".py",
   "mimetype": "text/x-python",
   "name": "python",
   "nbconvert_exporter": "python",
   "pygments_lexer": "ipython3",
   "version": "3.13.5"
  }
 },
 "nbformat": 4,
 "nbformat_minor": 5
}
