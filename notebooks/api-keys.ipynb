{
 "cells": [
  {
   "cell_type": "code",
   "execution_count": 11,
   "id": "ade12f39",
   "metadata": {},
   "outputs": [
    {
     "name": "stdout",
     "output_type": "stream",
     "text": [
      "deriving...\n"
     ]
    }
   ],
   "source": [
    "from py_clob_client.client import ClobClient\n",
    "from pathlib import Path\n",
    "\n",
    "\n",
    "host: str = \"https://clob.polymarket.com\"\n",
    "key: str = Path(\"/Users/kate/.secrets/polymarket_key\").read_text().strip() \n",
    "chain_id: int = 137 #No need to adjust this\n",
    "\n",
    "### Initialization of a client that trades directly from an EOA. \n",
    "# client = ClobClient(host, key=key, chain_id=chain_id)\n",
    "\n",
    "client = ClobClient(host, key=key, chain_id=chain_id, signature_type=1, funder=\"0x17eaa362893553bc35ff7955f3df341255f07838\")\n",
    "\n",
    "\n",
    "# print(\"creating...\")\n",
    "# print(client.create_api_key())\n",
    "\n",
    "print(\"deriving...\")\n",
    "api_creds = client.derive_api_key()\n",
    "\n",
    "# client.create_order"
   ]
  },
  {
   "cell_type": "code",
   "execution_count": 12,
   "id": "896d0771",
   "metadata": {},
   "outputs": [
    {
     "name": "stdout",
     "output_type": "stream",
     "text": [
      "{\n",
      "  \"api_key\": \"01bad0c0-a9ed-535b-6400-c10628f371d1\",\n",
      "  \"api_secret\": \"B4rOK0swEbEus7FbMHjKACHVpi6u-pTy68FrOaMTlrE=\",\n",
      "  \"api_passphrase\": \"fc85c2c123ef94e79235cb75f9284d8c3c342206223f1dc2f29aea4d1a2bb934\"\n",
      "}\n"
     ]
    }
   ],
   "source": [
    "import json\n",
    "\n",
    "\n",
    "api_creds_dict = {\n",
    "    'api_key': api_creds.api_key,\n",
    "    'api_secret': api_creds.api_secret,\n",
    "    'api_passphrase': api_creds.api_passphrase\n",
    "}\n",
    "\n",
    "print(json.dumps(api_creds_dict, indent=2))\n",
    "\n",
    "api_creds_path = Path(\"/Users/kate/.secrets/api_creds.json\")\n",
    "with open(api_creds_path, 'w') as f:\n",
    "    json.dump(api_creds_dict, f, indent=2)"
   ]
  },
  {
   "cell_type": "code",
   "execution_count": null,
   "id": "8352aaec",
   "metadata": {},
   "outputs": [
    {
     "name": "stdout",
     "output_type": "stream",
     "text": [
      "Signed Order: {signed_order}\n"
     ]
    }
   ],
   "source": [
    "from py_clob_client.clob_types import OrderArgs, OrderType, PartialCreateOrderOptions, TickSize\n",
    "from py_clob_client.order_builder.constants import BUY\n",
    "\n",
    "\n",
    "order_args = OrderArgs(\n",
    "    price=0.039,\n",
    "    size=75,\n",
    "    side=BUY,\n",
    "    token_id=\"94590870645398328591006040214534041508719638068332637015636239267133245387890\",\n",
    ")\n",
    "signed_order = client.create_order(order_args, \n",
    "                                   options=PartialCreateOrderOptions(neg_risk=True,\n",
    "                                                                     tick_size=\"0.001\"))\n",
    "\n",
    "print(\"Signed Order: {signed_order}\")"
   ]
  },
  {
   "cell_type": "code",
   "execution_count": 40,
   "id": "bb184872",
   "metadata": {},
   "outputs": [
    {
     "data": {
      "text/plain": [
       "[]"
      ]
     },
     "execution_count": 40,
     "metadata": {},
     "output_type": "execute_result"
    }
   ],
   "source": [
    "from py_clob_client.clob_types import OpenOrderParams\n",
    "\n",
    "client.set_api_creds(api_creds)\n",
    "\n",
    "resp = client.get_orders(\n",
    "    OpenOrderParams()\n",
    ")\n",
    "\n",
    "resp"
   ]
  },
  {
   "cell_type": "code",
   "execution_count": null,
   "id": "4ed8759c",
   "metadata": {},
   "outputs": [],
   "source": []
  },
  {
   "cell_type": "code",
   "execution_count": 41,
   "id": "10addc09",
   "metadata": {},
   "outputs": [
    {
     "data": {
      "text/plain": [
       "{'order': {'salt': 65484531,\n",
       "  'maker': '0x17EaA362893553bC35Ff7955f3Df341255F07838',\n",
       "  'signer': '0x876c93fF619596c24C00Ce512b41C221a40C6e81',\n",
       "  'taker': '0x0000000000000000000000000000000000000000',\n",
       "  'tokenId': '94590870645398328591006040214534041508719638068332637015636239267133245387890',\n",
       "  'makerAmount': '2925000',\n",
       "  'takerAmount': '75000000',\n",
       "  'expiration': '0',\n",
       "  'nonce': '0',\n",
       "  'feeRateBps': '0',\n",
       "  'side': 'BUY',\n",
       "  'signatureType': 1,\n",
       "  'signature': '0x8d361093a220b75d47d00af01e30f3346880e07ea858dd039176d903b474b3be0a2df3627edf6981e1011c37173a96b5d66dfa150bc506d512e7b3065df5cd2e1c'},\n",
       " 'owner': '01bad0c0-a9ed-535b-6400-c10628f371d1',\n",
       " 'orderType': 'FAK'}"
      ]
     },
     "execution_count": 41,
     "metadata": {},
     "output_type": "execute_result"
    }
   ],
   "source": [
    "from py_clob_client.client import order_to_json\n",
    "\n",
    "order_to_json(signed_order, client.creds.api_key, OrderType.FAK)"
   ]
  },
  {
   "cell_type": "code",
   "execution_count": 35,
   "id": "15740be9",
   "metadata": {},
   "outputs": [
    {
     "ename": "PolyApiException",
     "evalue": "PolyApiException[status_code=400, error_message={'error': 'not enough balance / allowance'}]",
     "output_type": "error",
     "traceback": [
      "\u001b[31m---------------------------------------------------------------------------\u001b[39m",
      "\u001b[31mPolyApiException\u001b[39m                          Traceback (most recent call last)",
      "\u001b[36mCell\u001b[39m\u001b[36m \u001b[39m\u001b[32mIn[35]\u001b[39m\u001b[32m, line 1\u001b[39m\n\u001b[32m----> \u001b[39m\u001b[32m1\u001b[39m \u001b[43mclient\u001b[49m\u001b[43m.\u001b[49m\u001b[43mpost_order\u001b[49m\u001b[43m(\u001b[49m\u001b[43msigned_order\u001b[49m\u001b[43m,\u001b[49m\u001b[43m \u001b[49m\u001b[43morderType\u001b[49m\u001b[43m=\u001b[49m\u001b[43mOrderType\u001b[49m\u001b[43m.\u001b[49m\u001b[43mFAK\u001b[49m\u001b[43m)\u001b[49m\n",
      "\u001b[36mFile \u001b[39m\u001b[32m~/Library/Caches/pypoetry/virtualenvs/polymarket-analysis-rlaaxbWf-py3.13/lib/python3.13/site-packages/py_clob_client/client.py:452\u001b[39m, in \u001b[36mClobClient.post_order\u001b[39m\u001b[34m(self, order, orderType)\u001b[39m\n\u001b[32m    446\u001b[39m body = order_to_json(order, \u001b[38;5;28mself\u001b[39m.creds.api_key, orderType)\n\u001b[32m    447\u001b[39m headers = create_level_2_headers(\n\u001b[32m    448\u001b[39m     \u001b[38;5;28mself\u001b[39m.signer,\n\u001b[32m    449\u001b[39m     \u001b[38;5;28mself\u001b[39m.creds,\n\u001b[32m    450\u001b[39m     RequestArgs(method=\u001b[33m\"\u001b[39m\u001b[33mPOST\u001b[39m\u001b[33m\"\u001b[39m, request_path=POST_ORDER, body=body),\n\u001b[32m    451\u001b[39m )\n\u001b[32m--> \u001b[39m\u001b[32m452\u001b[39m \u001b[38;5;28;01mreturn\u001b[39;00m \u001b[43mpost\u001b[49m\u001b[43m(\u001b[49m\u001b[33;43m\"\u001b[39;49m\u001b[38;5;132;43;01m{}\u001b[39;49;00m\u001b[38;5;132;43;01m{}\u001b[39;49;00m\u001b[33;43m\"\u001b[39;49m\u001b[43m.\u001b[49m\u001b[43mformat\u001b[49m\u001b[43m(\u001b[49m\u001b[38;5;28;43mself\u001b[39;49m\u001b[43m.\u001b[49m\u001b[43mhost\u001b[49m\u001b[43m,\u001b[49m\u001b[43m \u001b[49m\u001b[43mPOST_ORDER\u001b[49m\u001b[43m)\u001b[49m\u001b[43m,\u001b[49m\u001b[43m \u001b[49m\u001b[43mheaders\u001b[49m\u001b[43m=\u001b[49m\u001b[43mheaders\u001b[49m\u001b[43m,\u001b[49m\u001b[43m \u001b[49m\u001b[43mdata\u001b[49m\u001b[43m=\u001b[49m\u001b[43mbody\u001b[49m\u001b[43m)\u001b[49m\n",
      "\u001b[36mFile \u001b[39m\u001b[32m~/Library/Caches/pypoetry/virtualenvs/polymarket-analysis-rlaaxbWf-py3.13/lib/python3.13/site-packages/py_clob_client/http_helpers/helpers.py:54\u001b[39m, in \u001b[36mpost\u001b[39m\u001b[34m(endpoint, headers, data)\u001b[39m\n\u001b[32m     53\u001b[39m \u001b[38;5;28;01mdef\u001b[39;00m\u001b[38;5;250m \u001b[39m\u001b[34mpost\u001b[39m(endpoint, headers=\u001b[38;5;28;01mNone\u001b[39;00m, data=\u001b[38;5;28;01mNone\u001b[39;00m):\n\u001b[32m---> \u001b[39m\u001b[32m54\u001b[39m     \u001b[38;5;28;01mreturn\u001b[39;00m \u001b[43mrequest\u001b[49m\u001b[43m(\u001b[49m\u001b[43mendpoint\u001b[49m\u001b[43m,\u001b[49m\u001b[43m \u001b[49m\u001b[43mPOST\u001b[49m\u001b[43m,\u001b[49m\u001b[43m \u001b[49m\u001b[43mheaders\u001b[49m\u001b[43m,\u001b[49m\u001b[43m \u001b[49m\u001b[43mdata\u001b[49m\u001b[43m)\u001b[49m\n",
      "\u001b[36mFile \u001b[39m\u001b[32m~/Library/Caches/pypoetry/virtualenvs/polymarket-analysis-rlaaxbWf-py3.13/lib/python3.13/site-packages/py_clob_client/http_helpers/helpers.py:42\u001b[39m, in \u001b[36mrequest\u001b[39m\u001b[34m(endpoint, method, headers, data)\u001b[39m\n\u001b[32m     38\u001b[39m resp = requests.request(\n\u001b[32m     39\u001b[39m     method=method, url=endpoint, headers=headers, json=data \u001b[38;5;28;01mif\u001b[39;00m data \u001b[38;5;28;01melse\u001b[39;00m \u001b[38;5;28;01mNone\u001b[39;00m\n\u001b[32m     40\u001b[39m )\n\u001b[32m     41\u001b[39m \u001b[38;5;28;01mif\u001b[39;00m resp.status_code != \u001b[32m200\u001b[39m:\n\u001b[32m---> \u001b[39m\u001b[32m42\u001b[39m     \u001b[38;5;28;01mraise\u001b[39;00m PolyApiException(resp)\n\u001b[32m     44\u001b[39m \u001b[38;5;28;01mtry\u001b[39;00m:\n\u001b[32m     45\u001b[39m     \u001b[38;5;28;01mreturn\u001b[39;00m resp.json()\n",
      "\u001b[31mPolyApiException\u001b[39m: PolyApiException[status_code=400, error_message={'error': 'not enough balance / allowance'}]"
     ]
    }
   ],
   "source": [
    "client.post_order(signed_order, orderType=OrderType.FAK)"
   ]
  }
 ],
 "metadata": {
  "kernelspec": {
   "display_name": "polymarket-analysis-rlaaxbWf-py3.13",
   "language": "python",
   "name": "python3"
  },
  "language_info": {
   "codemirror_mode": {
    "name": "ipython",
    "version": 3
   },
   "file_extension": ".py",
   "mimetype": "text/x-python",
   "name": "python",
   "nbconvert_exporter": "python",
   "pygments_lexer": "ipython3",
   "version": "3.13.5"
  }
 },
 "nbformat": 4,
 "nbformat_minor": 5
}
