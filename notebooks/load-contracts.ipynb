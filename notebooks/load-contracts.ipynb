{
 "cells": [
  {
   "cell_type": "code",
   "execution_count": 1,
   "id": "1747f315",
   "metadata": {},
   "outputs": [
    {
     "name": "stdout",
     "output_type": "stream",
     "text": [
      "Loaded 45616 markets.\n"
     ]
    }
   ],
   "source": [
    "from polymarket_analysis.data.markets import load_raw_markets\n",
    "\n",
    "raw_markets = load_raw_markets()\n",
    "\n",
    "print(f\"Loaded {len(raw_markets)} markets.\")"
   ]
  },
  {
   "cell_type": "code",
   "execution_count": 2,
   "id": "04f51816",
   "metadata": {},
   "outputs": [],
   "source": [
    "from polymarket_analysis.data.contract_loader import ContractLoader\n",
    "\n",
    "# contracts = ContractLoader().load_crypto_contracts(raw_markets)"
   ]
  },
  {
   "cell_type": "code",
   "execution_count": 17,
   "id": "de7390e6",
   "metadata": {},
   "outputs": [
    {
     "data": {
      "text/plain": [
       "292"
      ]
     },
     "execution_count": 17,
     "metadata": {},
     "output_type": "execute_result"
    }
   ],
   "source": [
    "import pandas as pd\n",
    "from datetime import datetime\n",
    "\n",
    "def _filter_btc_markets(raw_markets: pd.DataFrame) -> pd.DataFrame:\n",
    "    filtered_markets = raw_markets[\n",
    "        (raw_markets['tags'].apply(lambda x: \n",
    "                                'Crypto Prices' in x\n",
    "                                    and 'Bitcoin' in x\n",
    "                                    # and not 'Ethereum' in x \n",
    "                                    if x else False))\n",
    "                                    & \n",
    "        (raw_markets['accepting_order_timestamp'] > datetime(2025, 5, 1).isoformat())\n",
    "        # & (~raw_markets['market_slug'].str.contains('reach'))\n",
    "        # & (~raw_markets['market_slug'].str.contains('dip'))\n",
    "        # & (~raw_markets['market_slug'].str.contains('hit'))\n",
    "        # & (~raw_markets['market_slug'].str.contains('all-time-high'))\n",
    "        # & (~raw_markets['market_slug'].str.contains('up-or-down'))\n",
    "        # & (raw_markets['description'].str.contains('Binance 1 minute candle'))\n",
    "        & (~raw_markets['description'].str.contains('ET'))\n",
    "    ].dropna(subset=['end_date_iso']).copy().sort_values(by='accepting_order_timestamp')\n",
    "\n",
    "    return filtered_markets\n",
    "\n",
    "btc_markets = _filter_btc_markets(raw_markets)\n",
    "len(btc_markets)"
   ]
  },
  {
   "cell_type": "code",
   "execution_count": 21,
   "id": "8c449c58",
   "metadata": {},
   "outputs": [
    {
     "data": {
      "text/plain": [
       "{'enable_order_book': {42892: False},\n",
       " 'active': {42892: True},\n",
       " 'closed': {42892: True},\n",
       " 'archived': {42892: False},\n",
       " 'accepting_orders': {42892: False},\n",
       " 'accepting_order_timestamp': {42892: '2025-06-06T19:10:19Z'},\n",
       " 'minimum_order_size': {42892: 5},\n",
       " 'minimum_tick_size': {42892: 0.001},\n",
       " 'condition_id': {42892: '0x8e91b1c07f665d562c995a00b4c947399aabeb5cf99c62ee220c5eaaf865487f'},\n",
       " 'question_id': {42892: '0xcaf25eca95ace8b819029bc2538f6c02a41bd81ca50c2a04bd7c47498497f10e'},\n",
       " 'question': {42892: 'Bitcoin Up or Down - June 9, 12 AM ET'},\n",
       " 'description': {42892: 'This market will resolve to “Up” if the change for BTC/USDT, measured in percentage, is greater than or equal to 0 for the 1 hour candle that begins on the time and date specified in the title. Otherwise, this market will resolve to “Down”.\\n\\nThe resolution source for this market is information from Binance, specifically the BTC/USDT pair (https://www.binance.com/en/trade/BTC_USDT?type=spot). The change value displayed at the top of the graph for the relevant “1H” candle will be used once the data for that candle is finalized.\\n\\nPlease note that this market is about the price according to Binance BTC/USDT, not according to other sources or spot markets'},\n",
       " 'market_slug': {42892: 'bitcoin-up-or-down-june-9-12-am-et-465'},\n",
       " 'end_date_iso': {42892: '2025-06-09T00:00:00Z'},\n",
       " 'game_start_time': {42892: None},\n",
       " 'seconds_delay': {42892: 0},\n",
       " 'fpmm': {42892: ''},\n",
       " 'maker_base_fee': {42892: 0},\n",
       " 'taker_base_fee': {42892: 0},\n",
       " 'notifications_enabled': {42892: True},\n",
       " 'neg_risk': {42892: False},\n",
       " 'neg_risk_market_id': {42892: ''},\n",
       " 'neg_risk_request_id': {42892: ''},\n",
       " 'icon': {42892: 'https://polymarket-upload.s3.us-east-2.amazonaws.com/BTC+fullsize.png'},\n",
       " 'image': {42892: 'https://polymarket-upload.s3.us-east-2.amazonaws.com/BTC+fullsize.png'},\n",
       " 'rewards': {42892: {'rates': None, 'min_size': 0, 'max_spread': 0}},\n",
       " 'is_50_50_outcome': {42892: False},\n",
       " 'tokens': {42892: [{'token_id': '93126833708544670322728895634727937198860253493606297304749057200463056329156',\n",
       "    'outcome': 'Up',\n",
       "    'price': 0,\n",
       "    'winner': False},\n",
       "   {'token_id': '17830219083826398092294568277288170888871700241154757922735822615762373488686',\n",
       "    'outcome': 'Down',\n",
       "    'price': 1,\n",
       "    'winner': True}]},\n",
       " 'tags': {42892: ['Crypto',\n",
       "   'Bitcoin',\n",
       "   'Crypto Prices',\n",
       "   'Recurring',\n",
       "   'Hide From New',\n",
       "   '1H']}}"
      ]
     },
     "execution_count": 21,
     "metadata": {},
     "output_type": "execute_result"
    }
   ],
   "source": [
    "btc_markets.head(1).to_dict()"
   ]
  },
  {
   "cell_type": "code",
   "execution_count": 19,
   "id": "a9807beb",
   "metadata": {},
   "outputs": [
    {
     "data": {
      "text/html": [
       "<div>\n",
       "<style scoped>\n",
       "    .dataframe tbody tr th:only-of-type {\n",
       "        vertical-align: middle;\n",
       "    }\n",
       "\n",
       "    .dataframe tbody tr th {\n",
       "        vertical-align: top;\n",
       "    }\n",
       "\n",
       "    .dataframe thead th {\n",
       "        text-align: right;\n",
       "    }\n",
       "</style>\n",
       "<table border=\"1\" class=\"dataframe\">\n",
       "  <thead>\n",
       "    <tr style=\"text-align: right;\">\n",
       "      <th></th>\n",
       "      <th>market_slug</th>\n",
       "      <th>description</th>\n",
       "      <th>end_date_iso</th>\n",
       "      <th>accepting_order_timestamp</th>\n",
       "    </tr>\n",
       "  </thead>\n",
       "  <tbody>\n",
       "    <tr>\n",
       "      <th>42892</th>\n",
       "      <td>bitcoin-up-or-down-june-9-12-am-et-465</td>\n",
       "      <td>This market will resolve to “Up” if the change for BTC/USDT, measured in percentage, is greater than or equal to 0 for the 1 hour candle that begins on the time and date specified in the title. Otherwise, this market will resolve to “Down”.\\n\\nThe resolution source for this market is information from Binance, specifically the BTC/USDT pair (https://www.binance.com/en/trade/BTC_USDT?type=spot). The change value displayed at the top of the graph for the relevant “1H” candle will be used once the data for that candle is finalized.\\n\\nPlease note that this market is about the price according to Binance BTC/USDT, not according to other sources or spot markets</td>\n",
       "      <td>2025-06-09T00:00:00Z</td>\n",
       "      <td>2025-06-06T19:10:19Z</td>\n",
       "    </tr>\n",
       "    <tr>\n",
       "      <th>42945</th>\n",
       "      <td>bitcoin-up-or-down-june-9-1-am-et</td>\n",
       "      <td>This market will resolve to “Up” if the change for BTC/USDT, measured in percentage, is greater than or equal to 0 for the 1 hour candle that begins on the time and date specified in the title. Otherwise, this market will resolve to “Down”.\\n\\nThe resolution source for this market is information from Binance, specifically the BTC/USDT pair (https://www.binance.com/en/trade/BTC_USDT?type=spot). The change value displayed at the top of the graph for the relevant “1H” candle will be used once the data for that candle is finalized.\\n\\nPlease note that this market is about the price according to Binance BTC/USDT, not according to other sources or spot markets</td>\n",
       "      <td>2025-06-09T00:00:00Z</td>\n",
       "      <td>2025-06-06T19:10:39Z</td>\n",
       "    </tr>\n",
       "    <tr>\n",
       "      <th>42687</th>\n",
       "      <td>bitcoin-up-or-down-june-10-3-pm-et</td>\n",
       "      <td>This market will resolve to “Up” if the change for BTC/USDT, measured in percentage, is greater than or equal to 0 for the 1 hour candle that begins on the time and date specified in the title. Otherwise, this market will resolve to “Down”.\\n\\nThe resolution source for this market is information from Binance, specifically the BTC/USDT pair (https://www.binance.com/en/trade/BTC_USDT?type=spot). The change value displayed at the top of the graph for the relevant “1H” candle will be used once the data for that candle is finalized.\\n\\nPlease note that this market is about the price according to Binance BTC/USDT, not according to other sources or spot markets</td>\n",
       "      <td>2025-06-10T00:00:00Z</td>\n",
       "      <td>2025-06-06T19:11:01Z</td>\n",
       "    </tr>\n",
       "    <tr>\n",
       "      <th>42582</th>\n",
       "      <td>bitcoin-up-or-down-june-9-2-am-et</td>\n",
       "      <td>This market will resolve to “Up” if the change for BTC/USDT, measured in percentage, is greater than or equal to 0 for the 1 hour candle that begins on the time and date specified in the title. Otherwise, this market will resolve to “Down”.\\n\\nThe resolution source for this market is information from Binance, specifically the BTC/USDT pair (https://www.binance.com/en/trade/BTC_USDT?type=spot). The change value displayed at the top of the graph for the relevant “1H” candle will be used once the data for that candle is finalized.\\n\\nPlease note that this market is about the price according to Binance BTC/USDT, not according to other sources or spot markets</td>\n",
       "      <td>2025-06-09T00:00:00Z</td>\n",
       "      <td>2025-06-06T19:11:01Z</td>\n",
       "    </tr>\n",
       "    <tr>\n",
       "      <th>42784</th>\n",
       "      <td>bitcoin-up-or-down-june-9-3-am-et</td>\n",
       "      <td>This market will resolve to “Up” if the change for BTC/USDT, measured in percentage, is greater than or equal to 0 for the 1 hour candle that begins on the time and date specified in the title. Otherwise, this market will resolve to “Down”.\\n\\nThe resolution source for this market is information from Binance, specifically the BTC/USDT pair (https://www.binance.com/en/trade/BTC_USDT?type=spot). The change value displayed at the top of the graph for the relevant “1H” candle will be used once the data for that candle is finalized.\\n\\nPlease note that this market is about the price according to Binance BTC/USDT, not according to other sources or spot markets</td>\n",
       "      <td>2025-06-09T00:00:00Z</td>\n",
       "      <td>2025-06-06T19:13:39Z</td>\n",
       "    </tr>\n",
       "    <tr>\n",
       "      <th>42762</th>\n",
       "      <td>bitcoin-up-or-down-june-9-4-am-et</td>\n",
       "      <td>This market will resolve to “Up” if the change for BTC/USDT, measured in percentage, is greater than or equal to 0 for the 1 hour candle that begins on the time and date specified in the title. Otherwise, this market will resolve to “Down”.\\n\\nThe resolution source for this market is information from Binance, specifically the BTC/USDT pair (https://www.binance.com/en/trade/BTC_USDT?type=spot). The change value displayed at the top of the graph for the relevant “1H” candle will be used once the data for that candle is finalized.\\n\\nPlease note that this market is about the price according to Binance BTC/USDT, not according to other sources or spot markets</td>\n",
       "      <td>2025-06-09T00:00:00Z</td>\n",
       "      <td>2025-06-06T19:14:39Z</td>\n",
       "    </tr>\n",
       "    <tr>\n",
       "      <th>42735</th>\n",
       "      <td>bitcoin-up-or-down-june-9-5-am-et</td>\n",
       "      <td>This market will resolve to “Up” if the change for BTC/USDT, measured in percentage, is greater than or equal to 0 for the 1 hour candle that begins on the time and date specified in the title. Otherwise, this market will resolve to “Down”.\\n\\nThe resolution source for this market is information from Binance, specifically the BTC/USDT pair (https://www.binance.com/en/trade/BTC_USDT?type=spot). The change value displayed at the top of the graph for the relevant “1H” candle will be used once the data for that candle is finalized.\\n\\nPlease note that this market is about the price according to Binance BTC/USDT, not according to other sources or spot markets</td>\n",
       "      <td>2025-06-10T00:00:00Z</td>\n",
       "      <td>2025-06-06T19:14:59Z</td>\n",
       "    </tr>\n",
       "    <tr>\n",
       "      <th>42821</th>\n",
       "      <td>bitcoin-up-or-down-june-9-7-am-et</td>\n",
       "      <td>This market will resolve to “Up” if the change for BTC/USDT, measured in percentage, is greater than or equal to 0 for the 1 hour candle that begins on the time and date specified in the title. Otherwise, this market will resolve to “Down”.\\n\\nThe resolution source for this market is information from Binance, specifically the BTC/USDT pair (https://www.binance.com/en/trade/BTC_USDT?type=spot). The change value displayed at the top of the graph for the relevant “1H” candle will be used once the data for that candle is finalized.\\n\\nPlease note that this market is about the price according to Binance BTC/USDT, not according to other sources or spot markets</td>\n",
       "      <td>2025-06-09T00:00:00Z</td>\n",
       "      <td>2025-06-06T19:15:19Z</td>\n",
       "    </tr>\n",
       "    <tr>\n",
       "      <th>42672</th>\n",
       "      <td>bitcoin-up-or-down-june-9-6-am-et</td>\n",
       "      <td>This market will resolve to “Up” if the change for BTC/USDT, measured in percentage, is greater than or equal to 0 for the 1 hour candle that begins on the time and date specified in the title. Otherwise, this market will resolve to “Down”.\\n\\nThe resolution source for this market is information from Binance, specifically the BTC/USDT pair (https://www.binance.com/en/trade/BTC_USDT?type=spot). The change value displayed at the top of the graph for the relevant “1H” candle will be used once the data for that candle is finalized.\\n\\nPlease note that this market is about the price according to Binance BTC/USDT, not according to other sources or spot markets</td>\n",
       "      <td>2025-06-09T00:00:00Z</td>\n",
       "      <td>2025-06-06T19:15:19Z</td>\n",
       "    </tr>\n",
       "    <tr>\n",
       "      <th>42932</th>\n",
       "      <td>bitcoin-up-or-down-june-9-9-am-et</td>\n",
       "      <td>This market will resolve to “Up” if the change for BTC/USDT, measured in percentage, is greater than or equal to 0 for the 1 hour candle that begins on the time and date specified in the title. Otherwise, this market will resolve to “Down”.\\n\\nThe resolution source for this market is information from Binance, specifically the BTC/USDT pair (https://www.binance.com/en/trade/BTC_USDT?type=spot). The change value displayed at the top of the graph for the relevant “1H” candle will be used once the data for that candle is finalized.\\n\\nPlease note that this market is about the price according to Binance BTC/USDT, not according to other sources or spot markets</td>\n",
       "      <td>2025-06-09T00:00:00Z</td>\n",
       "      <td>2025-06-06T19:15:35Z</td>\n",
       "    </tr>\n",
       "  </tbody>\n",
       "</table>\n",
       "</div>"
      ],
      "text/plain": [
       "                                  market_slug  \\\n",
       "42892  bitcoin-up-or-down-june-9-12-am-et-465   \n",
       "42945       bitcoin-up-or-down-june-9-1-am-et   \n",
       "42687      bitcoin-up-or-down-june-10-3-pm-et   \n",
       "42582       bitcoin-up-or-down-june-9-2-am-et   \n",
       "42784       bitcoin-up-or-down-june-9-3-am-et   \n",
       "42762       bitcoin-up-or-down-june-9-4-am-et   \n",
       "42735       bitcoin-up-or-down-june-9-5-am-et   \n",
       "42821       bitcoin-up-or-down-june-9-7-am-et   \n",
       "42672       bitcoin-up-or-down-june-9-6-am-et   \n",
       "42932       bitcoin-up-or-down-june-9-9-am-et   \n",
       "\n",
       "                                                                                                                                                                                                                                                                                                                                                                                                                                                                                                                                                                                                                                                                                  description  \\\n",
       "42892  This market will resolve to “Up” if the change for BTC/USDT, measured in percentage, is greater than or equal to 0 for the 1 hour candle that begins on the time and date specified in the title. Otherwise, this market will resolve to “Down”.\\n\\nThe resolution source for this market is information from Binance, specifically the BTC/USDT pair (https://www.binance.com/en/trade/BTC_USDT?type=spot). The change value displayed at the top of the graph for the relevant “1H” candle will be used once the data for that candle is finalized.\\n\\nPlease note that this market is about the price according to Binance BTC/USDT, not according to other sources or spot markets   \n",
       "42945  This market will resolve to “Up” if the change for BTC/USDT, measured in percentage, is greater than or equal to 0 for the 1 hour candle that begins on the time and date specified in the title. Otherwise, this market will resolve to “Down”.\\n\\nThe resolution source for this market is information from Binance, specifically the BTC/USDT pair (https://www.binance.com/en/trade/BTC_USDT?type=spot). The change value displayed at the top of the graph for the relevant “1H” candle will be used once the data for that candle is finalized.\\n\\nPlease note that this market is about the price according to Binance BTC/USDT, not according to other sources or spot markets   \n",
       "42687  This market will resolve to “Up” if the change for BTC/USDT, measured in percentage, is greater than or equal to 0 for the 1 hour candle that begins on the time and date specified in the title. Otherwise, this market will resolve to “Down”.\\n\\nThe resolution source for this market is information from Binance, specifically the BTC/USDT pair (https://www.binance.com/en/trade/BTC_USDT?type=spot). The change value displayed at the top of the graph for the relevant “1H” candle will be used once the data for that candle is finalized.\\n\\nPlease note that this market is about the price according to Binance BTC/USDT, not according to other sources or spot markets   \n",
       "42582  This market will resolve to “Up” if the change for BTC/USDT, measured in percentage, is greater than or equal to 0 for the 1 hour candle that begins on the time and date specified in the title. Otherwise, this market will resolve to “Down”.\\n\\nThe resolution source for this market is information from Binance, specifically the BTC/USDT pair (https://www.binance.com/en/trade/BTC_USDT?type=spot). The change value displayed at the top of the graph for the relevant “1H” candle will be used once the data for that candle is finalized.\\n\\nPlease note that this market is about the price according to Binance BTC/USDT, not according to other sources or spot markets   \n",
       "42784  This market will resolve to “Up” if the change for BTC/USDT, measured in percentage, is greater than or equal to 0 for the 1 hour candle that begins on the time and date specified in the title. Otherwise, this market will resolve to “Down”.\\n\\nThe resolution source for this market is information from Binance, specifically the BTC/USDT pair (https://www.binance.com/en/trade/BTC_USDT?type=spot). The change value displayed at the top of the graph for the relevant “1H” candle will be used once the data for that candle is finalized.\\n\\nPlease note that this market is about the price according to Binance BTC/USDT, not according to other sources or spot markets   \n",
       "42762  This market will resolve to “Up” if the change for BTC/USDT, measured in percentage, is greater than or equal to 0 for the 1 hour candle that begins on the time and date specified in the title. Otherwise, this market will resolve to “Down”.\\n\\nThe resolution source for this market is information from Binance, specifically the BTC/USDT pair (https://www.binance.com/en/trade/BTC_USDT?type=spot). The change value displayed at the top of the graph for the relevant “1H” candle will be used once the data for that candle is finalized.\\n\\nPlease note that this market is about the price according to Binance BTC/USDT, not according to other sources or spot markets   \n",
       "42735  This market will resolve to “Up” if the change for BTC/USDT, measured in percentage, is greater than or equal to 0 for the 1 hour candle that begins on the time and date specified in the title. Otherwise, this market will resolve to “Down”.\\n\\nThe resolution source for this market is information from Binance, specifically the BTC/USDT pair (https://www.binance.com/en/trade/BTC_USDT?type=spot). The change value displayed at the top of the graph for the relevant “1H” candle will be used once the data for that candle is finalized.\\n\\nPlease note that this market is about the price according to Binance BTC/USDT, not according to other sources or spot markets   \n",
       "42821  This market will resolve to “Up” if the change for BTC/USDT, measured in percentage, is greater than or equal to 0 for the 1 hour candle that begins on the time and date specified in the title. Otherwise, this market will resolve to “Down”.\\n\\nThe resolution source for this market is information from Binance, specifically the BTC/USDT pair (https://www.binance.com/en/trade/BTC_USDT?type=spot). The change value displayed at the top of the graph for the relevant “1H” candle will be used once the data for that candle is finalized.\\n\\nPlease note that this market is about the price according to Binance BTC/USDT, not according to other sources or spot markets   \n",
       "42672  This market will resolve to “Up” if the change for BTC/USDT, measured in percentage, is greater than or equal to 0 for the 1 hour candle that begins on the time and date specified in the title. Otherwise, this market will resolve to “Down”.\\n\\nThe resolution source for this market is information from Binance, specifically the BTC/USDT pair (https://www.binance.com/en/trade/BTC_USDT?type=spot). The change value displayed at the top of the graph for the relevant “1H” candle will be used once the data for that candle is finalized.\\n\\nPlease note that this market is about the price according to Binance BTC/USDT, not according to other sources or spot markets   \n",
       "42932  This market will resolve to “Up” if the change for BTC/USDT, measured in percentage, is greater than or equal to 0 for the 1 hour candle that begins on the time and date specified in the title. Otherwise, this market will resolve to “Down”.\\n\\nThe resolution source for this market is information from Binance, specifically the BTC/USDT pair (https://www.binance.com/en/trade/BTC_USDT?type=spot). The change value displayed at the top of the graph for the relevant “1H” candle will be used once the data for that candle is finalized.\\n\\nPlease note that this market is about the price according to Binance BTC/USDT, not according to other sources or spot markets   \n",
       "\n",
       "               end_date_iso accepting_order_timestamp  \n",
       "42892  2025-06-09T00:00:00Z      2025-06-06T19:10:19Z  \n",
       "42945  2025-06-09T00:00:00Z      2025-06-06T19:10:39Z  \n",
       "42687  2025-06-10T00:00:00Z      2025-06-06T19:11:01Z  \n",
       "42582  2025-06-09T00:00:00Z      2025-06-06T19:11:01Z  \n",
       "42784  2025-06-09T00:00:00Z      2025-06-06T19:13:39Z  \n",
       "42762  2025-06-09T00:00:00Z      2025-06-06T19:14:39Z  \n",
       "42735  2025-06-10T00:00:00Z      2025-06-06T19:14:59Z  \n",
       "42821  2025-06-09T00:00:00Z      2025-06-06T19:15:19Z  \n",
       "42672  2025-06-09T00:00:00Z      2025-06-06T19:15:19Z  \n",
       "42932  2025-06-09T00:00:00Z      2025-06-06T19:15:35Z  "
      ]
     },
     "execution_count": 19,
     "metadata": {},
     "output_type": "execute_result"
    }
   ],
   "source": [
    "pd.set_option('display.max_colwidth', None)\n",
    "\n",
    "btc_markets[['market_slug', 'description', 'end_date_iso', 'accepting_order_timestamp']].head(10)"
   ]
  }
 ],
 "metadata": {
  "kernelspec": {
   "display_name": "polymarket-analysis-rlaaxbWf-py3.13",
   "language": "python",
   "name": "python3"
  },
  "language_info": {
   "codemirror_mode": {
    "name": "ipython",
    "version": 3
   },
   "file_extension": ".py",
   "mimetype": "text/x-python",
   "name": "python",
   "nbconvert_exporter": "python",
   "pygments_lexer": "ipython3",
   "version": "3.13.5"
  }
 },
 "nbformat": 4,
 "nbformat_minor": 5
}
