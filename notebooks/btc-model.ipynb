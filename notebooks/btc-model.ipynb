{
 "cells": [
  {
   "cell_type": "code",
   "execution_count": null,
   "id": "01ddbb73",
   "metadata": {},
   "outputs": [],
   "source": [
    "from polymarket_analysis.data.binance import Binance\n",
    "\n",
    "from datetime import datetime\n",
    "\n",
    "from_date = datetime.fromisoformat(\"2025-06-01\")\n",
    "to_date = datetime.fromisoformat(\"2025-06-05\")\n",
    "\n"
   ]
  },
  {
   "cell_type": "code",
   "execution_count": null,
   "id": "9d0f0617",
   "metadata": {},
   "outputs": [],
   "source": [
    "# btc_df = Binance.load_bitcon_5min(\n",
    "#     from_date=from_date, \n",
    "#     to_date=to_date\n",
    "# )"
   ]
  },
  {
   "cell_type": "code",
   "execution_count": null,
   "id": "036b0cce",
   "metadata": {},
   "outputs": [],
   "source": [
    "from polymarket_analysis.analytics.gbm_param_estimator import GBMParameterEstimator\n",
    "\n",
    "# Initialize estimator\n",
    "gbm = GBMParameterEstimator(symbol=\"BTC-USD\", period=\"1y\")\n",
    "\n",
    "gbm.fetch_data()\n",
    "# Fetch data and estimate parameters\n",
    "gbm.calculate_returns()\n",
    "params = gbm.estimate_parameters()\n",
    "\n",
    "# Print parameter summary\n",
    "summary = gbm.get_parameters_summary()\n",
    "print(\"\\n=== GBM Parameter Estimation for Bitcoin ===\")\n",
    "print(f\"Symbol: {summary['symbol']}\")\n",
    "print(f\"Period: {summary['period']}\")\n",
    "print(f\"Observations: {summary['n_observations']}\")\n",
    "print(f\"Current Price: ${summary['current_price']:.2f}\")\n",
    "print(f\"\\nEstimated Parameters:\")\n",
    "print(f\"Annualized Drift (μ): {summary['annualized_drift']:.4f} ({summary['annualized_drift']:.2%})\")\n",
    "print(f\"Annualized Volatility (σ): {summary['annualized_volatility']:.4f} ({summary['annualized_volatility']:.2%})\")\n",
    "print(f\"Sharpe Ratio: {summary['sharpe_ratio']:.4f}\")\n",
    "\n",
    "# Example probability analysis\n",
    "current_price = summary['current_price']\n",
    "target_price = current_price * 1.1  # 10% increase\n",
    "days_ahead = 30\n",
    "\n",
    "prob_analysis = gbm.probability_analysis(target_price, current_price, days_ahead)\n",
    "\n",
    "print(f\"\\n=== Probability Analysis ===\")\n",
    "print(f\"Current Price: ${prob_analysis['current_price']:.2f}\")\n",
    "print(f\"Target Price: ${prob_analysis['target_price']:.2f} ({((target_price/current_price-1)*100):+.1f}%)\")\n",
    "print(f\"Time Horizon: {days_ahead} days\")\n",
    "print(f\"Probability above target: {prob_analysis['probability_above_target']:.2%}\")\n",
    "print(f\"Expected price: ${prob_analysis['expected_price']:.2f}\")\n",
    "\n",
    "print(f\"\\nPrice Percentiles in {days_ahead} days:\")\n",
    "for pct, price in prob_analysis['price_percentiles'].items():\n",
    "    print(f\"{pct}: ${price:.2f}\")\n",
    "    "
   ]
  },
  {
   "cell_type": "code",
   "execution_count": null,
   "id": "cca71a21",
   "metadata": {},
   "outputs": [],
   "source": [
    "from polymarket_analysis.analytics.gbm_backtester import GBMBacktester\n",
    "\n",
    "# Create and run backtest\n",
    "backtester = GBMBacktester(\"BTC-USD\", lookback_days=365, test_days=180)\n",
    "backtester.fetch_extended_data()\n"
   ]
  },
  {
   "cell_type": "code",
   "execution_count": null,
   "id": "54235e2d",
   "metadata": {},
   "outputs": [],
   "source": [
    "results = backtester.run_backtest(forecast_horizons=[1, 2, 7, 14, 30], \n",
    "                                  target_changes=[0.01, 0.02, 0.05, 0.1, 0.1])\n",
    "backtester.generate_simple_report()\n"
   ]
  },
  {
   "cell_type": "code",
   "execution_count": null,
   "id": "7a8c9e84",
   "metadata": {},
   "outputs": [],
   "source": [
    "# Reload the fixed backtester module\n",
    "import importlib\n",
    "from polymarket_analysis.analytics import gbm_backtester\n",
    "importlib.reload(gbm_backtester)\n",
    "\n",
    "# Create a fresh backtester instance with the fixes\n",
    "backtester_fixed = gbm_backtester.GBMBacktester(\"BTC-USD\", lookback_days=400, test_days=400)\n",
    "backtester_fixed.fetch_extended_data()"
   ]
  },
  {
   "cell_type": "code",
   "execution_count": null,
   "id": "05d8d5ec",
   "metadata": {},
   "outputs": [],
   "source": [
    "results_fixed = backtester_fixed.run_backtest(\n",
    "    forecast_horizons=[1, 2, 7, 14, 30],\n",
    "    target_changes=[0.01, 0.02, 0.03, 0.04, 0.05, 0.1, 0, -0.02, -0.05, -0.1]\n",
    ")"
   ]
  },
  {
   "cell_type": "code",
   "execution_count": null,
   "id": "4f044d7f",
   "metadata": {},
   "outputs": [],
   "source": [
    "# Now try the plotting (should work without KeyError)\n",
    "calibration_fig = backtester_fixed.plot_relative_errors()\n",
    "calibration_fig.show()\n",
    "print(\"✓ Plotting successful!\")\n",
    "\n",
    "# Show calibration data\n",
    "calibration_data = backtester_fixed.analyze_calibration()\n",
    "print(\"\\nCalibration Data:\")\n",
    "print(calibration_data.round(3))"
   ]
  }
 ],
 "metadata": {
  "kernelspec": {
   "display_name": "polymarket-analysis-rlaaxbWf-py3.13",
   "language": "python",
   "name": "python3"
  },
  "language_info": {
   "codemirror_mode": {
    "name": "ipython",
    "version": 3
   },
   "file_extension": ".py",
   "mimetype": "text/x-python",
   "name": "python",
   "nbconvert_exporter": "python",
   "pygments_lexer": "ipython3",
   "version": "3.13.5"
  }
 },
 "nbformat": 4,
 "nbformat_minor": 5
}
