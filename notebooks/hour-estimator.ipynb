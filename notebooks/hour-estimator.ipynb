{
 "cells": [
  {
   "cell_type": "code",
   "execution_count": 48,
   "id": "cb8ed4a9",
   "metadata": {},
   "outputs": [],
   "source": [
    "from polymarket_analysis.data.binance import Binance\n",
    "import datetime\n",
    "\n",
    "# btc_df = Binance.load_bitcon_1h(\n",
    "#     from_date=datetime.datetime(2024, 7, 1),\n",
    "#     to_date=datetime.datetime(2025, 7, 23),\n",
    "# )[['timestamp', 'price']]\n",
    "\n",
    "# btc_df.to_json('/Users/kate/projects/polymarket/data/btc_hourly_data.json', \n",
    "#                orient='records', \n",
    "#                date_format='iso',\n",
    "#                lines=True)\n",
    "\n",
    "import pandas as pd\n",
    "btc_df_loaded = pd.read_json('/Users/kate/projects/polymarket/data/btc_hourly_data.json', \n",
    "                            lines=True)\n",
    "\n",
    "# Convert timestamp back to datetime if needed\n",
    "btc_df_loaded['timestamp'] = pd.to_datetime(btc_df_loaded['timestamp'])"
   ]
  },
  {
   "cell_type": "code",
   "execution_count": 4,
   "id": "22ca0244",
   "metadata": {},
   "outputs": [],
   "source": [
    "from polymarket_analysis.data.binance import Binance\n",
    "import datetime\n",
    "\n",
    "# btc_df = Binance.load_bitcon_5min(\n",
    "#     from_date=datetime.datetime(2024, 7, 1),\n",
    "#     to_date=datetime.datetime(2025, 7, 23),\n",
    "# )[['timestamp', 'price']]\n",
    "\n",
    "# print(f\"Downloaded {len(btc_df)} rows\")\n",
    "\n",
    "# btc_df.to_json('/Users/kate/projects/polymarket/data/btc_5min_data.json', \n",
    "#                orient='records', \n",
    "#                date_format='iso',\n",
    "#                lines=True)\n",
    "\n",
    "import pandas as pd\n",
    "btc_df_loaded = pd.read_json('/Users/kate/projects/polymarket/data/btc_5min_data.json', \n",
    "                            lines=True)\n",
    "\n",
    "# Convert timestamp back to datetime if needed\n",
    "btc_df_loaded['timestamp'] = pd.to_datetime(btc_df_loaded['timestamp'])"
   ]
  },
  {
   "cell_type": "code",
   "execution_count": 49,
   "id": "0ded883a",
   "metadata": {},
   "outputs": [
    {
     "name": "stdout",
     "output_type": "stream",
     "text": [
      "Loaded 9388 rows\n"
     ]
    },
    {
     "data": {
      "text/html": [
       "<div>\n",
       "<style scoped>\n",
       "    .dataframe tbody tr th:only-of-type {\n",
       "        vertical-align: middle;\n",
       "    }\n",
       "\n",
       "    .dataframe tbody tr th {\n",
       "        vertical-align: top;\n",
       "    }\n",
       "\n",
       "    .dataframe thead th {\n",
       "        text-align: right;\n",
       "    }\n",
       "</style>\n",
       "<table border=\"1\" class=\"dataframe\">\n",
       "  <thead>\n",
       "    <tr style=\"text-align: right;\">\n",
       "      <th></th>\n",
       "      <th>timestamp</th>\n",
       "      <th>price</th>\n",
       "    </tr>\n",
       "  </thead>\n",
       "  <tbody>\n",
       "    <tr>\n",
       "      <th>9383</th>\n",
       "      <td>2025-07-21 13:00:00+00:00</td>\n",
       "      <td>118834.00</td>\n",
       "    </tr>\n",
       "    <tr>\n",
       "      <th>9384</th>\n",
       "      <td>2025-07-21 14:00:00+00:00</td>\n",
       "      <td>118828.99</td>\n",
       "    </tr>\n",
       "    <tr>\n",
       "      <th>9385</th>\n",
       "      <td>2025-07-21 15:00:00+00:00</td>\n",
       "      <td>118313.16</td>\n",
       "    </tr>\n",
       "    <tr>\n",
       "      <th>9386</th>\n",
       "      <td>2025-07-21 16:00:00+00:00</td>\n",
       "      <td>117738.44</td>\n",
       "    </tr>\n",
       "    <tr>\n",
       "      <th>9387</th>\n",
       "      <td>2025-07-21 17:00:00+00:00</td>\n",
       "      <td>117850.74</td>\n",
       "    </tr>\n",
       "  </tbody>\n",
       "</table>\n",
       "</div>"
      ],
      "text/plain": [
       "                     timestamp      price\n",
       "9383 2025-07-21 13:00:00+00:00  118834.00\n",
       "9384 2025-07-21 14:00:00+00:00  118828.99\n",
       "9385 2025-07-21 15:00:00+00:00  118313.16\n",
       "9386 2025-07-21 16:00:00+00:00  117738.44\n",
       "9387 2025-07-21 17:00:00+00:00  117850.74"
      ]
     },
     "execution_count": 49,
     "metadata": {},
     "output_type": "execute_result"
    }
   ],
   "source": [
    "print(f\"Loaded {len(btc_df_loaded)} rows\")\n",
    "btc_df_loaded.tail()"
   ]
  },
  {
   "cell_type": "code",
   "execution_count": 50,
   "id": "04dc6b7a",
   "metadata": {},
   "outputs": [],
   "source": [
    "import numpy as np\n",
    "\n",
    "btc_df_loaded['prev_timestamp'] = btc_df_loaded['timestamp'].shift(1)\n",
    "btc_df_loaded['prev_price'] = btc_df_loaded['price'].shift(1)\n",
    "\n",
    "btc_df_loaded['return'] = btc_df_loaded['price'] / btc_df_loaded['prev_price']\n",
    "btc_df_loaded['log_return'] = np.log(btc_df_loaded['return'])"
   ]
  },
  {
   "cell_type": "code",
   "execution_count": 7,
   "id": "41083d54",
   "metadata": {},
   "outputs": [],
   "source": [
    "result = []\n",
    "\n",
    "for hour in range(24):\n",
    "    for interval in range(12):\n",
    "        mask = (btc_df_loaded['timestamp'].dt.hour == hour) & (btc_df_loaded['timestamp'].dt.minute == interval * 5)\n",
    "        if mask.any():\n",
    "            # Get the data for this hour/interval\n",
    "            bucket_data = btc_df_loaded.loc[mask].copy()\n",
    "            \n",
    "            # Drop extreme 1% values (0.5% from each tail)\n",
    "            q_low = bucket_data['log_return'].quantile(0.000)\n",
    "            q_high = bucket_data['log_return'].quantile(1)\n",
    "            \n",
    "            # Filter out extreme values\n",
    "            filtered_data = bucket_data[\n",
    "                (bucket_data['log_return'] >= q_low) & \n",
    "                (bucket_data['log_return'] <= q_high)\n",
    "            ]\n",
    "            \n",
    "            # Calculate statistics on filtered data\n",
    "            if len(filtered_data) > 0:\n",
    "                mean_return = filtered_data['return'].mean()\n",
    "                mean_log_return = filtered_data['log_return'].mean()\n",
    "                median_log_return = filtered_data['log_return'].median()\n",
    "                log_return_std = filtered_data['log_return'].std()\n",
    "                \n",
    "                result.append({\n",
    "                    'hour': hour,\n",
    "                    'interval': interval,\n",
    "                    'mean_return': mean_return,\n",
    "                    'mean_log_return': mean_log_return,\n",
    "                    'median_log_return': median_log_return,\n",
    "                    'log_return_std': log_return_std,\n",
    "                    'n_observations': len(filtered_data),\n",
    "                    'n_dropped': len(bucket_data) - len(filtered_data)\n",
    "                })\n",
    "\n",
    "result = pd.DataFrame(result)"
   ]
  },
  {
   "cell_type": "code",
   "execution_count": null,
   "id": "0cfada01",
   "metadata": {},
   "outputs": [],
   "source": [
    "result_weekly = []\n",
    "\n",
    "for day_of_week in range(7):  # 0=Monday, 6=Sunday\n",
    "    for hour in range(24):\n",
    "        for interval in range(12):\n",
    "            mask = (\n",
    "                (btc_df_loaded['timestamp'].dt.dayofweek == day_of_week) &\n",
    "                (btc_df_loaded['timestamp'].dt.hour == hour) & \n",
    "                (btc_df_loaded['timestamp'].dt.minute == interval * 5)\n",
    "            )\n",
    "            if mask.any():\n",
    "                # Get the data for this day_of_week/hour/interval\n",
    "                bucket_data = btc_df_loaded.loc[mask].copy()\n",
    "                \n",
    "                # Drop extreme 1% values (0.5% from each tail)\n",
    "                q_low = bucket_data['log_return'].quantile(0.005)\n",
    "                q_high = bucket_data['log_return'].quantile(0.995)\n",
    "                \n",
    "                # Filter out extreme values\n",
    "                filtered_data = bucket_data[\n",
    "                    (bucket_data['log_return'] >= q_low) & \n",
    "                    (bucket_data['log_return'] <= q_high)\n",
    "                ]\n",
    "                \n",
    "                # Calculate statistics on filtered data\n",
    "                if len(filtered_data) > 0:\n",
    "                    mean_return = filtered_data['return'].mean()\n",
    "                    mean_log_return = filtered_data['log_return'].mean()\n",
    "                    median_log_return = filtered_data['log_return'].median()\n",
    "                    log_return_std = filtered_data['log_return'].std()\n",
    "                    log_return_var = filtered_data['log_return'].var()\n",
    "                    \n",
    "                    result_weekly.append({\n",
    "                        'day_of_week': day_of_week,\n",
    "                        'hour': hour,\n",
    "                        'interval': interval,\n",
    "                        'mean_return': mean_return,\n",
    "                        'mean_log_return': mean_log_return,\n",
    "                        'median_log_return': median_log_return,\n",
    "                        'log_return_std': log_return_std,\n",
    "                        'n_observations': len(filtered_data),\n",
    "                        'n_dropped': len(bucket_data) - len(filtered_data)\n",
    "                    })\n",
    "\n",
    "result_weekly = pd.DataFrame(result_weekly)"
   ]
  },
  {
   "cell_type": "code",
   "execution_count": null,
   "id": "5b4ecccc",
   "metadata": {},
   "outputs": [],
   "source": [
    "window_size = 12  # 1 hour window (12 * 5min intervals)\n",
    "def circular_rolling(series, window):\n",
    "    \"\"\"Apply rolling mean with circular boundary conditions\"\"\"\n",
    "    half_window = window // 2\n",
    "    \n",
    "    # Create circular extension by wrapping end values to beginning\n",
    "    extended = pd.concat([\n",
    "        series.iloc[-half_window:],  # Last half_window values at start\n",
    "        series,\n",
    "        series.iloc[:half_window]    # First half_window values at end\n",
    "    ], ignore_index=True)\n",
    "    \n",
    "    # Apply rolling and extract middle portion\n",
    "    rolled = extended.rolling(window=window, center=True).mean()\n",
    "    return rolled.iloc[half_window:-half_window].reset_index(drop=True)\n",
    "\n",
    "result['mean_log_return_rolling'] = circular_rolling(result['mean_log_return'], window_size)\n",
    "result['median_log_return_rolling'] = circular_rolling(result['median_log_return'], window_size)\n",
    "result['log_return_std_rolling'] = circular_rolling(result['log_return_std'], window_size)"
   ]
  },
  {
   "cell_type": "code",
   "execution_count": 28,
   "id": "1011ab4a",
   "metadata": {},
   "outputs": [],
   "source": [
    "result_weekly['mean_log_return_rolling'] = circular_rolling(result_weekly['mean_log_return'], window_size)\n",
    "result_weekly['median_log_return_rolling'] = circular_rolling(result_weekly['median_log_return'], window_size)\n",
    "result_weekly['log_return_std_rolling'] = circular_rolling(result_weekly['log_return_std'], window_size)\n",
    "result_weekly['log_return_std_rolling_daily'] = circular_rolling(result_weekly['log_return_std'], window_size*24)"
   ]
  },
  {
   "cell_type": "code",
   "execution_count": 33,
   "id": "25affcfe",
   "metadata": {},
   "outputs": [],
   "source": [
    "periodic_data = []\n",
    "periodic_weekly_data = []\n",
    "date_range = pd.date_range(start=start_date.date(), end=end_date.date(), freq='D')\n",
    "\n",
    "for date in date_range:\n",
    "    day_of_week = date.dayofweek\n",
    "    \n",
    "    # Daily periodic data\n",
    "    for _, row in result.iterrows():\n",
    "        periodic_timestamp = pd.Timestamp.combine(\n",
    "            date, \n",
    "            time(hour=int(row['hour']), minute=int(row['interval'] * 5))\n",
    "        )\n",
    "        periodic_data.append({\n",
    "            'timestamp': periodic_timestamp,\n",
    "            'periodic_median_log_return': row['median_log_return'],\n",
    "            'periodic_log_return_std_rolling': row['log_return_std_rolling']\n",
    "        })\n",
    "    \n",
    "    # Weekly periodic data\n",
    "    weekly_rows = result_weekly[result_weekly['day_of_week'] == day_of_week]\n",
    "    for _, row in weekly_rows.iterrows():\n",
    "        periodic_timestamp = pd.Timestamp.combine(\n",
    "            date, \n",
    "            time(hour=int(row['hour']), minute=int(row['interval'] * 5))\n",
    "        )\n",
    "        periodic_weekly_data.append({\n",
    "            'timestamp': periodic_timestamp,\n",
    "            'periodic_weekly_median_log_return': row['median_log_return'],\n",
    "            'periodic_weekly_log_return_std_rolling': row['log_return_std_rolling'],\n",
    "            'periodic_weekly_log_return_std_rolling_daily': row['log_return_std_rolling_daily']\n",
    "        })\n",
    "\n",
    "periodic_df = pd.DataFrame(periodic_data)\n",
    "periodic_weekly_df = pd.DataFrame(periodic_weekly_data)"
   ]
  },
  {
   "cell_type": "code",
   "execution_count": null,
   "id": "5fbe78df",
   "metadata": {},
   "outputs": [
    {
     "name": "stdout",
     "output_type": "stream",
     "text": [
      "Time-varying scaling factor range: 0.3863 to 2.3465\n",
      "Time-varying scaling factor mean: 0.8256\n"
     ]
    },
    {
     "data": {
      "text/html": [
       "<div>\n",
       "<style scoped>\n",
       "    .dataframe tbody tr th:only-of-type {\n",
       "        vertical-align: middle;\n",
       "    }\n",
       "\n",
       "    .dataframe tbody tr th {\n",
       "        vertical-align: top;\n",
       "    }\n",
       "\n",
       "    .dataframe thead th {\n",
       "        text-align: right;\n",
       "    }\n",
       "</style>\n",
       "<table border=\"1\" class=\"dataframe\">\n",
       "  <thead>\n",
       "    <tr style=\"text-align: right;\">\n",
       "      <th></th>\n",
       "      <th>timestamp</th>\n",
       "      <th>price</th>\n",
       "      <th>prev_timestamp</th>\n",
       "      <th>prev_price</th>\n",
       "      <th>return</th>\n",
       "      <th>log_return</th>\n",
       "      <th>log_return_rolling_std_1h</th>\n",
       "      <th>log_return_rolling_std_4h</th>\n",
       "      <th>log_return_rolling_std_day</th>\n",
       "      <th>log_return_rolling_median</th>\n",
       "      <th>rolling_actual_std</th>\n",
       "      <th>template_std</th>\n",
       "      <th>scaling_factor</th>\n",
       "      <th>scaled_periodic_std</th>\n",
       "      <th>template_rms_std_rolling</th>\n",
       "    </tr>\n",
       "  </thead>\n",
       "  <tbody>\n",
       "    <tr>\n",
       "      <th>94284</th>\n",
       "      <td>2025-05-23 22:00:00+00:00</td>\n",
       "      <td>108342.74</td>\n",
       "      <td>2025-05-23 21:55:00+00:00</td>\n",
       "      <td>108282.89</td>\n",
       "      <td>1.000553</td>\n",
       "      <td>0.000553</td>\n",
       "      <td>NaN</td>\n",
       "      <td>NaN</td>\n",
       "      <td>NaN</td>\n",
       "      <td>NaN</td>\n",
       "      <td>NaN</td>\n",
       "      <td>0.000964</td>\n",
       "      <td>NaN</td>\n",
       "      <td>NaN</td>\n",
       "      <td>NaN</td>\n",
       "    </tr>\n",
       "    <tr>\n",
       "      <th>94285</th>\n",
       "      <td>2025-05-23 22:00:00+00:00</td>\n",
       "      <td>108342.74</td>\n",
       "      <td>2025-05-23 22:00:00+00:00</td>\n",
       "      <td>108342.74</td>\n",
       "      <td>1.000000</td>\n",
       "      <td>0.000000</td>\n",
       "      <td>NaN</td>\n",
       "      <td>NaN</td>\n",
       "      <td>NaN</td>\n",
       "      <td>NaN</td>\n",
       "      <td>NaN</td>\n",
       "      <td>0.000964</td>\n",
       "      <td>NaN</td>\n",
       "      <td>NaN</td>\n",
       "      <td>NaN</td>\n",
       "    </tr>\n",
       "    <tr>\n",
       "      <th>94286</th>\n",
       "      <td>2025-05-23 22:05:00+00:00</td>\n",
       "      <td>108348.42</td>\n",
       "      <td>2025-05-23 22:00:00+00:00</td>\n",
       "      <td>108342.74</td>\n",
       "      <td>1.000052</td>\n",
       "      <td>0.000052</td>\n",
       "      <td>NaN</td>\n",
       "      <td>NaN</td>\n",
       "      <td>NaN</td>\n",
       "      <td>NaN</td>\n",
       "      <td>NaN</td>\n",
       "      <td>0.000960</td>\n",
       "      <td>NaN</td>\n",
       "      <td>NaN</td>\n",
       "      <td>NaN</td>\n",
       "    </tr>\n",
       "    <tr>\n",
       "      <th>94287</th>\n",
       "      <td>2025-05-23 22:10:00+00:00</td>\n",
       "      <td>108492.30</td>\n",
       "      <td>2025-05-23 22:05:00+00:00</td>\n",
       "      <td>108348.42</td>\n",
       "      <td>1.001328</td>\n",
       "      <td>0.001327</td>\n",
       "      <td>NaN</td>\n",
       "      <td>NaN</td>\n",
       "      <td>NaN</td>\n",
       "      <td>NaN</td>\n",
       "      <td>NaN</td>\n",
       "      <td>0.000954</td>\n",
       "      <td>NaN</td>\n",
       "      <td>NaN</td>\n",
       "      <td>NaN</td>\n",
       "    </tr>\n",
       "    <tr>\n",
       "      <th>94288</th>\n",
       "      <td>2025-05-23 22:15:00+00:00</td>\n",
       "      <td>108424.00</td>\n",
       "      <td>2025-05-23 22:10:00+00:00</td>\n",
       "      <td>108492.30</td>\n",
       "      <td>0.999370</td>\n",
       "      <td>-0.000630</td>\n",
       "      <td>NaN</td>\n",
       "      <td>NaN</td>\n",
       "      <td>NaN</td>\n",
       "      <td>NaN</td>\n",
       "      <td>NaN</td>\n",
       "      <td>0.000935</td>\n",
       "      <td>NaN</td>\n",
       "      <td>NaN</td>\n",
       "      <td>NaN</td>\n",
       "    </tr>\n",
       "    <tr>\n",
       "      <th>...</th>\n",
       "      <td>...</td>\n",
       "      <td>...</td>\n",
       "      <td>...</td>\n",
       "      <td>...</td>\n",
       "      <td>...</td>\n",
       "      <td>...</td>\n",
       "      <td>...</td>\n",
       "      <td>...</td>\n",
       "      <td>...</td>\n",
       "      <td>...</td>\n",
       "      <td>...</td>\n",
       "      <td>...</td>\n",
       "      <td>...</td>\n",
       "      <td>...</td>\n",
       "      <td>...</td>\n",
       "    </tr>\n",
       "    <tr>\n",
       "      <th>111580</th>\n",
       "      <td>2025-07-22 21:40:00+00:00</td>\n",
       "      <td>119479.89</td>\n",
       "      <td>2025-07-22 21:35:00+00:00</td>\n",
       "      <td>119501.33</td>\n",
       "      <td>0.999821</td>\n",
       "      <td>-0.000179</td>\n",
       "      <td>NaN</td>\n",
       "      <td>NaN</td>\n",
       "      <td>NaN</td>\n",
       "      <td>NaN</td>\n",
       "      <td>0.001223</td>\n",
       "      <td>0.001318</td>\n",
       "      <td>0.905531</td>\n",
       "      <td>0.001194</td>\n",
       "      <td>0.001351</td>\n",
       "    </tr>\n",
       "    <tr>\n",
       "      <th>111581</th>\n",
       "      <td>2025-07-22 21:45:00+00:00</td>\n",
       "      <td>119480.32</td>\n",
       "      <td>2025-07-22 21:40:00+00:00</td>\n",
       "      <td>119479.89</td>\n",
       "      <td>1.000004</td>\n",
       "      <td>0.000004</td>\n",
       "      <td>NaN</td>\n",
       "      <td>NaN</td>\n",
       "      <td>NaN</td>\n",
       "      <td>NaN</td>\n",
       "      <td>0.001222</td>\n",
       "      <td>0.001305</td>\n",
       "      <td>0.905231</td>\n",
       "      <td>0.001181</td>\n",
       "      <td>0.001350</td>\n",
       "    </tr>\n",
       "    <tr>\n",
       "      <th>111582</th>\n",
       "      <td>2025-07-22 21:50:00+00:00</td>\n",
       "      <td>119546.56</td>\n",
       "      <td>2025-07-22 21:45:00+00:00</td>\n",
       "      <td>119480.32</td>\n",
       "      <td>1.000554</td>\n",
       "      <td>0.000554</td>\n",
       "      <td>NaN</td>\n",
       "      <td>NaN</td>\n",
       "      <td>NaN</td>\n",
       "      <td>NaN</td>\n",
       "      <td>0.001222</td>\n",
       "      <td>0.001314</td>\n",
       "      <td>0.905687</td>\n",
       "      <td>0.001190</td>\n",
       "      <td>0.001349</td>\n",
       "    </tr>\n",
       "    <tr>\n",
       "      <th>111583</th>\n",
       "      <td>2025-07-22 21:55:00+00:00</td>\n",
       "      <td>119400.00</td>\n",
       "      <td>2025-07-22 21:50:00+00:00</td>\n",
       "      <td>119546.56</td>\n",
       "      <td>0.998774</td>\n",
       "      <td>-0.001227</td>\n",
       "      <td>NaN</td>\n",
       "      <td>NaN</td>\n",
       "      <td>NaN</td>\n",
       "      <td>NaN</td>\n",
       "      <td>0.001224</td>\n",
       "      <td>0.001299</td>\n",
       "      <td>0.907642</td>\n",
       "      <td>0.001179</td>\n",
       "      <td>0.001349</td>\n",
       "    </tr>\n",
       "    <tr>\n",
       "      <th>111584</th>\n",
       "      <td>2025-07-22 22:00:00+00:00</td>\n",
       "      <td>119691.71</td>\n",
       "      <td>2025-07-22 21:55:00+00:00</td>\n",
       "      <td>119400.00</td>\n",
       "      <td>1.002443</td>\n",
       "      <td>0.002440</td>\n",
       "      <td>NaN</td>\n",
       "      <td>NaN</td>\n",
       "      <td>NaN</td>\n",
       "      <td>NaN</td>\n",
       "      <td>0.001232</td>\n",
       "      <td>0.001269</td>\n",
       "      <td>0.913804</td>\n",
       "      <td>0.001160</td>\n",
       "      <td>0.001349</td>\n",
       "    </tr>\n",
       "  </tbody>\n",
       "</table>\n",
       "<p>17301 rows × 15 columns</p>\n",
       "</div>"
      ],
      "text/plain": [
       "                       timestamp      price            prev_timestamp  \\\n",
       "94284  2025-05-23 22:00:00+00:00  108342.74 2025-05-23 21:55:00+00:00   \n",
       "94285  2025-05-23 22:00:00+00:00  108342.74 2025-05-23 22:00:00+00:00   \n",
       "94286  2025-05-23 22:05:00+00:00  108348.42 2025-05-23 22:00:00+00:00   \n",
       "94287  2025-05-23 22:10:00+00:00  108492.30 2025-05-23 22:05:00+00:00   \n",
       "94288  2025-05-23 22:15:00+00:00  108424.00 2025-05-23 22:10:00+00:00   \n",
       "...                          ...        ...                       ...   \n",
       "111580 2025-07-22 21:40:00+00:00  119479.89 2025-07-22 21:35:00+00:00   \n",
       "111581 2025-07-22 21:45:00+00:00  119480.32 2025-07-22 21:40:00+00:00   \n",
       "111582 2025-07-22 21:50:00+00:00  119546.56 2025-07-22 21:45:00+00:00   \n",
       "111583 2025-07-22 21:55:00+00:00  119400.00 2025-07-22 21:50:00+00:00   \n",
       "111584 2025-07-22 22:00:00+00:00  119691.71 2025-07-22 21:55:00+00:00   \n",
       "\n",
       "        prev_price    return  log_return  log_return_rolling_std_1h  \\\n",
       "94284    108282.89  1.000553    0.000553                        NaN   \n",
       "94285    108342.74  1.000000    0.000000                        NaN   \n",
       "94286    108342.74  1.000052    0.000052                        NaN   \n",
       "94287    108348.42  1.001328    0.001327                        NaN   \n",
       "94288    108492.30  0.999370   -0.000630                        NaN   \n",
       "...            ...       ...         ...                        ...   \n",
       "111580   119501.33  0.999821   -0.000179                        NaN   \n",
       "111581   119479.89  1.000004    0.000004                        NaN   \n",
       "111582   119480.32  1.000554    0.000554                        NaN   \n",
       "111583   119546.56  0.998774   -0.001227                        NaN   \n",
       "111584   119400.00  1.002443    0.002440                        NaN   \n",
       "\n",
       "        log_return_rolling_std_4h  log_return_rolling_std_day  \\\n",
       "94284                         NaN                         NaN   \n",
       "94285                         NaN                         NaN   \n",
       "94286                         NaN                         NaN   \n",
       "94287                         NaN                         NaN   \n",
       "94288                         NaN                         NaN   \n",
       "...                           ...                         ...   \n",
       "111580                        NaN                         NaN   \n",
       "111581                        NaN                         NaN   \n",
       "111582                        NaN                         NaN   \n",
       "111583                        NaN                         NaN   \n",
       "111584                        NaN                         NaN   \n",
       "\n",
       "        log_return_rolling_median  rolling_actual_std  template_std  \\\n",
       "94284                         NaN                 NaN      0.000964   \n",
       "94285                         NaN                 NaN      0.000964   \n",
       "94286                         NaN                 NaN      0.000960   \n",
       "94287                         NaN                 NaN      0.000954   \n",
       "94288                         NaN                 NaN      0.000935   \n",
       "...                           ...                 ...           ...   \n",
       "111580                        NaN            0.001223      0.001318   \n",
       "111581                        NaN            0.001222      0.001305   \n",
       "111582                        NaN            0.001222      0.001314   \n",
       "111583                        NaN            0.001224      0.001299   \n",
       "111584                        NaN            0.001232      0.001269   \n",
       "\n",
       "        scaling_factor  scaled_periodic_std  template_rms_std_rolling  \n",
       "94284              NaN                  NaN                       NaN  \n",
       "94285              NaN                  NaN                       NaN  \n",
       "94286              NaN                  NaN                       NaN  \n",
       "94287              NaN                  NaN                       NaN  \n",
       "94288              NaN                  NaN                       NaN  \n",
       "...                ...                  ...                       ...  \n",
       "111580        0.905531             0.001194                  0.001351  \n",
       "111581        0.905231             0.001181                  0.001350  \n",
       "111582        0.905687             0.001190                  0.001349  \n",
       "111583        0.907642             0.001179                  0.001349  \n",
       "111584        0.913804             0.001160                  0.001349  \n",
       "\n",
       "[17301 rows x 15 columns]"
      ]
     },
     "execution_count": 40,
     "metadata": {},
     "output_type": "execute_result"
    }
   ],
   "source": [
    "import numpy as np\n",
    "\n",
    "# Define lookback window (1 week = 7*24*12 = 2016 intervals)\n",
    "lookback_window = 1 * 24 * 12  # 1 day of 5-min intervals\n",
    "\n",
    "# Calculate rolling standard deviation of actual data (equivalent to last_week_log_return_std for each timestamp)\n",
    "btc_recent['rolling_actual_std'] = btc_recent['log_return'].rolling(\n",
    "    window=lookback_window, \n",
    "    min_periods=lookback_window//2\n",
    ").std()\n",
    "\n",
    "# Add template std to btc_recent first\n",
    "periodic_lookup = {}\n",
    "for _, row in periodic_weekly_df.iterrows():\n",
    "    key = (row['timestamp'].dayofweek, row['timestamp'].hour, row['timestamp'].minute)\n",
    "    periodic_lookup[key] = row['periodic_weekly_log_return_std_rolling']\n",
    "\n",
    "btc_recent['template_std'] = btc_recent['timestamp'].apply(\n",
    "    lambda ts: periodic_lookup.get((ts.dayofweek, ts.hour, ts.minute), np.nan)\n",
    ")\n",
    "\n",
    "# Calculate rolling RMS of template std for each timestamp (same window as actual data)\n",
    "btc_recent['template_rms_std_rolling'] = btc_recent['template_std'].rolling(\n",
    "    window=lookback_window,\n",
    "    min_periods=lookback_window//2\n",
    ").apply(lambda x: np.sqrt(np.mean(x**2)), raw=True)\n",
    "\n",
    "\n",
    "# Calculate time-varying scaling factor using rolling template RMS\n",
    "btc_recent['scaling_factor'] = btc_recent['rolling_actual_std'] / btc_recent['template_rms_std_rolling']\n",
    "\n",
    "# Apply scaling to get time-varying scaled template std\n",
    "btc_recent['scaled_periodic_std'] = btc_recent['template_std'] * btc_recent['scaling_factor']\n",
    "\n",
    "# Fill any NaN values with the static scaling factor from cell 36\n",
    "btc_recent['scaling_factor'] = btc_recent['scaling_factor']\n",
    "btc_recent['scaled_periodic_std'] = btc_recent['scaled_periodic_std']\n",
    "\n",
    "print(f\"Time-varying scaling factor range: {btc_recent['scaling_factor'].min():.4f} to {btc_recent['scaling_factor'].max():.4f}\")\n",
    "print(f\"Time-varying scaling factor mean: {btc_recent['scaling_factor'].mean():.4f}\")"
   ]
  },
  {
   "cell_type": "code",
   "execution_count": 42,
   "id": "bd71d648",
   "metadata": {},
   "outputs": [],
   "source": [
    "import plotly.graph_objects as go\n",
    "from plotly.subplots import make_subplots\n",
    "\n",
    "# Plot scaling factor over time\n",
    "fig = make_subplots(specs=[[{\"secondary_y\": True}]])\n",
    "\n",
    "# Add scaling factor\n",
    "fig.add_trace(go.Scatter(\n",
    "    x=btc_recent['timestamp'],\n",
    "    y=btc_recent['scaling_factor'],\n",
    "    mode='lines',\n",
    "    name='Time-varying Scaling Factor',\n",
    "    line=dict(color='blue', width=2)\n",
    "), secondary_y=False)\n",
    "\n",
    "# Add rolling actual std for context\n",
    "fig.add_trace(go.Scatter(\n",
    "    x=btc_recent['timestamp'],\n",
    "    y=btc_recent['rolling_actual_std'],\n",
    "    mode='lines',\n",
    "    name='Rolling Actual Std',\n",
    "    line=dict(color='red', width=1),\n",
    "    opacity=0.7\n",
    "), secondary_y=True)\n",
    "\n",
    "# Add template std for context\n",
    "fig.add_trace(go.Scatter(\n",
    "    x=btc_recent['timestamp'],\n",
    "    y=btc_recent['template_std'],\n",
    "    mode='lines',\n",
    "    name='Template Std',\n",
    "    line=dict(color='green', width=1),\n",
    "    opacity=0.7\n",
    "), secondary_y=True)\n",
    "\n",
    "# Add scaled periodic std\n",
    "fig.add_trace(go.Scatter(\n",
    "    x=btc_recent['timestamp'],\n",
    "    y=btc_recent['scaled_periodic_std'],\n",
    "    mode='lines',\n",
    "    name='Scaled Periodic Std',\n",
    "    line=dict(color='purple', width=2)\n",
    "), secondary_y=True)\n",
    "\n",
    "# Update axes\n",
    "fig.update_xaxes(title_text=\"Date\")\n",
    "fig.update_yaxes(title_text=\"Scaling Factor\", secondary_y=False)\n",
    "fig.update_yaxes(title_text=\"Standard Deviation\", secondary_y=True)\n",
    "\n",
    "# Update layout\n",
    "fig.update_layout(\n",
    "    title='Time-varying Scaling Factor and Standard Deviations',\n",
    "    showlegend=True,\n",
    "    hovermode='x unified',\n",
    "    height=600\n",
    ")\n",
    "\n",
    "fig.show(renderer=\"browser\")"
   ]
  },
  {
   "cell_type": "code",
   "execution_count": 52,
   "id": "477134fc",
   "metadata": {},
   "outputs": [
    {
     "name": "stdout",
     "output_type": "stream",
     "text": [
      "Rolling mean log return statistics:\n",
      "1 day window - mean: 0.000067, std: 0.001041\n",
      "7 day window - mean: 0.000067, std: 0.000375\n",
      "1 month window - mean: 0.000068, std: 0.000168\n"
     ]
    }
   ],
   "source": [
    "import plotly.graph_objects as go\n",
    "from plotly.subplots import make_subplots\n",
    "import numpy as np\n",
    "\n",
    "# Calculate rolling mean log returns for different windows\n",
    "# 1 day = 1*24*12 = 288 intervals (5-min intervals)\n",
    "# 7 days = 7*24*12 = 2016 intervals  \n",
    "# 1 month = 30*24*12 = 8640 intervals\n",
    "\n",
    "mean_df = btc_df_loaded.copy()\n",
    "\n",
    "mean_df['mean_log_return_1d'] = mean_df['log_return'].rolling(\n",
    "    window=24, \n",
    "    min_periods=12\n",
    ").mean()\n",
    "\n",
    "mean_df['mean_log_return_7d'] = mean_df['log_return'].rolling(\n",
    "    window=7*24, \n",
    "    min_periods=7*24//2\n",
    ").mean()\n",
    "\n",
    "mean_df['mean_log_return_1m'] = mean_df['log_return'].rolling(\n",
    "    window=30*24, \n",
    "    min_periods=30*24//2\n",
    ").mean()\n",
    "\n",
    "# Create plot\n",
    "fig = go.Figure()\n",
    "\n",
    "# Add rolling mean log returns\n",
    "fig.add_trace(go.Scatter(\n",
    "    x=mean_df['timestamp'],\n",
    "    y=mean_df['mean_log_return_1d'],\n",
    "    mode='lines',\n",
    "    name='Rolling Mean Log Return (1 day)',\n",
    "    line=dict(color='blue', width=2)\n",
    "))\n",
    "\n",
    "fig.add_trace(go.Scatter(\n",
    "    x=mean_df['timestamp'],\n",
    "    y=mean_df['mean_log_return_7d'],\n",
    "    mode='lines',\n",
    "    name='Rolling Mean Log Return (7 days)',\n",
    "    line=dict(color='red', width=2)\n",
    "))\n",
    "\n",
    "fig.add_trace(go.Scatter(\n",
    "    x=mean_df['timestamp'],\n",
    "    y=mean_df['mean_log_return_1m'],\n",
    "    mode='lines',\n",
    "    name='Rolling Mean Log Return (1 month)',\n",
    "    line=dict(color='green', width=2)\n",
    "))\n",
    "\n",
    "# Add horizontal line at zero\n",
    "fig.add_hline(y=0, line_width=1, line_dash=\"dash\", line_color=\"grey\")\n",
    "\n",
    "# Add overall mean for reference\n",
    "overall_mean = mean_df['log_return'].mean()\n",
    "fig.add_hline(\n",
    "    y=overall_mean,\n",
    "    line_width=1,\n",
    "    line_dash=\"dot\",\n",
    "    line_color=\"black\",\n",
    "    annotation_text=f\"Overall Mean: {overall_mean:.6f}\"\n",
    ")\n",
    "\n",
    "# Update layout\n",
    "fig.update_xaxes(title_text=\"Date\")\n",
    "fig.update_yaxes(title_text=\"Mean Log Return\")\n",
    "\n",
    "fig.update_layout(\n",
    "    title='Bitcoin Rolling Mean Log Returns - Multiple Time Windows',\n",
    "    showlegend=True,\n",
    "    hovermode='x unified',\n",
    "    height=600\n",
    ")\n",
    "\n",
    "fig.show(renderer=\"browser\")\n",
    "\n",
    "# Print summary statistics\n",
    "print(f\"Rolling mean log return statistics:\")\n",
    "print(f\"1 day window - mean: {mean_df['mean_log_return_1d'].mean():.6f}, std: {mean_df['mean_log_return_1d'].std():.6f}\")\n",
    "print(f\"7 day window - mean: {mean_df['mean_log_return_7d'].mean():.6f}, std: {mean_df['mean_log_return_7d'].std():.6f}\")\n",
    "print(f\"1 month window - mean: {mean_df['mean_log_return_1m'].mean():.6f}, std: {mean_df['mean_log_return_1m'].std():.6f}\")"
   ]
  },
  {
   "cell_type": "code",
   "execution_count": 45,
   "id": "c8baf15c",
   "metadata": {},
   "outputs": [],
   "source": [
    "import plotly.graph_objects as go\n",
    "from plotly.subplots import make_subplots\n",
    "from datetime import time\n",
    "\n",
    "end_date = btc_df_loaded['timestamp'].max()\n",
    "start_date = end_date - datetime.timedelta(days=160)\n",
    "btc_recent = btc_df_loaded[btc_df_loaded['timestamp'] >= start_date].copy()\n",
    "\n",
    "# Calculate rolling statistics\n",
    "window_size_rolling = 12  # 1 hour window\n",
    "btc_recent['log_return_rolling_std_1h'] = btc_recent['log_return'].rolling(window=window_size_rolling, center=True).std()\n",
    "btc_recent['log_return_rolling_std_4h'] = btc_recent['log_return'].rolling(window=window_size_rolling*4, center=True).std()\n",
    "btc_recent['log_return_rolling_std_day'] = btc_recent['log_return'].rolling(window=12*24, center=True).std()\n",
    "btc_recent['log_return_rolling_median'] = btc_recent['log_return'].rolling(window=window_size_rolling, center=True).median()\n",
    "\n",
    "# Create plot\n",
    "fig = make_subplots(specs=[[{\"secondary_y\": True}]])\n",
    "\n",
    "# Add rolling std from actual data\n",
    "fig.add_trace(go.Scatter(\n",
    "    x=btc_recent['timestamp'],\n",
    "    y=btc_recent['log_return_rolling_std_1h'],\n",
    "    mode='lines',\n",
    "    name='Rolling Log Return Std 1h (Actual)',\n",
    "    line=dict(color='blue', width=1),\n",
    "    opacity=0.7\n",
    "), secondary_y=True)\n",
    "\n",
    "fig.add_trace(go.Scatter(\n",
    "    x=btc_recent['timestamp'],\n",
    "    y=btc_recent['log_return_rolling_std_4h'],\n",
    "    mode='lines',\n",
    "    name='Rolling Log Return Std 4h (Actual)',\n",
    "    line=dict(color='darkblue', width=1),\n",
    "    opacity=0.7\n",
    "), secondary_y=True)\n",
    "\n",
    "fig.add_trace(go.Scatter(\n",
    "    x=btc_recent['timestamp'],\n",
    "    y=btc_recent['log_return_rolling_std_day'],\n",
    "    mode='lines',\n",
    "    name='Rolling Log Return Std Daily (Actual)',\n",
    "    line=dict(color='black', width=1),\n",
    "    opacity=0.7\n",
    "), secondary_y=True)\n",
    "\n",
    "# Add periodic std pattern (daily)\n",
    "fig.add_trace(go.Scatter(\n",
    "    x=periodic_df['timestamp'],\n",
    "    y=periodic_df['periodic_log_return_std_rolling'],\n",
    "    mode='lines',\n",
    "    name='Periodic Log Return Std Rolling (Daily Pattern)',\n",
    "    line=dict(color='darkred', width=2),\n",
    "    opacity=0.8\n",
    "), secondary_y=True)\n",
    "\n",
    "fig.add_trace(go.Scatter(\n",
    "    x=periodic_weekly_df['timestamp'],\n",
    "    y=periodic_weekly_df['periodic_weekly_log_return_std_rolling'],\n",
    "    mode='lines',\n",
    "    name='Periodic Log Return Std Rolling (Weekly Pattern)',\n",
    "    line=dict(color='purple', width=2),\n",
    "    opacity=0.8\n",
    "), secondary_y=True)\n",
    "\n",
    "fig.add_trace(go.Scatter(\n",
    "    x=periodic_weekly_df['timestamp'],\n",
    "    y=periodic_weekly_df['scaled_periodic_std'],\n",
    "    mode='lines',\n",
    "    name='Periodic Log Return Std Rolling Scaled (Weekly Pattern)',\n",
    "    line=dict(color='darkgreen', width=2),\n",
    "    opacity=0.8\n",
    "), secondary_y=True)\n",
    "\n",
    "fig.add_trace(go.Scatter(\n",
    "    x=periodic_weekly_df['timestamp'],\n",
    "    y=periodic_weekly_df['periodic_weekly_log_return_std_rolling_daily'],\n",
    "    mode='lines',\n",
    "    name='Periodic Log Return Std Rolling Daily (Weekly Pattern)',\n",
    "    line=dict(color='cyan', width=2),\n",
    "    opacity=0.8\n",
    "), secondary_y=True)\n",
    "\n",
    "\n",
    "# Update layout\n",
    "fig.update_xaxes(title_text=\"Date\")\n",
    "fig.update_yaxes(title_text=\"Median Log Return\", secondary_y=False)\n",
    "fig.update_yaxes(title_text=\"Log Return Standard Deviation\", secondary_y=True)\n",
    "\n",
    "fig.update_layout(\n",
    "    title='Bitcoin Rolling vs Periodic Statistics - Last 60 Days',\n",
    "    showlegend=True,\n",
    "    hovermode='x unified',\n",
    "    height=600\n",
    ")\n",
    "\n",
    "fig.show(renderer=\"browser\")"
   ]
  },
  {
   "cell_type": "code",
   "execution_count": null,
   "id": "a03a5af2",
   "metadata": {},
   "outputs": [],
   "source": [
    "import plotly.graph_objects as go\n",
    "from plotly.subplots import make_subplots\n",
    "from datetime import time\n",
    "\n",
    "# Create subplot with secondary y-axis\n",
    "fig = make_subplots(specs=[[{\"secondary_y\": True}]])\n",
    "\n",
    "result['time_of_day'] = result.apply(\n",
    "    lambda row: time(hour=int(row['hour']), \n",
    "                     minute=int(row['interval'] * 5)), \n",
    "    axis=1\n",
    ")\n",
    "\n",
    "# Add original mean log return trace on primary y-axis\n",
    "fig.add_trace(go.Scatter(\n",
    "    x=result['time_of_day'],\n",
    "    y=result['mean_log_return'],\n",
    "    mode='lines+markers',\n",
    "    name='Mean Log Return (5-min)',\n",
    "    line=dict(color='lightblue', width=1),\n",
    "    marker=dict(size=2),\n",
    "    opacity=0.6\n",
    "), secondary_y=False)\n",
    "\n",
    "# Add rolling average of mean log return\n",
    "fig.add_trace(go.Scatter(\n",
    "    x=result['time_of_day'],\n",
    "    y=result['mean_log_return_rolling'],\n",
    "    mode='lines',\n",
    "    name=f'Mean Log Return ({window_size*5}min Rolling)',\n",
    "    line=dict(color='blue', width=3)\n",
    "), secondary_y=False)\n",
    "\n",
    "# Add original mean log return trace on primary y-axis\n",
    "fig.add_trace(go.Scatter(\n",
    "    x=result['time_of_day'],\n",
    "    y=result['median_log_return'],\n",
    "    mode='lines+markers',\n",
    "    name='Median Log Return (5-min)',\n",
    "    line=dict(color='lightgreen', width=1),\n",
    "    marker=dict(size=2),\n",
    "    opacity=0.6\n",
    "), secondary_y=False)\n",
    "\n",
    "# Add rolling average of mean log return\n",
    "fig.add_trace(go.Scatter(\n",
    "    x=result['time_of_day'],\n",
    "    y=result['median_log_return_rolling'],\n",
    "    mode='lines',\n",
    "    name=f'Median Log Return ({window_size*5}min Rolling)',\n",
    "    line=dict(color='green', width=3)\n",
    "), secondary_y=False)\n",
    "\n",
    "# Add original log return std trace on secondary y-axis\n",
    "fig.add_trace(go.Scatter(\n",
    "    x=result['time_of_day'],\n",
    "    y=result['log_return_std'],\n",
    "    mode='lines+markers',\n",
    "    name='Log Return Std (5-min)',\n",
    "    line=dict(color='lightcoral', width=1),\n",
    "    marker=dict(size=2),\n",
    "    opacity=0.6\n",
    "), secondary_y=True)\n",
    "\n",
    "# Add rolling average of log return std\n",
    "fig.add_trace(go.Scatter(\n",
    "    x=result['time_of_day'],\n",
    "    y=result['log_return_std_rolling'],\n",
    "    mode='lines',\n",
    "    name=f'Log Return Std ({window_size*5}min Rolling)',\n",
    "    line=dict(color='red', width=3)\n",
    "), secondary_y=True)\n",
    "\n",
    "# Update axes labels\n",
    "fig.update_xaxes(title_text=\"Time of Day\")\n",
    "fig.update_yaxes(title_text=\"Mean Log Return\", secondary_y=False)\n",
    "fig.update_yaxes(title_text=\"Log Return Standard Deviation\", secondary_y=True)\n",
    "\n",
    "# Update layout\n",
    "fig.update_layout(\n",
    "    title='Bitcoin 5-Minute Interval Log Return Statistics Throughout the Day',\n",
    "    showlegend=True,\n",
    "    hovermode='x unified',\n",
    "    height=600\n",
    ")\n",
    "\n",
    "fig.show(renderer=\"browser\")"
   ]
  },
  {
   "cell_type": "code",
   "execution_count": 26,
   "id": "5528ca25",
   "metadata": {},
   "outputs": [
    {
     "name": "stdout",
     "output_type": "stream",
     "text": [
      "Hour 0: mu=-131.28775614784396, sigma=5.811852673953044, avg_return=0.9998855196700208\n",
      "Hour 1: mu=43.09769120372629, sigma=6.297095804622536, avg_return=1.0000628383601868\n",
      "Hour 2: mu=339.4196916474739, sigma=4.9271281908540585, avg_return=1.0003516066307003\n",
      "Hour 3: mu=66.44708621770543, sigma=4.210721423420913, avg_return=1.0000753026658802\n",
      "Hour 4: mu=-22.392614547109194, sigma=3.9649395255185302, avg_return=0.9999854536926049\n",
      "Hour 5: mu=264.08816690906264, sigma=3.51554699034802, avg_return=1.0002702883280856\n",
      "Hour 6: mu=-122.36095562870598, sigma=4.692721522265116, avg_return=0.999888662147742\n",
      "Hour 7: mu=-65.70587079337, sigma=4.080727694159952, avg_return=0.9999426016270319\n",
      "Hour 8: mu=195.18872121342469, sigma=4.293422900220435, avg_return=1.0002044089036717\n",
      "Hour 9: mu=400.73577099140147, sigma=3.8476305277275467, avg_return=1.0004082055959076\n",
      "Hour 10: mu=-29.468400486926413, sigma=3.803919870778834, avg_return=0.999977736902016\n",
      "Hour 11: mu=70.96120088963123, sigma=3.730175916567771, avg_return=1.0000778979690557\n",
      "Hour 12: mu=-124.3204741286024, sigma=4.089456556573888, avg_return=0.9998840171783604\n",
      "Hour 13: mu=-233.5155103434781, sigma=6.901984771214698, avg_return=0.9997902836069129\n",
      "Hour 14: mu=106.03905043106813, sigma=8.839459870951943, avg_return=1.000144982738454\n",
      "Hour 15: mu=231.536892632132, sigma=7.343583655113721, avg_return=1.0002584451966663\n",
      "Hour 16: mu=121.85794739490024, sigma=5.854684259782015, avg_return=1.0001389979417037\n",
      "Hour 17: mu=446.781800543066, sigma=6.7663701889405035, avg_return=1.000469765433229\n",
      "Hour 18: mu=-147.70300929361215, sigma=6.037251666558942, avg_return=0.9998704460822357\n",
      "Hour 19: mu=-5.541049526988532, sigma=5.735928349671577, avg_return=1.0000108528718377\n",
      "Hour 20: mu=-53.16517234434863, sigma=5.254820859068614, avg_return=0.9999606027865163\n",
      "Hour 21: mu=359.0235667376882, sigma=5.707271061526503, avg_return=1.000375338649065\n",
      "Hour 22: mu=182.45910513460305, sigma=4.850474154213163, avg_return=1.000194215901369\n",
      "Hour 23: mu=-265.98965472555267, sigma=3.923968760835734, avg_return=0.99974171655959\n"
     ]
    }
   ],
   "source": [
    "hours = []\n",
    "for h in range(24):\n",
    "    h_df = btc_df_loaded[btc_df_loaded['timestamp'].dt.hour == h]\n",
    "    mu = h_df['log_return'].mean()\n",
    "    sigma = h_df['log_return'].std()\n",
    "    avg_return = h_df['return'].mean()\n",
    "    print(f\"Hour {h}: mu={mu*1000000}, sigma={sigma*1000}, avg_return={avg_return}\")\n",
    "    hours.append({\n",
    "        'hour': h,\n",
    "        'mu': mu,\n",
    "        'sigma': sigma})"
   ]
  },
  {
   "cell_type": "code",
   "execution_count": null,
   "id": "06bd6880",
   "metadata": {},
   "outputs": [],
   "source": []
  },
  {
   "cell_type": "code",
   "execution_count": 27,
   "id": "ed8d8901",
   "metadata": {},
   "outputs": [
    {
     "data": {
      "application/vnd.plotly.v1+json": {
       "config": {
        "plotlyServerURL": "https://plot.ly"
       },
       "data": [
        {
         "line": {
          "color": "blue",
          "width": 2
         },
         "marker": {
          "size": 6
         },
         "mode": "lines+markers",
         "name": "Mu (Mean Log Return)",
         "type": "scatter",
         "x": {
          "bdata": "AAECAwQFBgcICQoLDA0ODxAREhMUFRYX",
          "dtype": "i1"
         },
         "xaxis": "x",
         "y": {
          "bdata": "ozfwPEk1Ib+y0N5keZgGP1qcqXmEPjY/dXq2PzBrET9NNiLB+Hr3vspJRgqqTjE/a8T/msAJIL/ORM1DcjkRv392K1lylSk/d+7eBztDOj9YIMwPXeb+vpcT/yUgmhI/HAPAvYBLIL/QA8f1epsuvxkFygMpzBs/9JJqwxZZLj+Z82OYv/EfP76axjjBRz0/zgZaMBdcI7+08qMYqD3XvmGMe2m13wu/RBFGemqHNz+u0WDHT+onP38mPd6QbjG/",
          "dtype": "f8"
         },
         "yaxis": "y"
        },
        {
         "line": {
          "color": "red",
          "width": 2
         },
         "marker": {
          "size": 6
         },
         "mode": "lines+markers",
         "name": "Sigma (Std Log Return)",
         "type": "scatter",
         "x": {
          "bdata": "AAECAwQFBgcICQoLDA0ODxAREhMUFRYX",
          "dtype": "i1"
         },
         "xaxis": "x",
         "y": {
          "bdata": "JuueUivOdz9ebqbI+8p5PwExFud3LnQ/Ywfm7EI/cT/Ox3tZij1wP6AtPOuizGw/r1J616w4cz85Q9j/87ZwP7QIHO/6lXE/P+oT6RCFbz+QlSHuZSlvPwZSPfK+jm4//s2zIhvAcD9a7+ptQUV8P9D3ejhsGoI/OH4lOk4Ufj8xZsnWFPt3P0k7yaoNt3s/whBzZ4S6eD/I3MiKjn53Px/QxjsUhnU/LUnw6IFgdz+gjMw9F95zP0cZ+VeUEnA/",
          "dtype": "f8"
         },
         "yaxis": "y2"
        }
       ],
       "layout": {
        "hovermode": "x unified",
        "showlegend": true,
        "template": {
         "data": {
          "bar": [
           {
            "error_x": {
             "color": "#2a3f5f"
            },
            "error_y": {
             "color": "#2a3f5f"
            },
            "marker": {
             "line": {
              "color": "#E5ECF6",
              "width": 0.5
             },
             "pattern": {
              "fillmode": "overlay",
              "size": 10,
              "solidity": 0.2
             }
            },
            "type": "bar"
           }
          ],
          "barpolar": [
           {
            "marker": {
             "line": {
              "color": "#E5ECF6",
              "width": 0.5
             },
             "pattern": {
              "fillmode": "overlay",
              "size": 10,
              "solidity": 0.2
             }
            },
            "type": "barpolar"
           }
          ],
          "carpet": [
           {
            "aaxis": {
             "endlinecolor": "#2a3f5f",
             "gridcolor": "white",
             "linecolor": "white",
             "minorgridcolor": "white",
             "startlinecolor": "#2a3f5f"
            },
            "baxis": {
             "endlinecolor": "#2a3f5f",
             "gridcolor": "white",
             "linecolor": "white",
             "minorgridcolor": "white",
             "startlinecolor": "#2a3f5f"
            },
            "type": "carpet"
           }
          ],
          "choropleth": [
           {
            "colorbar": {
             "outlinewidth": 0,
             "ticks": ""
            },
            "type": "choropleth"
           }
          ],
          "contour": [
           {
            "colorbar": {
             "outlinewidth": 0,
             "ticks": ""
            },
            "colorscale": [
             [
              0,
              "#0d0887"
             ],
             [
              0.1111111111111111,
              "#46039f"
             ],
             [
              0.2222222222222222,
              "#7201a8"
             ],
             [
              0.3333333333333333,
              "#9c179e"
             ],
             [
              0.4444444444444444,
              "#bd3786"
             ],
             [
              0.5555555555555556,
              "#d8576b"
             ],
             [
              0.6666666666666666,
              "#ed7953"
             ],
             [
              0.7777777777777778,
              "#fb9f3a"
             ],
             [
              0.8888888888888888,
              "#fdca26"
             ],
             [
              1,
              "#f0f921"
             ]
            ],
            "type": "contour"
           }
          ],
          "contourcarpet": [
           {
            "colorbar": {
             "outlinewidth": 0,
             "ticks": ""
            },
            "type": "contourcarpet"
           }
          ],
          "heatmap": [
           {
            "colorbar": {
             "outlinewidth": 0,
             "ticks": ""
            },
            "colorscale": [
             [
              0,
              "#0d0887"
             ],
             [
              0.1111111111111111,
              "#46039f"
             ],
             [
              0.2222222222222222,
              "#7201a8"
             ],
             [
              0.3333333333333333,
              "#9c179e"
             ],
             [
              0.4444444444444444,
              "#bd3786"
             ],
             [
              0.5555555555555556,
              "#d8576b"
             ],
             [
              0.6666666666666666,
              "#ed7953"
             ],
             [
              0.7777777777777778,
              "#fb9f3a"
             ],
             [
              0.8888888888888888,
              "#fdca26"
             ],
             [
              1,
              "#f0f921"
             ]
            ],
            "type": "heatmap"
           }
          ],
          "histogram": [
           {
            "marker": {
             "pattern": {
              "fillmode": "overlay",
              "size": 10,
              "solidity": 0.2
             }
            },
            "type": "histogram"
           }
          ],
          "histogram2d": [
           {
            "colorbar": {
             "outlinewidth": 0,
             "ticks": ""
            },
            "colorscale": [
             [
              0,
              "#0d0887"
             ],
             [
              0.1111111111111111,
              "#46039f"
             ],
             [
              0.2222222222222222,
              "#7201a8"
             ],
             [
              0.3333333333333333,
              "#9c179e"
             ],
             [
              0.4444444444444444,
              "#bd3786"
             ],
             [
              0.5555555555555556,
              "#d8576b"
             ],
             [
              0.6666666666666666,
              "#ed7953"
             ],
             [
              0.7777777777777778,
              "#fb9f3a"
             ],
             [
              0.8888888888888888,
              "#fdca26"
             ],
             [
              1,
              "#f0f921"
             ]
            ],
            "type": "histogram2d"
           }
          ],
          "histogram2dcontour": [
           {
            "colorbar": {
             "outlinewidth": 0,
             "ticks": ""
            },
            "colorscale": [
             [
              0,
              "#0d0887"
             ],
             [
              0.1111111111111111,
              "#46039f"
             ],
             [
              0.2222222222222222,
              "#7201a8"
             ],
             [
              0.3333333333333333,
              "#9c179e"
             ],
             [
              0.4444444444444444,
              "#bd3786"
             ],
             [
              0.5555555555555556,
              "#d8576b"
             ],
             [
              0.6666666666666666,
              "#ed7953"
             ],
             [
              0.7777777777777778,
              "#fb9f3a"
             ],
             [
              0.8888888888888888,
              "#fdca26"
             ],
             [
              1,
              "#f0f921"
             ]
            ],
            "type": "histogram2dcontour"
           }
          ],
          "mesh3d": [
           {
            "colorbar": {
             "outlinewidth": 0,
             "ticks": ""
            },
            "type": "mesh3d"
           }
          ],
          "parcoords": [
           {
            "line": {
             "colorbar": {
              "outlinewidth": 0,
              "ticks": ""
             }
            },
            "type": "parcoords"
           }
          ],
          "pie": [
           {
            "automargin": true,
            "type": "pie"
           }
          ],
          "scatter": [
           {
            "fillpattern": {
             "fillmode": "overlay",
             "size": 10,
             "solidity": 0.2
            },
            "type": "scatter"
           }
          ],
          "scatter3d": [
           {
            "line": {
             "colorbar": {
              "outlinewidth": 0,
              "ticks": ""
             }
            },
            "marker": {
             "colorbar": {
              "outlinewidth": 0,
              "ticks": ""
             }
            },
            "type": "scatter3d"
           }
          ],
          "scattercarpet": [
           {
            "marker": {
             "colorbar": {
              "outlinewidth": 0,
              "ticks": ""
             }
            },
            "type": "scattercarpet"
           }
          ],
          "scattergeo": [
           {
            "marker": {
             "colorbar": {
              "outlinewidth": 0,
              "ticks": ""
             }
            },
            "type": "scattergeo"
           }
          ],
          "scattergl": [
           {
            "marker": {
             "colorbar": {
              "outlinewidth": 0,
              "ticks": ""
             }
            },
            "type": "scattergl"
           }
          ],
          "scattermap": [
           {
            "marker": {
             "colorbar": {
              "outlinewidth": 0,
              "ticks": ""
             }
            },
            "type": "scattermap"
           }
          ],
          "scattermapbox": [
           {
            "marker": {
             "colorbar": {
              "outlinewidth": 0,
              "ticks": ""
             }
            },
            "type": "scattermapbox"
           }
          ],
          "scatterpolar": [
           {
            "marker": {
             "colorbar": {
              "outlinewidth": 0,
              "ticks": ""
             }
            },
            "type": "scatterpolar"
           }
          ],
          "scatterpolargl": [
           {
            "marker": {
             "colorbar": {
              "outlinewidth": 0,
              "ticks": ""
             }
            },
            "type": "scatterpolargl"
           }
          ],
          "scatterternary": [
           {
            "marker": {
             "colorbar": {
              "outlinewidth": 0,
              "ticks": ""
             }
            },
            "type": "scatterternary"
           }
          ],
          "surface": [
           {
            "colorbar": {
             "outlinewidth": 0,
             "ticks": ""
            },
            "colorscale": [
             [
              0,
              "#0d0887"
             ],
             [
              0.1111111111111111,
              "#46039f"
             ],
             [
              0.2222222222222222,
              "#7201a8"
             ],
             [
              0.3333333333333333,
              "#9c179e"
             ],
             [
              0.4444444444444444,
              "#bd3786"
             ],
             [
              0.5555555555555556,
              "#d8576b"
             ],
             [
              0.6666666666666666,
              "#ed7953"
             ],
             [
              0.7777777777777778,
              "#fb9f3a"
             ],
             [
              0.8888888888888888,
              "#fdca26"
             ],
             [
              1,
              "#f0f921"
             ]
            ],
            "type": "surface"
           }
          ],
          "table": [
           {
            "cells": {
             "fill": {
              "color": "#EBF0F8"
             },
             "line": {
              "color": "white"
             }
            },
            "header": {
             "fill": {
              "color": "#C8D4E3"
             },
             "line": {
              "color": "white"
             }
            },
            "type": "table"
           }
          ]
         },
         "layout": {
          "annotationdefaults": {
           "arrowcolor": "#2a3f5f",
           "arrowhead": 0,
           "arrowwidth": 1
          },
          "autotypenumbers": "strict",
          "coloraxis": {
           "colorbar": {
            "outlinewidth": 0,
            "ticks": ""
           }
          },
          "colorscale": {
           "diverging": [
            [
             0,
             "#8e0152"
            ],
            [
             0.1,
             "#c51b7d"
            ],
            [
             0.2,
             "#de77ae"
            ],
            [
             0.3,
             "#f1b6da"
            ],
            [
             0.4,
             "#fde0ef"
            ],
            [
             0.5,
             "#f7f7f7"
            ],
            [
             0.6,
             "#e6f5d0"
            ],
            [
             0.7,
             "#b8e186"
            ],
            [
             0.8,
             "#7fbc41"
            ],
            [
             0.9,
             "#4d9221"
            ],
            [
             1,
             "#276419"
            ]
           ],
           "sequential": [
            [
             0,
             "#0d0887"
            ],
            [
             0.1111111111111111,
             "#46039f"
            ],
            [
             0.2222222222222222,
             "#7201a8"
            ],
            [
             0.3333333333333333,
             "#9c179e"
            ],
            [
             0.4444444444444444,
             "#bd3786"
            ],
            [
             0.5555555555555556,
             "#d8576b"
            ],
            [
             0.6666666666666666,
             "#ed7953"
            ],
            [
             0.7777777777777778,
             "#fb9f3a"
            ],
            [
             0.8888888888888888,
             "#fdca26"
            ],
            [
             1,
             "#f0f921"
            ]
           ],
           "sequentialminus": [
            [
             0,
             "#0d0887"
            ],
            [
             0.1111111111111111,
             "#46039f"
            ],
            [
             0.2222222222222222,
             "#7201a8"
            ],
            [
             0.3333333333333333,
             "#9c179e"
            ],
            [
             0.4444444444444444,
             "#bd3786"
            ],
            [
             0.5555555555555556,
             "#d8576b"
            ],
            [
             0.6666666666666666,
             "#ed7953"
            ],
            [
             0.7777777777777778,
             "#fb9f3a"
            ],
            [
             0.8888888888888888,
             "#fdca26"
            ],
            [
             1,
             "#f0f921"
            ]
           ]
          },
          "colorway": [
           "#636efa",
           "#EF553B",
           "#00cc96",
           "#ab63fa",
           "#FFA15A",
           "#19d3f3",
           "#FF6692",
           "#B6E880",
           "#FF97FF",
           "#FECB52"
          ],
          "font": {
           "color": "#2a3f5f"
          },
          "geo": {
           "bgcolor": "white",
           "lakecolor": "white",
           "landcolor": "#E5ECF6",
           "showlakes": true,
           "showland": true,
           "subunitcolor": "white"
          },
          "hoverlabel": {
           "align": "left"
          },
          "hovermode": "closest",
          "mapbox": {
           "style": "light"
          },
          "paper_bgcolor": "white",
          "plot_bgcolor": "#E5ECF6",
          "polar": {
           "angularaxis": {
            "gridcolor": "white",
            "linecolor": "white",
            "ticks": ""
           },
           "bgcolor": "#E5ECF6",
           "radialaxis": {
            "gridcolor": "white",
            "linecolor": "white",
            "ticks": ""
           }
          },
          "scene": {
           "xaxis": {
            "backgroundcolor": "#E5ECF6",
            "gridcolor": "white",
            "gridwidth": 2,
            "linecolor": "white",
            "showbackground": true,
            "ticks": "",
            "zerolinecolor": "white"
           },
           "yaxis": {
            "backgroundcolor": "#E5ECF6",
            "gridcolor": "white",
            "gridwidth": 2,
            "linecolor": "white",
            "showbackground": true,
            "ticks": "",
            "zerolinecolor": "white"
           },
           "zaxis": {
            "backgroundcolor": "#E5ECF6",
            "gridcolor": "white",
            "gridwidth": 2,
            "linecolor": "white",
            "showbackground": true,
            "ticks": "",
            "zerolinecolor": "white"
           }
          },
          "shapedefaults": {
           "line": {
            "color": "#2a3f5f"
           }
          },
          "ternary": {
           "aaxis": {
            "gridcolor": "white",
            "linecolor": "white",
            "ticks": ""
           },
           "baxis": {
            "gridcolor": "white",
            "linecolor": "white",
            "ticks": ""
           },
           "bgcolor": "#E5ECF6",
           "caxis": {
            "gridcolor": "white",
            "linecolor": "white",
            "ticks": ""
           }
          },
          "title": {
           "x": 0.05
          },
          "xaxis": {
           "automargin": true,
           "gridcolor": "white",
           "linecolor": "white",
           "ticks": "",
           "title": {
            "standoff": 15
           },
           "zerolinecolor": "white",
           "zerolinewidth": 2
          },
          "yaxis": {
           "automargin": true,
           "gridcolor": "white",
           "linecolor": "white",
           "ticks": "",
           "title": {
            "standoff": 15
           },
           "zerolinecolor": "white",
           "zerolinewidth": 2
          }
         }
        },
        "title": {
         "text": "Bitcoin Hourly Log Return Statistics"
        },
        "xaxis": {
         "anchor": "y",
         "domain": [
          0,
          0.94
         ],
         "title": {
          "text": "Hour"
         }
        },
        "yaxis": {
         "anchor": "x",
         "domain": [
          0,
          1
         ],
         "title": {
          "text": "Mu (Mean Log Return)"
         }
        },
        "yaxis2": {
         "anchor": "x",
         "overlaying": "y",
         "side": "right",
         "title": {
          "text": "Sigma (Std Log Return)"
         }
        }
       }
      }
     },
     "metadata": {},
     "output_type": "display_data"
    }
   ],
   "source": [
    "import plotly.graph_objects as go\n",
    "from plotly.subplots import make_subplots\n",
    "\n",
    "# Create subplot with secondary y-axis\n",
    "fig = make_subplots(specs=[[{\"secondary_y\": True}]])\n",
    "\n",
    "# Extract hours, mu, and sigma from the hours list\n",
    "hours_df = pd.DataFrame(hours)\n",
    "\n",
    "# Add mu (mean) on primary y-axis\n",
    "fig.add_trace(go.Scatter(\n",
    "    x=hours_df['hour'],\n",
    "    y=hours_df['mu'],\n",
    "    mode='lines+markers',\n",
    "    name='Mu (Mean Log Return)',\n",
    "    line=dict(color='blue', width=2),\n",
    "    marker=dict(size=6)\n",
    "), secondary_y=False)\n",
    "\n",
    "# Add sigma (std) on secondary y-axis\n",
    "fig.add_trace(go.Scatter(\n",
    "    x=hours_df['hour'],\n",
    "    y=hours_df['sigma'],\n",
    "    mode='lines+markers',\n",
    "    name='Sigma (Std Log Return)',\n",
    "    line=dict(color='red', width=2),\n",
    "    marker=dict(size=6)\n",
    "), secondary_y=True)\n",
    "\n",
    "# Update layout\n",
    "fig.update_xaxes(title_text=\"Hour\")\n",
    "fig.update_yaxes(title_text=\"Mu (Mean Log Return)\", secondary_y=False)\n",
    "fig.update_yaxes(title_text=\"Sigma (Std Log Return)\", secondary_y=True)\n",
    "\n",
    "fig.update_layout(\n",
    "    title='Bitcoin Hourly Log Return Statistics',\n",
    "    showlegend=True,\n",
    "    hovermode='x unified'\n",
    ")\n",
    "\n",
    "fig.show()"
   ]
  },
  {
   "cell_type": "code",
   "execution_count": 42,
   "id": "1f794dfd",
   "metadata": {},
   "outputs": [],
   "source": [
    "# from polymarket_analysis.data.binance import Binance\n",
    "# import datetime\n",
    "\n",
    "# btc_df_day = Binance.load_bitcon_1d(\n",
    "#     from_date=datetime.datetime(2024, 7, 1),\n",
    "#     to_date=datetime.datetime(2025, 7, 23),\n",
    "# )[['timestamp', 'price']]\n",
    "\n",
    "# btc_df_loaded = btc_df_day.copy()\n",
    "# btc_df_loaded['prev_timestamp'] = btc_df_loaded['timestamp'].shift(1)\n",
    "# btc_df_loaded['prev_price'] = btc_df_loaded['price'].shift(1)\n",
    "# btc_df_loaded['timestamp_et'] = btc_df_loaded['timestamp'].dt.tz_convert('US/Eastern')\n",
    "\n",
    "# btc_df_loaded['return'] = btc_df_loaded['price'] / btc_df_loaded['prev_price']\n",
    "# btc_df_loaded['log_return'] = np.log(btc_df_loaded['return'])"
   ]
  },
  {
   "cell_type": "code",
   "execution_count": 94,
   "id": "a61990e0",
   "metadata": {},
   "outputs": [],
   "source": [
    "from polymarket_analysis.data.binance import Binance\n",
    "import datetime\n",
    "\n",
    "btc_df_day = Binance.load_bitcon_5min(\n",
    "    from_date=datetime.datetime(2025, 5, 1),\n",
    "    to_date=datetime.datetime(2025, 7, 23),\n",
    ")[['timestamp', 'price']]\n",
    "\n",
    "btc_df_loaded = btc_df_day.copy()\n",
    "btc_df_loaded['prev_timestamp'] = btc_df_loaded['timestamp'].shift(1)\n",
    "btc_df_loaded['prev_price'] = btc_df_loaded['price'].shift(1)\n",
    "btc_df_loaded['timestamp_et'] = btc_df_loaded['timestamp'].dt.tz_convert('US/Eastern')\n",
    "\n",
    "btc_df_loaded['return'] = btc_df_loaded['price'] / btc_df_loaded['prev_price']\n",
    "btc_df_loaded['log_return'] = np.log(btc_df_loaded['return'])"
   ]
  },
  {
   "cell_type": "code",
   "execution_count": 95,
   "id": "12fd220c",
   "metadata": {},
   "outputs": [],
   "source": [
    "btc_df_loaded['average_hour_sigma'] = btc_df_loaded['timestamp'].dt.hour.apply(lambda h: hours[h]['sigma'])"
   ]
  },
  {
   "cell_type": "code",
   "execution_count": 101,
   "id": "007dec30",
   "metadata": {},
   "outputs": [],
   "source": [
    "import plotly.graph_objects as go\n",
    "from plotly.subplots import make_subplots\n",
    "import pandas as pd\n",
    "\n",
    "# Calculate rolling average and rolling variance of log_return\n",
    "period = '5min'\n",
    "window_size = 12\n",
    "btc_df_loaded['log_return_rolling'] = btc_df_loaded['log_return'].rolling(window=window_size).mean()\n",
    "btc_df_loaded['log_return_rolling_sigma_hourly'] = btc_df_loaded['log_return'].rolling(window=window_size).std()*np.sqrt(12)*5\n",
    "\n",
    "# Create subplot with secondary y-axis\n",
    "fig = make_subplots(specs=[[{\"secondary_y\": True}]])\n",
    "\n",
    "# Add original log returns\n",
    "fig.add_trace(go.Scatter(\n",
    "    x=btc_df_loaded['timestamp'],\n",
    "    y=btc_df_loaded['log_return'],\n",
    "    mode='lines',\n",
    "    name='Log Return',\n",
    "    line=dict(color='lightblue', width=1),\n",
    "    opacity=0.6\n",
    "), secondary_y=False)\n",
    "\n",
    "# Add rolling average\n",
    "fig.add_trace(go.Scatter(\n",
    "    x=btc_df_loaded['timestamp'],\n",
    "    y=btc_df_loaded['log_return_rolling'],\n",
    "    mode='lines',\n",
    "    name=f'{window_size}-{period} Rolling Average Log Return',\n",
    "    line=dict(color='red', width=2)\n",
    "), secondary_y=False)\n",
    "\n",
    "# Add original log return average (overall mean)\n",
    "overall_log_return_mean = btc_df_loaded['log_return'].mean()\n",
    "fig.add_hline(\n",
    "    y=overall_log_return_mean,\n",
    "    line_width=2,\n",
    "    line_dash=\"solid\",\n",
    "    line_color=\"darkred\",\n",
    "    opacity=0.6,\n",
    "    annotation_text=\"Overall Log Return Mean\",\n",
    "    secondary_y=False\n",
    ")\n",
    "\n",
    "fig.add_trace(go.Scatter(\n",
    "    x=btc_df_loaded['timestamp'],\n",
    "    y=btc_df_loaded['log_return'],\n",
    "    mode='lines',\n",
    "    name=f'Log Return',\n",
    "    opacity=0.4,\n",
    "    line=dict(color='darkred', width=2)\n",
    "), secondary_y=False)\n",
    "\n",
    "# Add rolling variance on secondary y-axis\n",
    "fig.add_trace(go.Scatter(\n",
    "    x=btc_df_loaded['timestamp'],\n",
    "    y=btc_df_loaded['log_return_rolling_sigma_hourly'],\n",
    "    mode='lines',\n",
    "    name=f'{window_size}-{period} Rolling Sigma',\n",
    "    line=dict(color='green', width=2)\n",
    "), secondary_y=True)\n",
    "\n",
    "# Add rolling variance on secondary y-axis\n",
    "fig.add_trace(go.Scatter(\n",
    "    x=btc_df_loaded['timestamp'],\n",
    "    y=btc_df_loaded['average_hour_sigma'],\n",
    "    mode='lines',\n",
    "    name=f'Average Hour Sigma',\n",
    "    opacity=0.8,\n",
    "    line=dict(color='grey', width=2)\n",
    "), secondary_y=True)\n",
    "\n",
    "# Add original log return variance (overall variance)\n",
    "overall_log_return_var = btc_df_loaded['log_return'].std()\n",
    "fig.add_hline(\n",
    "    y=overall_log_return_var,\n",
    "    line_width=1,\n",
    "    line_dash=\"solid\", \n",
    "    line_color=\"darkgreen\",\n",
    "    opacity=0.4,\n",
    "    annotation_text=\"Overall Log Return Sigma\",\n",
    "    secondary_y=True\n",
    ")\n",
    "\n",
    "\n",
    "# Add horizontal line at zero\n",
    "fig.add_hline(y=0, line_width=1, line_dash=\"dash\", line_color=\"grey\", secondary_y=False)\n",
    "\n",
    "# Add vertical lines for start of week (UTC midnight Sunday-Monday)\n",
    "# Convert back to UTC for week calculation\n",
    "btc_df_loaded['timestamp_utc'] = btc_df_loaded['timestamp']\n",
    "btc_df_loaded['hour_utc'] = btc_df_loaded['timestamp_utc'].dt.hour\n",
    "btc_df_loaded['minute_utc'] = btc_df_loaded['timestamp_utc'].dt.minute\n",
    "\n",
    "midnight_starts = btc_df_loaded[\n",
    "    (btc_df_loaded['hour_utc'] == 0) & \n",
    "    (btc_df_loaded['minute_utc'] == 0)\n",
    "]\n",
    "\n",
    "for _, row in midnight_starts.iterrows():\n",
    "    # is_monday = row['weekday'] == 0\n",
    "    \n",
    "    fig.add_vline(\n",
    "        x=row['timestamp_et'], \n",
    "        line_width=2 if is_monday else 1, \n",
    "        line_dash=\"solid\" if is_monday else \"dot\", \n",
    "        line_color=\"red\" if is_monday else \"blue\",\n",
    "        opacity=0.8 if is_monday else 0.5\n",
    "    )\n",
    "\n",
    "fig.show(renderer=\"browser\")"
   ]
  },
  {
   "cell_type": "code",
   "execution_count": 48,
   "id": "12516852",
   "metadata": {},
   "outputs": [
    {
     "data": {
      "text/html": [
       "<div>\n",
       "<style scoped>\n",
       "    .dataframe tbody tr th:only-of-type {\n",
       "        vertical-align: middle;\n",
       "    }\n",
       "\n",
       "    .dataframe tbody tr th {\n",
       "        vertical-align: top;\n",
       "    }\n",
       "\n",
       "    .dataframe thead th {\n",
       "        text-align: right;\n",
       "    }\n",
       "</style>\n",
       "<table border=\"1\" class=\"dataframe\">\n",
       "  <thead>\n",
       "    <tr style=\"text-align: right;\">\n",
       "      <th></th>\n",
       "      <th>timestamp</th>\n",
       "      <th>price</th>\n",
       "      <th>prev_timestamp</th>\n",
       "      <th>prev_price</th>\n",
       "      <th>timestamp_et</th>\n",
       "      <th>return</th>\n",
       "      <th>log_return</th>\n",
       "      <th>log_return_rolling</th>\n",
       "      <th>log_return_rolling_var</th>\n",
       "      <th>timestamp_utc</th>\n",
       "      <th>weekday</th>\n",
       "      <th>hour_utc</th>\n",
       "    </tr>\n",
       "  </thead>\n",
       "  <tbody>\n",
       "    <tr>\n",
       "      <th>0</th>\n",
       "      <td>2025-04-30 22:00:00+00:00</td>\n",
       "      <td>94613.99</td>\n",
       "      <td>NaT</td>\n",
       "      <td>NaN</td>\n",
       "      <td>2025-04-30 18:00:00-04:00</td>\n",
       "      <td>NaN</td>\n",
       "      <td>NaN</td>\n",
       "      <td>NaN</td>\n",
       "      <td>NaN</td>\n",
       "      <td>2025-04-30 22:00:00+00:00</td>\n",
       "      <td>2</td>\n",
       "      <td>22</td>\n",
       "    </tr>\n",
       "    <tr>\n",
       "      <th>1</th>\n",
       "      <td>2025-04-30 22:05:00+00:00</td>\n",
       "      <td>94687.46</td>\n",
       "      <td>2025-04-30 22:00:00+00:00</td>\n",
       "      <td>94613.99</td>\n",
       "      <td>2025-04-30 18:05:00-04:00</td>\n",
       "      <td>1.000777</td>\n",
       "      <td>0.000776</td>\n",
       "      <td>NaN</td>\n",
       "      <td>NaN</td>\n",
       "      <td>2025-04-30 22:05:00+00:00</td>\n",
       "      <td>2</td>\n",
       "      <td>22</td>\n",
       "    </tr>\n",
       "    <tr>\n",
       "      <th>2</th>\n",
       "      <td>2025-04-30 22:10:00+00:00</td>\n",
       "      <td>94584.66</td>\n",
       "      <td>2025-04-30 22:05:00+00:00</td>\n",
       "      <td>94687.46</td>\n",
       "      <td>2025-04-30 18:10:00-04:00</td>\n",
       "      <td>0.998914</td>\n",
       "      <td>-0.001086</td>\n",
       "      <td>NaN</td>\n",
       "      <td>NaN</td>\n",
       "      <td>2025-04-30 22:10:00+00:00</td>\n",
       "      <td>2</td>\n",
       "      <td>22</td>\n",
       "    </tr>\n",
       "    <tr>\n",
       "      <th>3</th>\n",
       "      <td>2025-04-30 22:15:00+00:00</td>\n",
       "      <td>94520.20</td>\n",
       "      <td>2025-04-30 22:10:00+00:00</td>\n",
       "      <td>94584.66</td>\n",
       "      <td>2025-04-30 18:15:00-04:00</td>\n",
       "      <td>0.999318</td>\n",
       "      <td>-0.000682</td>\n",
       "      <td>NaN</td>\n",
       "      <td>NaN</td>\n",
       "      <td>2025-04-30 22:15:00+00:00</td>\n",
       "      <td>2</td>\n",
       "      <td>22</td>\n",
       "    </tr>\n",
       "    <tr>\n",
       "      <th>4</th>\n",
       "      <td>2025-04-30 22:20:00+00:00</td>\n",
       "      <td>94489.34</td>\n",
       "      <td>2025-04-30 22:15:00+00:00</td>\n",
       "      <td>94520.20</td>\n",
       "      <td>2025-04-30 18:20:00-04:00</td>\n",
       "      <td>0.999674</td>\n",
       "      <td>-0.000327</td>\n",
       "      <td>NaN</td>\n",
       "      <td>NaN</td>\n",
       "      <td>2025-04-30 22:20:00+00:00</td>\n",
       "      <td>2</td>\n",
       "      <td>22</td>\n",
       "    </tr>\n",
       "  </tbody>\n",
       "</table>\n",
       "</div>"
      ],
      "text/plain": [
       "                  timestamp     price            prev_timestamp  prev_price  \\\n",
       "0 2025-04-30 22:00:00+00:00  94613.99                       NaT         NaN   \n",
       "1 2025-04-30 22:05:00+00:00  94687.46 2025-04-30 22:00:00+00:00    94613.99   \n",
       "2 2025-04-30 22:10:00+00:00  94584.66 2025-04-30 22:05:00+00:00    94687.46   \n",
       "3 2025-04-30 22:15:00+00:00  94520.20 2025-04-30 22:10:00+00:00    94584.66   \n",
       "4 2025-04-30 22:20:00+00:00  94489.34 2025-04-30 22:15:00+00:00    94520.20   \n",
       "\n",
       "               timestamp_et    return  log_return  log_return_rolling  \\\n",
       "0 2025-04-30 18:00:00-04:00       NaN         NaN                 NaN   \n",
       "1 2025-04-30 18:05:00-04:00  1.000777    0.000776                 NaN   \n",
       "2 2025-04-30 18:10:00-04:00  0.998914   -0.001086                 NaN   \n",
       "3 2025-04-30 18:15:00-04:00  0.999318   -0.000682                 NaN   \n",
       "4 2025-04-30 18:20:00-04:00  0.999674   -0.000327                 NaN   \n",
       "\n",
       "   log_return_rolling_var             timestamp_utc  weekday  hour_utc  \n",
       "0                     NaN 2025-04-30 22:00:00+00:00        2        22  \n",
       "1                     NaN 2025-04-30 22:05:00+00:00        2        22  \n",
       "2                     NaN 2025-04-30 22:10:00+00:00        2        22  \n",
       "3                     NaN 2025-04-30 22:15:00+00:00        2        22  \n",
       "4                     NaN 2025-04-30 22:20:00+00:00        2        22  "
      ]
     },
     "execution_count": 48,
     "metadata": {},
     "output_type": "execute_result"
    }
   ],
   "source": [
    "btc_df_loaded.head()"
   ]
  },
  {
   "cell_type": "code",
   "execution_count": 49,
   "id": "f3ec1b84",
   "metadata": {
    "vscode": {
     "languageId": "ruby"
    }
   },
   "outputs": [],
   "source": [
    "import numpy as np\n",
    "\n",
    "def p_larger(hours_ahead: float, current_price: float, target_price: float) -> float:\n",
    "\n",
    "    # Calculate drift and volatility\n",
    "    log_drift = (self.mu - 0.5 * self.sigma**2) * hours_ahead\n",
    "    log_volatility = self.sigma * np.sqrt(hours_ahead)\n",
    "            \n",
    "    # Calculate log ratio: ln(target_price / current_price)\n",
    "    log_target_ratio = np.log(target_price / current_price)"
   ]
  },
  {
   "cell_type": "code",
   "execution_count": null,
   "id": "56131f27",
   "metadata": {},
   "outputs": [],
   "source": []
  },
  {
   "cell_type": "code",
   "execution_count": null,
   "id": "538d6a8a",
   "metadata": {},
   "outputs": [],
   "source": []
  }
 ],
 "metadata": {
  "kernelspec": {
   "display_name": "polymarket-analysis-rlaaxbWf-py3.13",
   "language": "python",
   "name": "python3"
  },
  "language_info": {
   "codemirror_mode": {
    "name": "ipython",
    "version": 3
   },
   "file_extension": ".py",
   "mimetype": "text/x-python",
   "name": "python",
   "nbconvert_exporter": "python",
   "pygments_lexer": "ipython3",
   "version": "3.13.5"
  }
 },
 "nbformat": 4,
 "nbformat_minor": 5
}
