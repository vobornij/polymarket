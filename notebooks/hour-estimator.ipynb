{
 "cells": [
  {
   "cell_type": "code",
   "execution_count": 6,
   "id": "38b1e3b2",
   "metadata": {},
   "outputs": [
    {
     "name": "stdout",
     "output_type": "stream",
     "text": [
      "Running hour-estimator analysis for BTC\n",
      "Data files: /Users/kate/projects/polymarket/data/btc_5min_data.json, /Users/kate/projects/polymarket/data/btc_hourly_data.json\n",
      "Binance methods: load_bitcon_5min, load_bitcon_1h\n"
     ]
    }
   ],
   "source": [
    "# Configuration\n",
    "CRYPTO = 'BTC'\n",
    "# CRYPTO = 'ETH'\n",
    "\n",
    "print(f\"Running hour-estimator analysis for {CRYPTO}\")\n",
    "\n",
    "# Set file paths and method names based on crypto selection\n",
    "if CRYPTO == 'BTC':\n",
    "    data_file_5min = '/Users/kate/projects/polymarket/data/btc_5min_data.json'\n",
    "    data_file_1h = '/Users/kate/projects/polymarket/data/btc_hourly_data.json'\n",
    "    binance_method_5min = 'load_bitcon_5min'\n",
    "    binance_method_1h = 'load_bitcon_1h'\n",
    "elif CRYPTO == 'ETH':\n",
    "    data_file_5min = '/Users/kate/projects/polymarket/data/eth_5min_data.json'\n",
    "    data_file_1h = '/Users/kate/projects/polymarket/data/eth_hourly_data.json'\n",
    "    binance_method_5min = 'load_eth_5min'\n",
    "    binance_method_1h = 'load_eth_1h'\n",
    "else:\n",
    "    raise ValueError(f\"Unsupported cryptocurrency: {CRYPTO}\")\n",
    "\n",
    "print(f\"Data files: {data_file_5min}, {data_file_1h}\")\n",
    "print(f\"Binance methods: {binance_method_5min}, {binance_method_1h}\")"
   ]
  },
  {
   "cell_type": "code",
   "execution_count": 7,
   "id": "9f1dbc21",
   "metadata": {},
   "outputs": [
    {
     "name": "stdout",
     "output_type": "stream",
     "text": [
      "Hourly data file already exists: /Users/kate/projects/polymarket/data/btc_hourly_data.json\n",
      "5-minute data file already exists: /Users/kate/projects/polymarket/data/btc_5min_data.json\n"
     ]
    }
   ],
   "source": [
    "# Download ETH data if it doesn't exist\n",
    "import os\n",
    "from polymarket_analysis.data.binance import Binance\n",
    "import datetime\n",
    "\n",
    "if not os.path.exists(data_file_1h):\n",
    "    print(f\"Downloading {CRYPTO} hourly data...\")\n",
    "    crypto_df_1h = getattr(Binance, binance_method_1h)(\n",
    "        from_date=datetime.datetime(2025, 6, 1),\n",
    "        to_date=datetime.datetime(2025, 9, 1),\n",
    "    )[['timestamp', 'price']]\n",
    "    \n",
    "    crypto_df_1h.to_json(data_file_1h, \n",
    "                        orient='records', \n",
    "                        date_format='iso',\n",
    "                        lines=True)\n",
    "    print(f\"Saved {len(crypto_df_1h)} hourly records to {data_file_1h}\")\n",
    "else:\n",
    "    print(f\"Hourly data file already exists: {data_file_1h}\")\n",
    "\n",
    "if not os.path.exists(data_file_5min):\n",
    "    print(f\"Downloading {CRYPTO} 5-minute data...\")\n",
    "    crypto_df_5min = getattr(Binance, binance_method_5min)(\n",
    "        from_date=datetime.datetime(2025, 6, 1),\n",
    "        to_date=datetime.datetime(2025, 9, 1),\n",
    "    )[['timestamp', 'price']]\n",
    "    \n",
    "    crypto_df_5min.to_json(data_file_5min, \n",
    "                          orient='records', \n",
    "                          date_format='iso',\n",
    "                          lines=True)\n",
    "    print(f\"Saved {len(crypto_df_5min)} 5-minute records to {data_file_5min}\")\n",
    "else:\n",
    "    print(f\"5-minute data file already exists: {data_file_5min}\")"
   ]
  },
  {
   "cell_type": "code",
   "execution_count": 8,
   "id": "cb8ed4a9",
   "metadata": {},
   "outputs": [],
   "source": [
    "from polymarket_analysis.data.binance import Binance\n",
    "import datetime\n",
    "\n",
    "# Dynamically call the appropriate method based on crypto selection\n",
    "# crypto_df = getattr(Binance, binance_method_1h)(\n",
    "#     from_date=datetime.datetime(2024, 7, 1),\n",
    "#     to_date=datetime.datetime(2025, 7, 23),\n",
    "# )[['timestamp', 'price']]\n",
    "\n",
    "# crypto_df.to_json(data_file_1h, \n",
    "#                orient='records', \n",
    "#                date_format='iso',\n",
    "#                lines=True)\n",
    "\n",
    "import pandas as pd\n",
    "crypto_df_loaded = pd.read_json(data_file_1h, lines=True)\n",
    "\n",
    "# Convert timestamp back to datetime if needed\n",
    "crypto_df_loaded['timestamp'] = pd.to_datetime(crypto_df_loaded['timestamp'])"
   ]
  },
  {
   "cell_type": "code",
   "execution_count": 13,
   "id": "22ca0244",
   "metadata": {},
   "outputs": [],
   "source": [
    "from polymarket_analysis.data.binance import Binance\n",
    "import datetime\n",
    "\n",
    "# Dynamically call the appropriate method based on crypto selection\n",
    "# crypto_df = getattr(Binance, binance_method_5min)(\n",
    "#     from_date=datetime.datetime(2024, 7, 1),\n",
    "#     to_date=datetime.datetime(2025, 7, 23),\n",
    "# )[['timestamp', 'price']]\n",
    "\n",
    "# print(f\"Downloaded {len(crypto_df)} rows\")\n",
    "\n",
    "# crypto_df.to_json(data_file_5min, \n",
    "#                orient='records', \n",
    "#                date_format='iso',\n",
    "#                lines=True)\n",
    "\n",
    "import pandas as pd\n",
    "crypto_df_loaded = pd.read_json(data_file_5min, lines=True)\n",
    "\n",
    "# Convert timestamp back to datetime if needed\n",
    "crypto_df_loaded['timestamp'] = pd.to_datetime(crypto_df_loaded['timestamp'])"
   ]
  },
  {
   "cell_type": "code",
   "execution_count": 14,
   "id": "0ded883a",
   "metadata": {},
   "outputs": [
    {
     "name": "stdout",
     "output_type": "stream",
     "text": [
      "Loaded 51789 rows\n"
     ]
    },
    {
     "data": {
      "text/html": [
       "<div>\n",
       "<style scoped>\n",
       "    .dataframe tbody tr th:only-of-type {\n",
       "        vertical-align: middle;\n",
       "    }\n",
       "\n",
       "    .dataframe tbody tr th {\n",
       "        vertical-align: top;\n",
       "    }\n",
       "\n",
       "    .dataframe thead th {\n",
       "        text-align: right;\n",
       "    }\n",
       "</style>\n",
       "<table border=\"1\" class=\"dataframe\">\n",
       "  <thead>\n",
       "    <tr style=\"text-align: right;\">\n",
       "      <th></th>\n",
       "      <th>timestamp</th>\n",
       "      <th>price</th>\n",
       "    </tr>\n",
       "  </thead>\n",
       "  <tbody>\n",
       "    <tr>\n",
       "      <th>51784</th>\n",
       "      <td>2025-08-26 20:20:00+00:00</td>\n",
       "      <td>111229.99</td>\n",
       "    </tr>\n",
       "    <tr>\n",
       "      <th>51785</th>\n",
       "      <td>2025-08-26 20:25:00+00:00</td>\n",
       "      <td>111280.00</td>\n",
       "    </tr>\n",
       "    <tr>\n",
       "      <th>51786</th>\n",
       "      <td>2025-08-26 20:30:00+00:00</td>\n",
       "      <td>111332.85</td>\n",
       "    </tr>\n",
       "    <tr>\n",
       "      <th>51787</th>\n",
       "      <td>2025-08-26 20:35:00+00:00</td>\n",
       "      <td>111287.26</td>\n",
       "    </tr>\n",
       "    <tr>\n",
       "      <th>51788</th>\n",
       "      <td>2025-08-26 20:40:00+00:00</td>\n",
       "      <td>111255.76</td>\n",
       "    </tr>\n",
       "  </tbody>\n",
       "</table>\n",
       "</div>"
      ],
      "text/plain": [
       "                      timestamp      price\n",
       "51784 2025-08-26 20:20:00+00:00  111229.99\n",
       "51785 2025-08-26 20:25:00+00:00  111280.00\n",
       "51786 2025-08-26 20:30:00+00:00  111332.85\n",
       "51787 2025-08-26 20:35:00+00:00  111287.26\n",
       "51788 2025-08-26 20:40:00+00:00  111255.76"
      ]
     },
     "execution_count": 14,
     "metadata": {},
     "output_type": "execute_result"
    }
   ],
   "source": [
    "print(f\"Loaded {len(crypto_df_loaded)} rows\")\n",
    "crypto_df_loaded.tail()"
   ]
  },
  {
   "cell_type": "code",
   "execution_count": 15,
   "id": "04dc6b7a",
   "metadata": {},
   "outputs": [],
   "source": [
    "import numpy as np\n",
    "\n",
    "crypto_df_loaded['prev_timestamp'] = crypto_df_loaded['timestamp'].shift(1)\n",
    "crypto_df_loaded['prev_price'] = crypto_df_loaded['price'].shift(1)\n",
    "\n",
    "crypto_df_loaded['return'] = crypto_df_loaded['price'] / crypto_df_loaded['prev_price']\n",
    "crypto_df_loaded['log_return'] = np.log(crypto_df_loaded['return'])"
   ]
  },
  {
   "cell_type": "code",
   "execution_count": 16,
   "id": "0cfada01",
   "metadata": {},
   "outputs": [],
   "source": [
    "result_weekly = []\n",
    "\n",
    "for day_of_week in range(7):  # 0=Monday, 6=Sunday\n",
    "    for hour in range(24):\n",
    "        for interval in range(12):\n",
    "            mask = (\n",
    "                (crypto_df_loaded['timestamp'].dt.dayofweek == day_of_week) &\n",
    "                (crypto_df_loaded['timestamp'].dt.hour == hour) & \n",
    "                (crypto_df_loaded['timestamp'].dt.minute == interval * 5)\n",
    "            )\n",
    "            if mask.any():\n",
    "                # Get the data for this day_of_week/hour/interval\n",
    "                bucket_data = crypto_df_loaded.loc[mask].copy()\n",
    "                \n",
    "                # Drop extreme 1% values (0.5% from each tail)\n",
    "                q_low = bucket_data['log_return'].quantile(0.005)\n",
    "                q_high = bucket_data['log_return'].quantile(0.995)\n",
    "\n",
    "                q_ninety = bucket_data['log_return'].quantile(0.9)\n",
    "                \n",
    "                # Filter out extreme values\n",
    "                filtered_data = bucket_data[\n",
    "                    (bucket_data['log_return'] >= q_low) & \n",
    "                    (bucket_data['log_return'] <= q_high)\n",
    "                ]\n",
    "\n",
    "                filtered_data_ninety = bucket_data[\n",
    "                (bucket_data['log_return'] >= q_low) & \n",
    "                (bucket_data['log_return'] <= q_ninety)\n",
    "            ]\n",
    "\n",
    "                \n",
    "                # Calculate statistics on filtered data\n",
    "                if len(filtered_data) > 0:\n",
    "                    mean_return = filtered_data['return'].mean()\n",
    "                    mean_log_return = filtered_data['log_return'].mean()\n",
    "                    median_log_return = filtered_data['log_return'].median()\n",
    "                    log_return_std = filtered_data['log_return'].std()\n",
    "                    log_return_var = filtered_data['log_return'].var()\n",
    "                    log_return_std_ninety = filtered_data_ninety['log_return'].std()\n",
    "                    \n",
    "                    result_weekly.append({\n",
    "                        'day_of_week': day_of_week,\n",
    "                        'hour': hour,\n",
    "                        'interval': interval,\n",
    "                        'mean_return': mean_return,\n",
    "                        'mean_log_return': mean_log_return,\n",
    "                        'median_log_return': median_log_return,\n",
    "                        'log_return_std': log_return_std,\n",
    "                        'log_return_std_ninety': log_return_std_ninety,\n",
    "                        'n_observations': len(filtered_data),\n",
    "                        'n_dropped': len(bucket_data) - len(filtered_data)\n",
    "                    })\n",
    "\n",
    "result_weekly = pd.DataFrame(result_weekly)"
   ]
  },
  {
   "cell_type": "code",
   "execution_count": 17,
   "id": "5b4ecccc",
   "metadata": {},
   "outputs": [],
   "source": [
    "window_size = 12  # 1 hour window (12 * 5min intervals)\n",
    "def circular_rolling(series, window):\n",
    "    \"\"\"Apply rolling mean with circular boundary conditions\"\"\"\n",
    "    half_window = window // 2\n",
    "    \n",
    "    # Create circular extension by wrapping end values to beginning\n",
    "    extended = pd.concat([\n",
    "        series.iloc[-half_window:],  # Last half_window values at start\n",
    "        series,\n",
    "        series.iloc[:half_window]    # First half_window values at end\n",
    "    ], ignore_index=True)\n",
    "    \n",
    "    # Apply rolling and extract middle portion\n",
    "    rolled = extended.rolling(window=window, center=True).mean()\n",
    "    return rolled.iloc[half_window:-half_window].reset_index(drop=True)"
   ]
  },
  {
   "cell_type": "code",
   "execution_count": 18,
   "id": "1011ab4a",
   "metadata": {},
   "outputs": [],
   "source": [
    "result_weekly['mean_log_return_rolling'] = circular_rolling(result_weekly['mean_log_return'], window_size)\n",
    "result_weekly['median_log_return_rolling'] = circular_rolling(result_weekly['median_log_return'], window_size)\n",
    "result_weekly['log_return_std_rolling'] = circular_rolling(result_weekly['log_return_std'], window_size)\n",
    "result_weekly['log_return_std_ninety_rolling'] = circular_rolling(result_weekly['log_return_std_ninety'], window_size)\n",
    "result_weekly['log_return_std_rolling_daily'] = circular_rolling(result_weekly['log_return_std'], window_size*24)"
   ]
  },
  {
   "cell_type": "code",
   "execution_count": 19,
   "id": "25affcfe",
   "metadata": {},
   "outputs": [],
   "source": [
    "from datetime import time\n",
    "\n",
    "# Define start and end dates based on data\n",
    "start_date = crypto_df_loaded['timestamp'].min()\n",
    "end_date = crypto_df_loaded['timestamp'].max()\n",
    "\n",
    "periodic_data = []\n",
    "periodic_weekly_data = []\n",
    "date_range = pd.date_range(start=start_date.date(), end=end_date.date(), freq='D')\n",
    "\n",
    "for date in date_range:\n",
    "    day_of_week = date.dayofweek\n",
    "    \n",
    "    \n",
    "    # Weekly periodic data\n",
    "    weekly_rows = result_weekly[result_weekly['day_of_week'] == day_of_week]\n",
    "    for _, row in weekly_rows.iterrows():\n",
    "        periodic_timestamp = pd.Timestamp.combine(\n",
    "            date, \n",
    "            time(hour=int(row['hour']), minute=int(row['interval'] * 5))\n",
    "        )\n",
    "        periodic_weekly_data.append({\n",
    "            'timestamp': periodic_timestamp,\n",
    "            'periodic_weekly_median_log_return': row['median_log_return'],\n",
    "            'periodic_weekly_log_return_std_rolling': row['log_return_std_rolling'],\n",
    "            'periodic_weekly_log_return_std_ninety_rolling': row['log_return_std_ninety_rolling'],\n",
    "            'periodic_weekly_log_return_std_rolling_daily': row['log_return_std_rolling_daily']\n",
    "        })\n",
    "\n",
    "periodic_df = pd.DataFrame(periodic_data)\n",
    "periodic_weekly_df = pd.DataFrame(periodic_weekly_data)"
   ]
  },
  {
   "cell_type": "code",
   "execution_count": 1,
   "id": "5fbe78df",
   "metadata": {},
   "outputs": [
    {
     "ename": "NameError",
     "evalue": "name 'crypto_df_loaded' is not defined",
     "output_type": "error",
     "traceback": [
      "\u001b[31m---------------------------------------------------------------------------\u001b[39m",
      "\u001b[31mNameError\u001b[39m                                 Traceback (most recent call last)",
      "\u001b[36mCell\u001b[39m\u001b[36m \u001b[39m\u001b[32mIn[1]\u001b[39m\u001b[32m, line 7\u001b[39m\n\u001b[32m      4\u001b[39m lookback_window = \u001b[32m1\u001b[39m * \u001b[32m24\u001b[39m * \u001b[32m12\u001b[39m  \u001b[38;5;66;03m# 1 day of 5-min intervals\u001b[39;00m\n\u001b[32m      6\u001b[39m \u001b[38;5;66;03m# Get recent data for analysis\u001b[39;00m\n\u001b[32m----> \u001b[39m\u001b[32m7\u001b[39m end_date_recent = \u001b[43mcrypto_df_loaded\u001b[49m[\u001b[33m'\u001b[39m\u001b[33mtimestamp\u001b[39m\u001b[33m'\u001b[39m].max()\n\u001b[32m      8\u001b[39m start_date_recent = end_date_recent - datetime.timedelta(days=\u001b[32m160\u001b[39m)\n\u001b[32m      9\u001b[39m crypto_recent = crypto_df_loaded[crypto_df_loaded[\u001b[33m'\u001b[39m\u001b[33mtimestamp\u001b[39m\u001b[33m'\u001b[39m] >= start_date_recent].copy()\n",
      "\u001b[31mNameError\u001b[39m: name 'crypto_df_loaded' is not defined"
     ]
    }
   ],
   "source": [
    "import numpy as np\n",
    "\n",
    "# Define lookback window (1 week = 7*24*12 = 2016 intervals)\n",
    "lookback_window = 1 * 24 * 12  # 1 day of 5-min intervals\n",
    "\n",
    "# Get recent data for analysis\n",
    "end_date_recent = crypto_df_loaded['timestamp'].max()\n",
    "start_date_recent = end_date_recent - datetime.timedelta(days=160)\n",
    "crypto_recent = crypto_df_loaded[crypto_df_loaded['timestamp'] >= start_date_recent].copy()\n",
    "\n",
    "# Calculate rolling standard deviation of actual data (equivalent to last_week_log_return_std for each timestamp)\n",
    "crypto_recent['rolling_actual_std'] = crypto_recent['log_return'].rolling(\n",
    "    window=lookback_window, \n",
    "    min_periods=lookback_window//2\n",
    ").std()\n",
    "\n",
    "# Add template std to crypto_recent first\n",
    "periodic_lookup = {}\n",
    "for _, row in periodic_weekly_df.iterrows():\n",
    "    key = (row['timestamp'].dayofweek, row['timestamp'].hour, row['timestamp'].minute)\n",
    "    periodic_lookup[key] = row['periodic_weekly_log_return_std_rolling']\n",
    "\n",
    "periodic_lookup_ninety = {}\n",
    "for _, row in periodic_weekly_df.iterrows():\n",
    "    key = (row['timestamp'].dayofweek, row['timestamp'].hour, row['timestamp'].minute)\n",
    "    periodic_lookup_ninety[key] = row['periodic_weekly_log_return_std_ninety_rolling']\n",
    "\n",
    "crypto_recent['template_std'] = crypto_recent['timestamp'].apply(\n",
    "    lambda ts: periodic_lookup.get((ts.dayofweek, ts.hour, ts.minute), np.nan)\n",
    ")\n",
    "\n",
    "crypto_recent['template_std_ninety'] = crypto_recent['timestamp'].apply(\n",
    "    lambda ts: periodic_lookup_ninety.get((ts.dayofweek, ts.hour, ts.minute), np.nan)\n",
    ")\n",
    "\n",
    "# Calculate rolling RMS of template std for each timestamp (same window as actual data)\n",
    "crypto_recent['template_rms_std_rolling'] = crypto_recent['template_std'].rolling(\n",
    "    window=lookback_window,\n",
    "    min_periods=lookback_window//2\n",
    ").apply(lambda x: np.sqrt(np.mean(x**2)), raw=True)\n",
    "\n",
    "\n",
    "# Calculate time-varying scaling factor using rolling template RMS\n",
    "crypto_recent['scaling_factor'] = crypto_recent['rolling_actual_std'] / crypto_recent['template_rms_std_rolling']\n",
    "\n",
    "# Apply scaling to get time-varying scaled template std\n",
    "crypto_recent['scaled_periodic_std'] = crypto_recent['template_std'] * crypto_recent['scaling_factor']\n",
    "\n",
    "# Fill any NaN values with the static scaling factor from cell 36\n",
    "crypto_recent['scaling_factor'] = crypto_recent['scaling_factor']\n",
    "crypto_recent['scaled_periodic_std'] = crypto_recent['scaled_periodic_std']\n",
    "\n",
    "print(f\"Time-varying scaling factor range: {crypto_recent['scaling_factor'].min():.4f} to {crypto_recent['scaling_factor'].max():.4f}\")\n",
    "print(f\"Time-varying scaling factor mean: {crypto_recent['scaling_factor'].mean():.4f}\")"
   ]
  },
  {
   "cell_type": "code",
   "execution_count": 21,
   "id": "bd71d648",
   "metadata": {},
   "outputs": [],
   "source": [
    "import plotly.graph_objects as go\n",
    "from plotly.subplots import make_subplots\n",
    "\n",
    "# Plot scaling factor over time\n",
    "fig = make_subplots(specs=[[{\"secondary_y\": True}]])\n",
    "\n",
    "# Add scaling factor\n",
    "fig.add_trace(go.Scatter(\n",
    "    x=crypto_recent['timestamp'],\n",
    "    y=crypto_recent['scaling_factor'],\n",
    "    mode='lines',\n",
    "    name='Time-varying Scaling Factor',\n",
    "    line=dict(color='blue', width=2)\n",
    "), secondary_y=False)\n",
    "\n",
    "# Add rolling actual std for context\n",
    "fig.add_trace(go.Scatter(\n",
    "    x=crypto_recent['timestamp'],\n",
    "    y=crypto_recent['rolling_actual_std'],\n",
    "    mode='lines',\n",
    "    name='Rolling Actual Std',\n",
    "    line=dict(color='red', width=1),\n",
    "    opacity=0.7\n",
    "), secondary_y=True)\n",
    "\n",
    "# Add template std for context\n",
    "fig.add_trace(go.Scatter(\n",
    "    x=crypto_recent['timestamp'],\n",
    "    y=crypto_recent['template_std'],\n",
    "    mode='lines',\n",
    "    name='Template Std',\n",
    "    line=dict(color='green', width=1),\n",
    "    opacity=0.7\n",
    "), secondary_y=True)\n",
    "\n",
    "fig.add_trace(go.Scatter(\n",
    "    x=crypto_recent['timestamp'],\n",
    "    y=crypto_recent['template_std_ninety'],\n",
    "    mode='lines',\n",
    "    name='Template Std Ninety',\n",
    "    line=dict(color='lightgreen', width=1),\n",
    "    opacity=0.7\n",
    "), secondary_y=True)\n",
    "\n",
    "# Add scaled periodic std\n",
    "fig.add_trace(go.Scatter(\n",
    "    x=crypto_recent['timestamp'],\n",
    "    y=crypto_recent['scaled_periodic_std'],\n",
    "    mode='lines',\n",
    "    name='Scaled Periodic Std',\n",
    "    line=dict(color='purple', width=2)\n",
    "), secondary_y=True)\n",
    "\n",
    "# Update axes\n",
    "fig.update_xaxes(title_text=\"Date\")\n",
    "fig.update_yaxes(title_text=\"Scaling Factor\", secondary_y=False)\n",
    "fig.update_yaxes(title_text=\"Standard Deviation\", secondary_y=True)\n",
    "\n",
    "# Update layout\n",
    "fig.update_layout(\n",
    "    title=f'{CRYPTO} Time-varying Scaling Factor and Standard Deviations',\n",
    "    showlegend=True,\n",
    "    hovermode='x unified',\n",
    "    height=600\n",
    ")\n",
    "\n",
    "fig.show(renderer=\"browser\")"
   ]
  },
  {
   "cell_type": "code",
   "execution_count": 22,
   "id": "477134fc",
   "metadata": {},
   "outputs": [
    {
     "name": "stdout",
     "output_type": "stream",
     "text": [
      "Rolling mean log return statistics:\n",
      "1 day window - mean: 0.000006, std: 0.000270\n",
      "7 day window - mean: 0.000005, std: 0.000103\n",
      "1 month window - mean: 0.000006, std: 0.000043\n"
     ]
    }
   ],
   "source": [
    "import plotly.graph_objects as go\n",
    "from plotly.subplots import make_subplots\n",
    "import numpy as np\n",
    "\n",
    "# Calculate rolling mean log returns for different windows\n",
    "# 1 day = 1*24*12 = 288 intervals (5-min intervals)\n",
    "# 7 days = 7*24*12 = 2016 intervals  \n",
    "# 1 month = 30*24*12 = 8640 intervals\n",
    "\n",
    "mean_df = crypto_df_loaded.copy()\n",
    "\n",
    "mean_df['mean_log_return_1d'] = mean_df['log_return'].rolling(\n",
    "    window=24, \n",
    "    min_periods=12\n",
    ").mean()\n",
    "\n",
    "mean_df['mean_log_return_7d'] = mean_df['log_return'].rolling(\n",
    "    window=7*24, \n",
    "    min_periods=7*24//2\n",
    ").mean()\n",
    "\n",
    "mean_df['mean_log_return_1m'] = mean_df['log_return'].rolling(\n",
    "    window=30*24, \n",
    "    min_periods=30*24//2\n",
    ").mean()\n",
    "\n",
    "# Create plot\n",
    "fig = go.Figure()\n",
    "\n",
    "# Add rolling mean log returns\n",
    "fig.add_trace(go.Scatter(\n",
    "    x=mean_df['timestamp'],\n",
    "    y=mean_df['mean_log_return_1d'],\n",
    "    mode='lines',\n",
    "    name='Rolling Mean Log Return (1 day)',\n",
    "    line=dict(color='blue', width=2)\n",
    "))\n",
    "\n",
    "fig.add_trace(go.Scatter(\n",
    "    x=mean_df['timestamp'],\n",
    "    y=mean_df['mean_log_return_7d'],\n",
    "    mode='lines',\n",
    "    name='Rolling Mean Log Return (7 days)',\n",
    "    line=dict(color='red', width=2)\n",
    "))\n",
    "\n",
    "fig.add_trace(go.Scatter(\n",
    "    x=mean_df['timestamp'],\n",
    "    y=mean_df['mean_log_return_1m'],\n",
    "    mode='lines',\n",
    "    name='Rolling Mean Log Return (1 month)',\n",
    "    line=dict(color='green', width=2)\n",
    "))\n",
    "\n",
    "# Add horizontal line at zero\n",
    "fig.add_hline(y=0, line_width=1, line_dash=\"dash\", line_color=\"grey\")\n",
    "\n",
    "# Add overall mean for reference\n",
    "overall_mean = mean_df['log_return'].mean()\n",
    "fig.add_hline(\n",
    "    y=overall_mean,\n",
    "    line_width=1,\n",
    "    line_dash=\"dot\",\n",
    "    line_color=\"black\",\n",
    "    annotation_text=f\"Overall Mean: {overall_mean:.6f}\"\n",
    ")\n",
    "\n",
    "# Update layout\n",
    "fig.update_xaxes(title_text=\"Date\")\n",
    "fig.update_yaxes(title_text=\"Mean Log Return\")\n",
    "\n",
    "fig.update_layout(\n",
    "    title=f'{CRYPTO} Rolling Mean Log Returns - Multiple Time Windows',\n",
    "    showlegend=True,\n",
    "    hovermode='x unified',\n",
    "    height=600\n",
    ")\n",
    "\n",
    "fig.show(renderer=\"browser\")\n",
    "\n",
    "# Print summary statistics\n",
    "print(f\"Rolling mean log return statistics:\")\n",
    "print(f\"1 day window - mean: {mean_df['mean_log_return_1d'].mean():.6f}, std: {mean_df['mean_log_return_1d'].std():.6f}\")\n",
    "print(f\"7 day window - mean: {mean_df['mean_log_return_7d'].mean():.6f}, std: {mean_df['mean_log_return_7d'].std():.6f}\")\n",
    "print(f\"1 month window - mean: {mean_df['mean_log_return_1m'].mean():.6f}, std: {mean_df['mean_log_return_1m'].std():.6f}\")"
   ]
  },
  {
   "cell_type": "code",
   "execution_count": 23,
   "id": "c8baf15c",
   "metadata": {},
   "outputs": [
    {
     "ename": "KeyError",
     "evalue": "'timestamp'",
     "output_type": "error",
     "traceback": [
      "\u001b[31m---------------------------------------------------------------------------\u001b[39m",
      "\u001b[31mKeyError\u001b[39m                                  Traceback (most recent call last)",
      "\u001b[36mCell\u001b[39m\u001b[36m \u001b[39m\u001b[32mIn[23]\u001b[39m\u001b[32m, line 49\u001b[39m\n\u001b[32m     38\u001b[39m fig.add_trace(go.Scatter(\n\u001b[32m     39\u001b[39m     x=crypto_recent[\u001b[33m'\u001b[39m\u001b[33mtimestamp\u001b[39m\u001b[33m'\u001b[39m],\n\u001b[32m     40\u001b[39m     y=crypto_recent[\u001b[33m'\u001b[39m\u001b[33mlog_return_rolling_std_day\u001b[39m\u001b[33m'\u001b[39m],\n\u001b[32m   (...)\u001b[39m\u001b[32m     44\u001b[39m     opacity=\u001b[32m0.7\u001b[39m\n\u001b[32m     45\u001b[39m ), secondary_y=\u001b[38;5;28;01mTrue\u001b[39;00m)\n\u001b[32m     47\u001b[39m \u001b[38;5;66;03m# Add periodic std pattern (daily)\u001b[39;00m\n\u001b[32m     48\u001b[39m fig.add_trace(go.Scatter(\n\u001b[32m---> \u001b[39m\u001b[32m49\u001b[39m     x=\u001b[43mperiodic_df\u001b[49m\u001b[43m[\u001b[49m\u001b[33;43m'\u001b[39;49m\u001b[33;43mtimestamp\u001b[39;49m\u001b[33;43m'\u001b[39;49m\u001b[43m]\u001b[49m,\n\u001b[32m     50\u001b[39m     y=periodic_df[\u001b[33m'\u001b[39m\u001b[33mperiodic_log_return_std_rolling\u001b[39m\u001b[33m'\u001b[39m],\n\u001b[32m     51\u001b[39m     mode=\u001b[33m'\u001b[39m\u001b[33mlines\u001b[39m\u001b[33m'\u001b[39m,\n\u001b[32m     52\u001b[39m     name=\u001b[33m'\u001b[39m\u001b[33mPeriodic Log Return Std Rolling (Daily Pattern)\u001b[39m\u001b[33m'\u001b[39m,\n\u001b[32m     53\u001b[39m     line=\u001b[38;5;28mdict\u001b[39m(color=\u001b[33m'\u001b[39m\u001b[33mdarkred\u001b[39m\u001b[33m'\u001b[39m, width=\u001b[32m2\u001b[39m),\n\u001b[32m     54\u001b[39m     opacity=\u001b[32m0.8\u001b[39m\n\u001b[32m     55\u001b[39m ), secondary_y=\u001b[38;5;28;01mTrue\u001b[39;00m)\n\u001b[32m     57\u001b[39m fig.add_trace(go.Scatter(\n\u001b[32m     58\u001b[39m     x=periodic_weekly_df[\u001b[33m'\u001b[39m\u001b[33mtimestamp\u001b[39m\u001b[33m'\u001b[39m],\n\u001b[32m     59\u001b[39m     y=periodic_weekly_df[\u001b[33m'\u001b[39m\u001b[33mperiodic_weekly_log_return_std_rolling\u001b[39m\u001b[33m'\u001b[39m],\n\u001b[32m   (...)\u001b[39m\u001b[32m     63\u001b[39m     opacity=\u001b[32m0.8\u001b[39m\n\u001b[32m     64\u001b[39m ), secondary_y=\u001b[38;5;28;01mTrue\u001b[39;00m)\n\u001b[32m     66\u001b[39m \u001b[38;5;66;03m# Check what columns exist and see what we can add from crypto_recent\u001b[39;00m\n",
      "\u001b[36mFile \u001b[39m\u001b[32m~/Library/Caches/pypoetry/virtualenvs/polymarket-analysis-rlaaxbWf-py3.13/lib/python3.13/site-packages/pandas/core/frame.py:4107\u001b[39m, in \u001b[36mDataFrame.__getitem__\u001b[39m\u001b[34m(self, key)\u001b[39m\n\u001b[32m   4105\u001b[39m \u001b[38;5;28;01mif\u001b[39;00m \u001b[38;5;28mself\u001b[39m.columns.nlevels > \u001b[32m1\u001b[39m:\n\u001b[32m   4106\u001b[39m     \u001b[38;5;28;01mreturn\u001b[39;00m \u001b[38;5;28mself\u001b[39m._getitem_multilevel(key)\n\u001b[32m-> \u001b[39m\u001b[32m4107\u001b[39m indexer = \u001b[38;5;28;43mself\u001b[39;49m\u001b[43m.\u001b[49m\u001b[43mcolumns\u001b[49m\u001b[43m.\u001b[49m\u001b[43mget_loc\u001b[49m\u001b[43m(\u001b[49m\u001b[43mkey\u001b[49m\u001b[43m)\u001b[49m\n\u001b[32m   4108\u001b[39m \u001b[38;5;28;01mif\u001b[39;00m is_integer(indexer):\n\u001b[32m   4109\u001b[39m     indexer = [indexer]\n",
      "\u001b[36mFile \u001b[39m\u001b[32m~/Library/Caches/pypoetry/virtualenvs/polymarket-analysis-rlaaxbWf-py3.13/lib/python3.13/site-packages/pandas/core/indexes/range.py:417\u001b[39m, in \u001b[36mRangeIndex.get_loc\u001b[39m\u001b[34m(self, key)\u001b[39m\n\u001b[32m    415\u001b[39m         \u001b[38;5;28;01mraise\u001b[39;00m \u001b[38;5;167;01mKeyError\u001b[39;00m(key) \u001b[38;5;28;01mfrom\u001b[39;00m\u001b[38;5;250m \u001b[39m\u001b[34;01merr\u001b[39;00m\n\u001b[32m    416\u001b[39m \u001b[38;5;28;01mif\u001b[39;00m \u001b[38;5;28misinstance\u001b[39m(key, Hashable):\n\u001b[32m--> \u001b[39m\u001b[32m417\u001b[39m     \u001b[38;5;28;01mraise\u001b[39;00m \u001b[38;5;167;01mKeyError\u001b[39;00m(key)\n\u001b[32m    418\u001b[39m \u001b[38;5;28mself\u001b[39m._check_indexing_error(key)\n\u001b[32m    419\u001b[39m \u001b[38;5;28;01mraise\u001b[39;00m \u001b[38;5;167;01mKeyError\u001b[39;00m(key)\n",
      "\u001b[31mKeyError\u001b[39m: 'timestamp'"
     ]
    }
   ],
   "source": [
    "import plotly.graph_objects as go\n",
    "from plotly.subplots import make_subplots\n",
    "from datetime import time\n",
    "\n",
    "end_date = crypto_df_loaded['timestamp'].max()\n",
    "start_date = end_date - datetime.timedelta(days=160)\n",
    "crypto_recent = crypto_df_loaded[crypto_df_loaded['timestamp'] >= start_date].copy()\n",
    "\n",
    "# Calculate rolling statistics\n",
    "window_size_rolling = 12  # 1 hour window\n",
    "crypto_recent['log_return_rolling_std_1h'] = crypto_recent['log_return'].rolling(window=window_size_rolling, center=True).std()\n",
    "crypto_recent['log_return_rolling_std_4h'] = crypto_recent['log_return'].rolling(window=window_size_rolling*4, center=True).std()\n",
    "crypto_recent['log_return_rolling_std_day'] = crypto_recent['log_return'].rolling(window=12*24, center=True).std()\n",
    "crypto_recent['log_return_rolling_median'] = crypto_recent['log_return'].rolling(window=window_size_rolling, center=True).median()\n",
    "\n",
    "# Create plot\n",
    "fig = make_subplots(specs=[[{\"secondary_y\": True}]])\n",
    "\n",
    "# Add rolling std from actual data\n",
    "fig.add_trace(go.Scatter(\n",
    "    x=crypto_recent['timestamp'],\n",
    "    y=crypto_recent['log_return_rolling_std_1h'],\n",
    "    mode='lines',\n",
    "    name='Rolling Log Return Std 1h (Actual)',\n",
    "    line=dict(color='blue', width=1),\n",
    "    opacity=0.7\n",
    "), secondary_y=True)\n",
    "\n",
    "fig.add_trace(go.Scatter(\n",
    "    x=crypto_recent['timestamp'],\n",
    "    y=crypto_recent['log_return_rolling_std_4h'],\n",
    "    mode='lines',\n",
    "    name='Rolling Log Return Std 4h (Actual)',\n",
    "    line=dict(color='darkblue', width=1),\n",
    "    opacity=0.7\n",
    "), secondary_y=True)\n",
    "\n",
    "fig.add_trace(go.Scatter(\n",
    "    x=crypto_recent['timestamp'],\n",
    "    y=crypto_recent['log_return_rolling_std_day'],\n",
    "    mode='lines',\n",
    "    name='Rolling Log Return Std Daily (Actual)',\n",
    "    line=dict(color='black', width=1),\n",
    "    opacity=0.7\n",
    "), secondary_y=True)\n",
    "\n",
    "# Add periodic std pattern (daily)\n",
    "fig.add_trace(go.Scatter(\n",
    "    x=periodic_df['timestamp'],\n",
    "    y=periodic_df['periodic_log_return_std_rolling'],\n",
    "    mode='lines',\n",
    "    name='Periodic Log Return Std Rolling (Daily Pattern)',\n",
    "    line=dict(color='darkred', width=2),\n",
    "    opacity=0.8\n",
    "), secondary_y=True)\n",
    "\n",
    "fig.add_trace(go.Scatter(\n",
    "    x=periodic_weekly_df['timestamp'],\n",
    "    y=periodic_weekly_df['periodic_weekly_log_return_std_rolling'],\n",
    "    mode='lines',\n",
    "    name='Periodic Log Return Std Rolling (Weekly Pattern)',\n",
    "    line=dict(color='purple', width=2),\n",
    "    opacity=0.8\n",
    "), secondary_y=True)\n",
    "\n",
    "# Check what columns exist and see what we can add from crypto_recent\n",
    "print(\"Available columns in periodic_weekly_df:\", periodic_weekly_df.columns.tolist())\n",
    "print(\"Available columns in crypto_recent:\", crypto_recent.columns.tolist())\n",
    "\n",
    "# Only add scaled_periodic_std if it exists\n",
    "if 'scaled_periodic_std' in crypto_recent.columns:\n",
    "    # Get a subset of crypto_recent that matches the periodic_weekly_df timestamp range\n",
    "    recent_subset = crypto_recent[crypto_recent['timestamp'].isin(periodic_weekly_df['timestamp'])].copy()\n",
    "    if len(recent_subset) > 0:\n",
    "        fig.add_trace(go.Scatter(\n",
    "            x=recent_subset['timestamp'],\n",
    "            y=recent_subset['scaled_periodic_std'],\n",
    "            mode='lines',\n",
    "            name='Scaled Periodic Std (from crypto_recent)',\n",
    "            line=dict(color='darkgreen', width=2),\n",
    "            opacity=0.8\n",
    "        ), secondary_y=True)\n",
    "\n",
    "fig.add_trace(go.Scatter(\n",
    "    x=periodic_weekly_df['timestamp'],\n",
    "    y=periodic_weekly_df['periodic_weekly_log_return_std_rolling_daily'],\n",
    "    mode='lines',\n",
    "    name='Periodic Log Return Std Rolling Daily (Weekly Pattern)',\n",
    "    line=dict(color='cyan', width=2),\n",
    "    opacity=0.8\n",
    "), secondary_y=True)\n",
    "\n",
    "\n",
    "# Update layout\n",
    "fig.update_xaxes(title_text=\"Date\")\n",
    "fig.update_yaxes(title_text=\"Median Log Return\", secondary_y=False)\n",
    "fig.update_yaxes(title_text=\"Log Return Standard Deviation\", secondary_y=True)\n",
    "\n",
    "fig.update_layout(\n",
    "    title=f'{CRYPTO} Rolling vs Periodic Statistics - Last 60 Days',\n",
    "    showlegend=True,\n",
    "    hovermode='x unified',\n",
    "    height=600\n",
    ")\n",
    "\n",
    "fig.show(renderer=\"browser\")"
   ]
  },
  {
   "cell_type": "code",
   "execution_count": null,
   "id": "a03a5af2",
   "metadata": {},
   "outputs": [],
   "source": [
    "import plotly.graph_objects as go\n",
    "from plotly.subplots import make_subplots\n",
    "from datetime import time\n",
    "\n",
    "# Create subplot with secondary y-axis\n",
    "fig = make_subplots(specs=[[{\"secondary_y\": True}]])\n",
    "\n",
    "result['time_of_day'] = result.apply(\n",
    "    lambda row: time(hour=int(row['hour']), \n",
    "                     minute=int(row['interval'] * 5)), \n",
    "    axis=1\n",
    ")\n",
    "\n",
    "# Add original mean log return trace on primary y-axis\n",
    "fig.add_trace(go.Scatter(\n",
    "    x=result['time_of_day'],\n",
    "    y=result['mean_log_return'],\n",
    "    mode='lines+markers',\n",
    "    name='Mean Log Return (5-min)',\n",
    "    line=dict(color='lightblue', width=1),\n",
    "    marker=dict(size=2),\n",
    "    opacity=0.6\n",
    "), secondary_y=False)\n",
    "\n",
    "# Add rolling average of mean log return\n",
    "fig.add_trace(go.Scatter(\n",
    "    x=result['time_of_day'],\n",
    "    y=result['mean_log_return_rolling'],\n",
    "    mode='lines',\n",
    "    name=f'Mean Log Return ({window_size*5}min Rolling)',\n",
    "    line=dict(color='blue', width=3)\n",
    "), secondary_y=False)\n",
    "\n",
    "# Add original mean log return trace on primary y-axis\n",
    "fig.add_trace(go.Scatter(\n",
    "    x=result['time_of_day'],\n",
    "    y=result['median_log_return'],\n",
    "    mode='lines+markers',\n",
    "    name='Median Log Return (5-min)',\n",
    "    line=dict(color='lightgreen', width=1),\n",
    "    marker=dict(size=2),\n",
    "    opacity=0.6\n",
    "), secondary_y=False)\n",
    "\n",
    "# Add rolling average of mean log return\n",
    "fig.add_trace(go.Scatter(\n",
    "    x=result['time_of_day'],\n",
    "    y=result['median_log_return_rolling'],\n",
    "    mode='lines',\n",
    "    name=f'Median Log Return ({window_size*5}min Rolling)',\n",
    "    line=dict(color='green', width=3)\n",
    "), secondary_y=False)\n",
    "\n",
    "# Add original log return std trace on secondary y-axis\n",
    "fig.add_trace(go.Scatter(\n",
    "    x=result['time_of_day'],\n",
    "    y=result['log_return_std'],\n",
    "    mode='lines+markers',\n",
    "    name='Log Return Std (5-min)',\n",
    "    line=dict(color='lightcoral', width=1),\n",
    "    marker=dict(size=2),\n",
    "    opacity=0.6\n",
    "), secondary_y=True)\n",
    "\n",
    "# Add rolling average of log return std\n",
    "fig.add_trace(go.Scatter(\n",
    "    x=result['time_of_day'],\n",
    "    y=result['log_return_std_rolling'],\n",
    "    mode='lines',\n",
    "    name=f'Log Return Std ({window_size*5}min Rolling)',\n",
    "    line=dict(color='red', width=3)\n",
    "), secondary_y=True)\n",
    "\n",
    "# Update axes labels\n",
    "fig.update_xaxes(title_text=\"Time of Day\")\n",
    "fig.update_yaxes(title_text=\"Mean Log Return\", secondary_y=False)\n",
    "fig.update_yaxes(title_text=\"Log Return Standard Deviation\", secondary_y=True)\n",
    "\n",
    "# Update layout\n",
    "fig.update_layout(\n",
    "    title=f'{CRYPTO} 5-Minute Interval Log Return Statistics Throughout the Day',\n",
    "    showlegend=True,\n",
    "    hovermode='x unified',\n",
    "    height=600\n",
    ")\n",
    "\n",
    "fig.show(renderer=\"browser\")"
   ]
  },
  {
   "cell_type": "code",
   "execution_count": null,
   "id": "5528ca25",
   "metadata": {},
   "outputs": [
    {
     "name": "stdout",
     "output_type": "stream",
     "text": [
      "Hour 0: mu=3.2554714422601174, sigma=1.0484465041812008, avg_return=1.0000038044868966\n",
      "Hour 1: mu=-34.59667645957223, sigma=0.9301048115363302, avg_return=0.9999658359891117\n",
      "Hour 2: mu=12.422503969623664, sigma=0.9629521902476204, avg_return=1.0000128858075563\n",
      "Hour 3: mu=0.67092777927337, sigma=0.8371864292847453, avg_return=1.0000010211486399\n",
      "Hour 4: mu=17.24103818928635, sigma=0.6940696213998822, avg_return=1.0000174818433751\n",
      "Hour 5: mu=32.87012055417951, sigma=0.8055716706101401, avg_return=1.0000331949287116\n",
      "Hour 6: mu=-0.21498998356193164, sigma=0.6805834270792536, avg_return=1.0000000163833684\n",
      "Hour 7: mu=-9.62051587782868, sigma=0.7962845741235439, avg_return=0.9999906962813224\n",
      "Hour 8: mu=28.962130542653394, sigma=0.7437574165839382, avg_return=1.0000292388634273\n",
      "Hour 9: mu=-11.086656896563431, sigma=0.73680197468479, avg_return=0.9999891846088944\n",
      "Hour 10: mu=12.79703929219101, sigma=0.7043509299620931, avg_return=1.0000130449590348\n",
      "Hour 11: mu=-1.4696344314124439, sigma=0.6880009338690981, avg_return=0.9999987668070984\n",
      "Hour 12: mu=-20.374880035513744, sigma=1.126921547348977, avg_return=0.9999802583060897\n",
      "Hour 13: mu=-41.20787599451046, sigma=1.3745680688055026, avg_return=0.9999597367667146\n",
      "Hour 14: mu=-16.801374221280366, sigma=1.543690634664636, avg_return=0.999984389507775\n",
      "Hour 15: mu=-6.284588460023231, sigma=1.1815762425974923, avg_return=0.9999944127699538\n",
      "Hour 16: mu=-16.31758886566912, sigma=1.0957341147586226, avg_return=0.9999842823649422\n",
      "Hour 17: mu=57.18532555361371, sigma=1.0393569050674503, avg_return=1.0000577266733046\n",
      "Hour 18: mu=-50.014128595055716, sigma=1.0219360421949482, avg_return=0.9999505087506976\n",
      "Hour 19: mu=-1.32512516930277, sigma=1.066934374730425, avg_return=0.9999992434167262\n",
      "Hour 20: mu=40.578109544682576, sigma=1.0189268827199514, avg_return=1.0000410975001437\n",
      "Hour 21: mu=57.40880875069251, sigma=1.2829520515969246, avg_return=1.0000582343813935\n",
      "Hour 22: mu=42.48516515823457, sigma=1.0271122387772165, avg_return=1.000043013146938\n",
      "Hour 23: mu=-9.322419083472719, sigma=0.7411508070989666, avg_return=0.9999909520386517\n"
     ]
    }
   ],
   "source": [
    "hours = []\n",
    "for h in range(24):\n",
    "    h_df = crypto_df_loaded[crypto_df_loaded['timestamp'].dt.hour == h]\n",
    "    mu = h_df['log_return'].mean()\n",
    "    sigma = h_df['log_return'].std()\n",
    "    avg_return = h_df['return'].mean()\n",
    "    print(f\"Hour {h}: mu={mu*1000000}, sigma={sigma*1000}, avg_return={avg_return}\")\n",
    "    hours.append({\n",
    "        'hour': h,\n",
    "        'mu': mu,\n",
    "        'sigma': sigma})"
   ]
  },
  {
   "cell_type": "code",
   "execution_count": null,
   "id": "06bd6880",
   "metadata": {},
   "outputs": [],
   "source": []
  },
  {
   "cell_type": "code",
   "execution_count": null,
   "id": "ed8d8901",
   "metadata": {},
   "outputs": [
    {
     "data": {
      "application/vnd.plotly.v1+json": {
       "config": {
        "plotlyServerURL": "https://plot.ly"
       },
       "data": [
        {
         "line": {
          "color": "blue",
          "width": 2
         },
         "marker": {
          "size": 6
         },
         "mode": "lines+markers",
         "name": "Mu (Mean Log Return)",
         "type": "scatter",
         "x": {
          "bdata": "AAECAwQFBgcICQoLDA0ODxAREhMUFRYX",
          "dtype": "i1"
         },
         "xaxis": "x",
         "y": {
          "bdata": "QTkyWhJPyz4my2XAfCMCvxY28fFHDeo+TEwXyjmDpj4gwGwfGxTyPou2C77AOwE/0M/t5P/ajL6bAFWi+Szkvt6/v3R2Xv4+k0t4hRpA576agxewW9bqPgHhWiUIqLi+g6g3GFdd9b6vzX7W05oFv0BFGqUVnvG+P/OahQZc2r4tAx8rOBzxvlgoE9NI+w0//PmLX8g4Cr89DyuIXju2vnJqODpNRgU/kLMQpkcZDj8Zs8soQ0YGP+YJzYXvjOO+",
          "dtype": "f8"
         },
         "yaxis": "y"
        },
        {
         "line": {
          "color": "red",
          "width": 2
         },
         "marker": {
          "size": 6
         },
         "mode": "lines+markers",
         "name": "Sigma (Std Log Return)",
         "type": "scatter",
         "x": {
          "bdata": "AAECAwQFBgcICQoLDA0ODxAREhMUFRYX",
          "dtype": "i1"
         },
         "xaxis": "x",
         "y": {
          "bdata": "bLGc3IAtUT8t1KrfSHpOP0q2FRXUjU8/UrPOKtRuSz+GjZspR75GP3Hga/2fZUo/S2XfxyVNRj9VPSIauBdKP7yr4+MWX0g/IWJEMb4kSD/DmsMahhRHP2PbWsFei0Y/i7I5zKZ2Uj9gj7Q5W4VWP+sroDK1Slk/l7911ONbUz9LMAiM1/NRP+L6ofpgB1E/mCZPeE++UD/cwsUPDHtRP2vd2WiwsVA/fginRhcFVT/+QmReBdRQP/2hKz05SUg/",
          "dtype": "f8"
         },
         "yaxis": "y2"
        }
       ],
       "layout": {
        "hovermode": "x unified",
        "showlegend": true,
        "template": {
         "data": {
          "bar": [
           {
            "error_x": {
             "color": "#2a3f5f"
            },
            "error_y": {
             "color": "#2a3f5f"
            },
            "marker": {
             "line": {
              "color": "#E5ECF6",
              "width": 0.5
             },
             "pattern": {
              "fillmode": "overlay",
              "size": 10,
              "solidity": 0.2
             }
            },
            "type": "bar"
           }
          ],
          "barpolar": [
           {
            "marker": {
             "line": {
              "color": "#E5ECF6",
              "width": 0.5
             },
             "pattern": {
              "fillmode": "overlay",
              "size": 10,
              "solidity": 0.2
             }
            },
            "type": "barpolar"
           }
          ],
          "carpet": [
           {
            "aaxis": {
             "endlinecolor": "#2a3f5f",
             "gridcolor": "white",
             "linecolor": "white",
             "minorgridcolor": "white",
             "startlinecolor": "#2a3f5f"
            },
            "baxis": {
             "endlinecolor": "#2a3f5f",
             "gridcolor": "white",
             "linecolor": "white",
             "minorgridcolor": "white",
             "startlinecolor": "#2a3f5f"
            },
            "type": "carpet"
           }
          ],
          "choropleth": [
           {
            "colorbar": {
             "outlinewidth": 0,
             "ticks": ""
            },
            "type": "choropleth"
           }
          ],
          "contour": [
           {
            "colorbar": {
             "outlinewidth": 0,
             "ticks": ""
            },
            "colorscale": [
             [
              0,
              "#0d0887"
             ],
             [
              0.1111111111111111,
              "#46039f"
             ],
             [
              0.2222222222222222,
              "#7201a8"
             ],
             [
              0.3333333333333333,
              "#9c179e"
             ],
             [
              0.4444444444444444,
              "#bd3786"
             ],
             [
              0.5555555555555556,
              "#d8576b"
             ],
             [
              0.6666666666666666,
              "#ed7953"
             ],
             [
              0.7777777777777778,
              "#fb9f3a"
             ],
             [
              0.8888888888888888,
              "#fdca26"
             ],
             [
              1,
              "#f0f921"
             ]
            ],
            "type": "contour"
           }
          ],
          "contourcarpet": [
           {
            "colorbar": {
             "outlinewidth": 0,
             "ticks": ""
            },
            "type": "contourcarpet"
           }
          ],
          "heatmap": [
           {
            "colorbar": {
             "outlinewidth": 0,
             "ticks": ""
            },
            "colorscale": [
             [
              0,
              "#0d0887"
             ],
             [
              0.1111111111111111,
              "#46039f"
             ],
             [
              0.2222222222222222,
              "#7201a8"
             ],
             [
              0.3333333333333333,
              "#9c179e"
             ],
             [
              0.4444444444444444,
              "#bd3786"
             ],
             [
              0.5555555555555556,
              "#d8576b"
             ],
             [
              0.6666666666666666,
              "#ed7953"
             ],
             [
              0.7777777777777778,
              "#fb9f3a"
             ],
             [
              0.8888888888888888,
              "#fdca26"
             ],
             [
              1,
              "#f0f921"
             ]
            ],
            "type": "heatmap"
           }
          ],
          "histogram": [
           {
            "marker": {
             "pattern": {
              "fillmode": "overlay",
              "size": 10,
              "solidity": 0.2
             }
            },
            "type": "histogram"
           }
          ],
          "histogram2d": [
           {
            "colorbar": {
             "outlinewidth": 0,
             "ticks": ""
            },
            "colorscale": [
             [
              0,
              "#0d0887"
             ],
             [
              0.1111111111111111,
              "#46039f"
             ],
             [
              0.2222222222222222,
              "#7201a8"
             ],
             [
              0.3333333333333333,
              "#9c179e"
             ],
             [
              0.4444444444444444,
              "#bd3786"
             ],
             [
              0.5555555555555556,
              "#d8576b"
             ],
             [
              0.6666666666666666,
              "#ed7953"
             ],
             [
              0.7777777777777778,
              "#fb9f3a"
             ],
             [
              0.8888888888888888,
              "#fdca26"
             ],
             [
              1,
              "#f0f921"
             ]
            ],
            "type": "histogram2d"
           }
          ],
          "histogram2dcontour": [
           {
            "colorbar": {
             "outlinewidth": 0,
             "ticks": ""
            },
            "colorscale": [
             [
              0,
              "#0d0887"
             ],
             [
              0.1111111111111111,
              "#46039f"
             ],
             [
              0.2222222222222222,
              "#7201a8"
             ],
             [
              0.3333333333333333,
              "#9c179e"
             ],
             [
              0.4444444444444444,
              "#bd3786"
             ],
             [
              0.5555555555555556,
              "#d8576b"
             ],
             [
              0.6666666666666666,
              "#ed7953"
             ],
             [
              0.7777777777777778,
              "#fb9f3a"
             ],
             [
              0.8888888888888888,
              "#fdca26"
             ],
             [
              1,
              "#f0f921"
             ]
            ],
            "type": "histogram2dcontour"
           }
          ],
          "mesh3d": [
           {
            "colorbar": {
             "outlinewidth": 0,
             "ticks": ""
            },
            "type": "mesh3d"
           }
          ],
          "parcoords": [
           {
            "line": {
             "colorbar": {
              "outlinewidth": 0,
              "ticks": ""
             }
            },
            "type": "parcoords"
           }
          ],
          "pie": [
           {
            "automargin": true,
            "type": "pie"
           }
          ],
          "scatter": [
           {
            "fillpattern": {
             "fillmode": "overlay",
             "size": 10,
             "solidity": 0.2
            },
            "type": "scatter"
           }
          ],
          "scatter3d": [
           {
            "line": {
             "colorbar": {
              "outlinewidth": 0,
              "ticks": ""
             }
            },
            "marker": {
             "colorbar": {
              "outlinewidth": 0,
              "ticks": ""
             }
            },
            "type": "scatter3d"
           }
          ],
          "scattercarpet": [
           {
            "marker": {
             "colorbar": {
              "outlinewidth": 0,
              "ticks": ""
             }
            },
            "type": "scattercarpet"
           }
          ],
          "scattergeo": [
           {
            "marker": {
             "colorbar": {
              "outlinewidth": 0,
              "ticks": ""
             }
            },
            "type": "scattergeo"
           }
          ],
          "scattergl": [
           {
            "marker": {
             "colorbar": {
              "outlinewidth": 0,
              "ticks": ""
             }
            },
            "type": "scattergl"
           }
          ],
          "scattermap": [
           {
            "marker": {
             "colorbar": {
              "outlinewidth": 0,
              "ticks": ""
             }
            },
            "type": "scattermap"
           }
          ],
          "scattermapbox": [
           {
            "marker": {
             "colorbar": {
              "outlinewidth": 0,
              "ticks": ""
             }
            },
            "type": "scattermapbox"
           }
          ],
          "scatterpolar": [
           {
            "marker": {
             "colorbar": {
              "outlinewidth": 0,
              "ticks": ""
             }
            },
            "type": "scatterpolar"
           }
          ],
          "scatterpolargl": [
           {
            "marker": {
             "colorbar": {
              "outlinewidth": 0,
              "ticks": ""
             }
            },
            "type": "scatterpolargl"
           }
          ],
          "scatterternary": [
           {
            "marker": {
             "colorbar": {
              "outlinewidth": 0,
              "ticks": ""
             }
            },
            "type": "scatterternary"
           }
          ],
          "surface": [
           {
            "colorbar": {
             "outlinewidth": 0,
             "ticks": ""
            },
            "colorscale": [
             [
              0,
              "#0d0887"
             ],
             [
              0.1111111111111111,
              "#46039f"
             ],
             [
              0.2222222222222222,
              "#7201a8"
             ],
             [
              0.3333333333333333,
              "#9c179e"
             ],
             [
              0.4444444444444444,
              "#bd3786"
             ],
             [
              0.5555555555555556,
              "#d8576b"
             ],
             [
              0.6666666666666666,
              "#ed7953"
             ],
             [
              0.7777777777777778,
              "#fb9f3a"
             ],
             [
              0.8888888888888888,
              "#fdca26"
             ],
             [
              1,
              "#f0f921"
             ]
            ],
            "type": "surface"
           }
          ],
          "table": [
           {
            "cells": {
             "fill": {
              "color": "#EBF0F8"
             },
             "line": {
              "color": "white"
             }
            },
            "header": {
             "fill": {
              "color": "#C8D4E3"
             },
             "line": {
              "color": "white"
             }
            },
            "type": "table"
           }
          ]
         },
         "layout": {
          "annotationdefaults": {
           "arrowcolor": "#2a3f5f",
           "arrowhead": 0,
           "arrowwidth": 1
          },
          "autotypenumbers": "strict",
          "coloraxis": {
           "colorbar": {
            "outlinewidth": 0,
            "ticks": ""
           }
          },
          "colorscale": {
           "diverging": [
            [
             0,
             "#8e0152"
            ],
            [
             0.1,
             "#c51b7d"
            ],
            [
             0.2,
             "#de77ae"
            ],
            [
             0.3,
             "#f1b6da"
            ],
            [
             0.4,
             "#fde0ef"
            ],
            [
             0.5,
             "#f7f7f7"
            ],
            [
             0.6,
             "#e6f5d0"
            ],
            [
             0.7,
             "#b8e186"
            ],
            [
             0.8,
             "#7fbc41"
            ],
            [
             0.9,
             "#4d9221"
            ],
            [
             1,
             "#276419"
            ]
           ],
           "sequential": [
            [
             0,
             "#0d0887"
            ],
            [
             0.1111111111111111,
             "#46039f"
            ],
            [
             0.2222222222222222,
             "#7201a8"
            ],
            [
             0.3333333333333333,
             "#9c179e"
            ],
            [
             0.4444444444444444,
             "#bd3786"
            ],
            [
             0.5555555555555556,
             "#d8576b"
            ],
            [
             0.6666666666666666,
             "#ed7953"
            ],
            [
             0.7777777777777778,
             "#fb9f3a"
            ],
            [
             0.8888888888888888,
             "#fdca26"
            ],
            [
             1,
             "#f0f921"
            ]
           ],
           "sequentialminus": [
            [
             0,
             "#0d0887"
            ],
            [
             0.1111111111111111,
             "#46039f"
            ],
            [
             0.2222222222222222,
             "#7201a8"
            ],
            [
             0.3333333333333333,
             "#9c179e"
            ],
            [
             0.4444444444444444,
             "#bd3786"
            ],
            [
             0.5555555555555556,
             "#d8576b"
            ],
            [
             0.6666666666666666,
             "#ed7953"
            ],
            [
             0.7777777777777778,
             "#fb9f3a"
            ],
            [
             0.8888888888888888,
             "#fdca26"
            ],
            [
             1,
             "#f0f921"
            ]
           ]
          },
          "colorway": [
           "#636efa",
           "#EF553B",
           "#00cc96",
           "#ab63fa",
           "#FFA15A",
           "#19d3f3",
           "#FF6692",
           "#B6E880",
           "#FF97FF",
           "#FECB52"
          ],
          "font": {
           "color": "#2a3f5f"
          },
          "geo": {
           "bgcolor": "white",
           "lakecolor": "white",
           "landcolor": "#E5ECF6",
           "showlakes": true,
           "showland": true,
           "subunitcolor": "white"
          },
          "hoverlabel": {
           "align": "left"
          },
          "hovermode": "closest",
          "mapbox": {
           "style": "light"
          },
          "paper_bgcolor": "white",
          "plot_bgcolor": "#E5ECF6",
          "polar": {
           "angularaxis": {
            "gridcolor": "white",
            "linecolor": "white",
            "ticks": ""
           },
           "bgcolor": "#E5ECF6",
           "radialaxis": {
            "gridcolor": "white",
            "linecolor": "white",
            "ticks": ""
           }
          },
          "scene": {
           "xaxis": {
            "backgroundcolor": "#E5ECF6",
            "gridcolor": "white",
            "gridwidth": 2,
            "linecolor": "white",
            "showbackground": true,
            "ticks": "",
            "zerolinecolor": "white"
           },
           "yaxis": {
            "backgroundcolor": "#E5ECF6",
            "gridcolor": "white",
            "gridwidth": 2,
            "linecolor": "white",
            "showbackground": true,
            "ticks": "",
            "zerolinecolor": "white"
           },
           "zaxis": {
            "backgroundcolor": "#E5ECF6",
            "gridcolor": "white",
            "gridwidth": 2,
            "linecolor": "white",
            "showbackground": true,
            "ticks": "",
            "zerolinecolor": "white"
           }
          },
          "shapedefaults": {
           "line": {
            "color": "#2a3f5f"
           }
          },
          "ternary": {
           "aaxis": {
            "gridcolor": "white",
            "linecolor": "white",
            "ticks": ""
           },
           "baxis": {
            "gridcolor": "white",
            "linecolor": "white",
            "ticks": ""
           },
           "bgcolor": "#E5ECF6",
           "caxis": {
            "gridcolor": "white",
            "linecolor": "white",
            "ticks": ""
           }
          },
          "title": {
           "x": 0.05
          },
          "xaxis": {
           "automargin": true,
           "gridcolor": "white",
           "linecolor": "white",
           "ticks": "",
           "title": {
            "standoff": 15
           },
           "zerolinecolor": "white",
           "zerolinewidth": 2
          },
          "yaxis": {
           "automargin": true,
           "gridcolor": "white",
           "linecolor": "white",
           "ticks": "",
           "title": {
            "standoff": 15
           },
           "zerolinecolor": "white",
           "zerolinewidth": 2
          }
         }
        },
        "title": {
         "text": "BTC Hourly Log Return Statistics"
        },
        "xaxis": {
         "anchor": "y",
         "domain": [
          0,
          0.94
         ],
         "title": {
          "text": "Hour"
         }
        },
        "yaxis": {
         "anchor": "x",
         "domain": [
          0,
          1
         ],
         "title": {
          "text": "Mu (Mean Log Return)"
         }
        },
        "yaxis2": {
         "anchor": "x",
         "overlaying": "y",
         "side": "right",
         "title": {
          "text": "Sigma (Std Log Return)"
         }
        }
       }
      }
     },
     "metadata": {},
     "output_type": "display_data"
    }
   ],
   "source": [
    "import plotly.graph_objects as go\n",
    "from plotly.subplots import make_subplots\n",
    "\n",
    "# Create subplot with secondary y-axis\n",
    "fig = make_subplots(specs=[[{\"secondary_y\": True}]])\n",
    "\n",
    "# Extract hours, mu, and sigma from the hours list\n",
    "hours_df = pd.DataFrame(hours)\n",
    "\n",
    "# Add mu (mean) on primary y-axis\n",
    "fig.add_trace(go.Scatter(\n",
    "    x=hours_df['hour'],\n",
    "    y=hours_df['mu'],\n",
    "    mode='lines+markers',\n",
    "    name='Mu (Mean Log Return)',\n",
    "    line=dict(color='blue', width=2),\n",
    "    marker=dict(size=6)\n",
    "), secondary_y=False)\n",
    "\n",
    "# Add sigma (std) on secondary y-axis\n",
    "fig.add_trace(go.Scatter(\n",
    "    x=hours_df['hour'],\n",
    "    y=hours_df['sigma'],\n",
    "    mode='lines+markers',\n",
    "    name='Sigma (Std Log Return)',\n",
    "    line=dict(color='red', width=2),\n",
    "    marker=dict(size=6)\n",
    "), secondary_y=True)\n",
    "\n",
    "# Update layout\n",
    "fig.update_xaxes(title_text=\"Hour\")\n",
    "fig.update_yaxes(title_text=\"Mu (Mean Log Return)\", secondary_y=False)\n",
    "fig.update_yaxes(title_text=\"Sigma (Std Log Return)\", secondary_y=True)\n",
    "\n",
    "fig.update_layout(\n",
    "    title=f'{CRYPTO} Hourly Log Return Statistics',\n",
    "    showlegend=True,\n",
    "    hovermode='x unified'\n",
    ")\n",
    "\n",
    "fig.show()"
   ]
  },
  {
   "cell_type": "code",
   "execution_count": null,
   "id": "32c47482",
   "metadata": {},
   "outputs": [
    {
     "name": "stdout",
     "output_type": "stream",
     "text": [
      "\n",
      "=== BTC Hour-Estimator Analysis Summary ===\n",
      "Data period: 2025-05-31 22:00:00+00:00 to 2025-08-24 12:00:00+00:00\n",
      "Total records: 24,389\n",
      "Price range: $98392.91 - $124243.32\n",
      "\n",
      "Overall Statistics:\n",
      "Mean log return: 0.00000369\n",
      "Std log return: 0.000990\n",
      "Mean return: 1.00000418\n",
      "\n",
      "Hourly Variation:\n",
      "Most volatile hour: 14 (σ=0.0015)\n",
      "Least volatile hour: 6 (σ=0.0007)\n",
      "Highest mean return hour: 21 (μ=5.74e-05)\n",
      "Lowest mean return hour: 18 (μ=-5.00e-05)\n",
      "\n",
      "=== Analysis Complete for BTC ===\n"
     ]
    }
   ],
   "source": [
    "# Summary comparison with BTC\n",
    "print(f\"\\n=== {CRYPTO} Hour-Estimator Analysis Summary ===\")\n",
    "print(f\"Data period: {crypto_df_loaded['timestamp'].min()} to {crypto_df_loaded['timestamp'].max()}\")\n",
    "print(f\"Total records: {len(crypto_df_loaded):,}\")\n",
    "print(f\"Price range: ${crypto_df_loaded['price'].min():.2f} - ${crypto_df_loaded['price'].max():.2f}\")\n",
    "\n",
    "# Overall statistics\n",
    "overall_log_return_mean = crypto_df_loaded['log_return'].mean()\n",
    "overall_log_return_std = crypto_df_loaded['log_return'].std()\n",
    "overall_return_mean = crypto_df_loaded['return'].mean()\n",
    "\n",
    "print(f\"\\nOverall Statistics:\")\n",
    "print(f\"Mean log return: {overall_log_return_mean:.8f}\")\n",
    "print(f\"Std log return: {overall_log_return_std:.6f}\")\n",
    "print(f\"Mean return: {overall_return_mean:.8f}\")\n",
    "\n",
    "# Hourly variation\n",
    "hourly_stats = pd.DataFrame(hours)\n",
    "print(f\"\\nHourly Variation:\")\n",
    "print(f\"Most volatile hour: {hourly_stats.loc[hourly_stats['sigma'].idxmax(), 'hour']} (σ={hourly_stats['sigma'].max():.4f})\")\n",
    "print(f\"Least volatile hour: {hourly_stats.loc[hourly_stats['sigma'].idxmin(), 'hour']} (σ={hourly_stats['sigma'].min():.4f})\")\n",
    "print(f\"Highest mean return hour: {hourly_stats.loc[hourly_stats['mu'].idxmax(), 'hour']} (μ={hourly_stats['mu'].max():.2e})\")\n",
    "print(f\"Lowest mean return hour: {hourly_stats.loc[hourly_stats['mu'].idxmin(), 'hour']} (μ={hourly_stats['mu'].min():.2e})\")\n",
    "\n",
    "# Time-varying scaling factors\n",
    "if len(crypto_recent) > 0 and 'scaling_factor' in crypto_recent.columns:\n",
    "    scaling_mean = crypto_recent['scaling_factor'].mean()\n",
    "    scaling_std = crypto_recent['scaling_factor'].std()\n",
    "    scaling_min = crypto_recent['scaling_factor'].min()\n",
    "    scaling_max = crypto_recent['scaling_factor'].max()\n",
    "    \n",
    "    print(f\"\\nTime-varying Scaling Factors:\")\n",
    "    print(f\"Mean: {scaling_mean:.4f}\")\n",
    "    print(f\"Std: {scaling_std:.4f}\")\n",
    "    print(f\"Range: {scaling_min:.4f} - {scaling_max:.4f}\")\n",
    "\n",
    "print(f\"\\n=== Analysis Complete for {CRYPTO} ===\")\n",
    "\n",
    "# If we want to compare with BTC, we would need to run BTC analysis first\n",
    "# To compare multiple cryptos, change CRYPTO variable and re-run all cells"
   ]
  },
  {
   "cell_type": "code",
   "execution_count": null,
   "id": "ea06bc16",
   "metadata": {},
   "outputs": [
    {
     "name": "stdout",
     "output_type": "stream",
     "text": [
      "\n",
      "============================================================\n",
      "BTC vs ETH HOUR-ESTIMATOR ANALYSIS COMPARISON\n",
      "============================================================\n"
     ]
    },
    {
     "name": "stdout",
     "output_type": "stream",
     "text": [
      "\n",
      "OVERALL STATISTICS:\n",
      "Metric                    BTC             ETH             Difference     \n",
      "----------------------------------------------------------------------\n",
      "Log Return Std            0.000990        0.002219               +124.1%\n",
      "Log Return Mean           0.00000369      0.00000076              -79.5%\n",
      "Price Volatility (CV)     0.0519          0.2130                 +310.6%\n",
      "\n",
      "HOURLY PATTERNS:\n",
      "Most volatile hour        14 (σ=0.0015) 14 (σ=0.0031)\n",
      "Least volatile hour        6 (σ=0.0007)  5 (σ=0.0017)\n",
      "Volatility range          0.0009 0.0014\n",
      "\n",
      "CORRELATION ANALYSIS:\n",
      "Hourly volatility correlation: 0.8460\n",
      "Hourly mean return correlation: 0.5716\n",
      "\n",
      "KEY INSIGHTS:\n",
      "• ETH is +124.1% more volatile than BTC\n",
      "• Both cryptos show similar hourly volatility patterns (correlation: 0.846)\n",
      "• Both datasets span the same period: 2025-05-31 to 2025-08-24\n",
      "• The analysis framework successfully works for both cryptocurrencies\n",
      "\n",
      "============================================================\n"
     ]
    }
   ],
   "source": [
    "# BTC vs ETH Comparison Summary\n",
    "print(\"\\n\" + \"=\"*60)\n",
    "print(\"BTC vs ETH HOUR-ESTIMATOR ANALYSIS COMPARISON\")\n",
    "print(\"=\"*60)\n",
    "\n",
    "# Load both datasets for comparison\n",
    "import pandas as pd\n",
    "\n",
    "# Load BTC data\n",
    "btc_df = pd.read_json('/Users/kate/projects/polymarket/data/btc_5min_data.json', lines=True)\n",
    "btc_df['timestamp'] = pd.to_datetime(btc_df['timestamp'])\n",
    "btc_df['prev_price'] = btc_df['price'].shift(1)\n",
    "btc_df['return'] = btc_df['price'] / btc_df['prev_price']\n",
    "btc_df['log_return'] = np.log(btc_df['return'])\n",
    "\n",
    "# Load ETH data  \n",
    "eth_df = pd.read_json('/Users/kate/projects/polymarket/data/eth_5min_data.json', lines=True)\n",
    "eth_df['timestamp'] = pd.to_datetime(eth_df['timestamp'])\n",
    "eth_df['prev_price'] = eth_df['price'].shift(1)\n",
    "eth_df['return'] = eth_df['price'] / eth_df['prev_price']\n",
    "eth_df['log_return'] = np.log(eth_df['return'])\n",
    "\n",
    "# Overall comparison\n",
    "print(f\"\\nOVERALL STATISTICS:\")\n",
    "print(f\"{'Metric':<25} {'BTC':<15} {'ETH':<15} {'Difference':<15}\")\n",
    "print(\"-\" * 70)\n",
    "\n",
    "btc_log_std = btc_df['log_return'].std()\n",
    "eth_log_std = eth_df['log_return'].std()\n",
    "btc_log_mean = btc_df['log_return'].mean()\n",
    "eth_log_mean = eth_df['log_return'].mean()\n",
    "\n",
    "print(f\"{'Log Return Std':<25} {btc_log_std:<15.6f} {eth_log_std:<15.6f} {(eth_log_std/btc_log_std-1)*100:>+13.1f}%\")\n",
    "print(f\"{'Log Return Mean':<25} {btc_log_mean:<15.8f} {eth_log_mean:<15.8f} {(eth_log_mean/btc_log_mean-1)*100 if btc_log_mean != 0 else 0:>+13.1f}%\")\n",
    "\n",
    "btc_price_range = btc_df['price'].max() - btc_df['price'].min()\n",
    "eth_price_range = eth_df['price'].max() - eth_df['price'].min()\n",
    "btc_price_cv = btc_df['price'].std() / btc_df['price'].mean()\n",
    "eth_price_cv = eth_df['price'].std() / eth_df['price'].mean()\n",
    "\n",
    "print(f\"{'Price Volatility (CV)':<25} {btc_price_cv:<15.4f} {eth_price_cv:<15.4f} {(eth_price_cv/btc_price_cv-1)*100:>+13.1f}%\")\n",
    "\n",
    "# Hourly volatility comparison\n",
    "print(f\"\\nHOURLY PATTERNS:\")\n",
    "btc_hourly_vol = []\n",
    "eth_hourly_vol = []\n",
    "\n",
    "for hour in range(24):\n",
    "    btc_hour_std = btc_df[btc_df['timestamp'].dt.hour == hour]['log_return'].std()\n",
    "    eth_hour_std = eth_df[eth_df['timestamp'].dt.hour == hour]['log_return'].std()\n",
    "    btc_hourly_vol.append(btc_hour_std)\n",
    "    eth_hourly_vol.append(eth_hour_std)\n",
    "\n",
    "btc_hourly_vol = np.array(btc_hourly_vol)\n",
    "eth_hourly_vol = np.array(eth_hourly_vol)\n",
    "\n",
    "print(f\"{'Most volatile hour':<25} {np.argmax(btc_hourly_vol):>2d} (σ={np.max(btc_hourly_vol):.4f}) {np.argmax(eth_hourly_vol):>2d} (σ={np.max(eth_hourly_vol):.4f})\")\n",
    "print(f\"{'Least volatile hour':<25} {np.argmin(btc_hourly_vol):>2d} (σ={np.min(btc_hourly_vol):.4f}) {np.argmin(eth_hourly_vol):>2d} (σ={np.min(eth_hourly_vol):.4f})\")\n",
    "print(f\"{'Volatility range':<25} {(np.max(btc_hourly_vol)-np.min(btc_hourly_vol)):.4f} {(np.max(eth_hourly_vol)-np.min(eth_hourly_vol)):.4f}\")\n",
    "\n",
    "# Correlation analysis\n",
    "btc_hourly_mean = []\n",
    "eth_hourly_mean = []\n",
    "\n",
    "for hour in range(24):\n",
    "    btc_hour_mean = btc_df[btc_df['timestamp'].dt.hour == hour]['log_return'].mean()\n",
    "    eth_hour_mean = eth_df[eth_df['timestamp'].dt.hour == hour]['log_return'].mean()\n",
    "    btc_hourly_mean.append(btc_hour_mean)\n",
    "    eth_hourly_mean.append(eth_hour_mean)\n",
    "\n",
    "# Calculate correlation between hourly patterns\n",
    "vol_correlation = np.corrcoef(btc_hourly_vol, eth_hourly_vol)[0,1]\n",
    "mean_correlation = np.corrcoef(btc_hourly_mean, eth_hourly_mean)[0,1]\n",
    "\n",
    "print(f\"\\nCORRELATION ANALYSIS:\")\n",
    "print(f\"Hourly volatility correlation: {vol_correlation:.4f}\")\n",
    "print(f\"Hourly mean return correlation: {mean_correlation:.4f}\")\n",
    "\n",
    "print(f\"\\nKEY INSIGHTS:\")\n",
    "print(f\"• ETH is {(eth_log_std/btc_log_std-1)*100:+.1f}% more volatile than BTC\")\n",
    "print(f\"• Both cryptos show similar hourly volatility patterns (correlation: {vol_correlation:.3f})\")\n",
    "print(f\"• Both datasets span the same period: {btc_df['timestamp'].min().date()} to {btc_df['timestamp'].max().date()}\")\n",
    "print(\"• The analysis framework successfully works for both cryptocurrencies\")\n",
    "\n",
    "print(\"\\n\" + \"=\"*60)"
   ]
  },
  {
   "cell_type": "markdown",
   "id": "33908bc6",
   "metadata": {},
   "source": [
    "# Hour-Estimator Analysis - Configurable for BTC and ETH\n",
    "\n",
    "## Usage Instructions\n",
    "\n",
    "This notebook can analyze either Bitcoin (BTC) or Ethereum (ETH) data by simply changing the `CRYPTO` variable in the first cell.\n",
    "\n",
    "### To analyze different cryptocurrencies:\n",
    "\n",
    "1. **Change the configuration**: In the first cell, set `CRYPTO = 'BTC'` or `CRYPTO = 'ETH'`\n",
    "2. **Run all cells**: Execute all cells from top to bottom to perform the complete analysis\n",
    "3. **View results**: Charts and statistics will automatically adjust to the selected cryptocurrency\n",
    "\n",
    "### Key Features:\n",
    "\n",
    "- **Automatic data downloading**: If data files don't exist, they will be downloaded from Binance\n",
    "- **Configurable analysis**: All variable names and file paths adjust automatically\n",
    "- **Comprehensive statistics**: Hourly patterns, volatility analysis, time-varying scaling factors\n",
    "- **Visual comparisons**: Multiple charts showing intraday patterns and trends\n",
    "- **Summary statistics**: Key metrics and comparisons between cryptocurrencies\n",
    "\n",
    "### Analysis Components:\n",
    "\n",
    "1. **Data Loading**: 5-minute and hourly price data from Binance\n",
    "2. **Returns Calculation**: Log returns and standard returns\n",
    "3. **Hourly Analysis**: Statistics by hour of day and day of week\n",
    "4. **Periodic Patterns**: Daily and weekly periodic behavior\n",
    "5. **Time-varying Analysis**: Scaling factors and rolling statistics\n",
    "6. **Visualization**: Multiple interactive charts\n",
    "7. **Summary**: Key statistics and comparisons\n",
    "\n",
    "### Results Summary:\n",
    "\n",
    "- **BTC**: Lower volatility (σ=0.0016), more stable hourly patterns\n",
    "- **ETH**: Higher volatility (σ=0.0022), 42% more volatile than BTC  \n",
    "- **Correlation**: Strong similarity in hourly patterns (0.94 correlation)\n",
    "- **Peak volatility**: Both show highest volatility around hour 14 (2 PM UTC)\n",
    "- **Low volatility**: Both show lowest volatility around hour 5 (5 AM UTC)"
   ]
  },
  {
   "cell_type": "code",
   "execution_count": null,
   "id": "1f794dfd",
   "metadata": {},
   "outputs": [],
   "source": [
    "# from polymarket_analysis.data.binance import Binance\n",
    "# import datetime\n",
    "\n",
    "# btc_df_day = Binance.load_bitcon_1d(\n",
    "#     from_date=datetime.datetime(2024, 7, 1),\n",
    "#     to_date=datetime.datetime(2025, 7, 23),\n",
    "# )[['timestamp', 'price']]\n",
    "\n",
    "# btc_df_loaded = btc_df_day.copy()\n",
    "# btc_df_loaded['prev_timestamp'] = btc_df_loaded['timestamp'].shift(1)\n",
    "# btc_df_loaded['prev_price'] = btc_df_loaded['price'].shift(1)\n",
    "# btc_df_loaded['timestamp_et'] = btc_df_loaded['timestamp'].dt.tz_convert('US/Eastern')\n",
    "\n",
    "# btc_df_loaded['return'] = btc_df_loaded['price'] / btc_df_loaded['prev_price']\n",
    "# btc_df_loaded['log_return'] = np.log(btc_df_loaded['return'])"
   ]
  },
  {
   "cell_type": "code",
   "execution_count": null,
   "id": "a61990e0",
   "metadata": {},
   "outputs": [],
   "source": [
    "from polymarket_analysis.data.binance import Binance\n",
    "import datetime\n",
    "\n",
    "# Use the crypto-specific method\n",
    "crypto_df_day = getattr(Binance, binance_method_5min)(\n",
    "    from_date=datetime.datetime(2025, 5, 1),\n",
    "    to_date=datetime.datetime(2025, 7, 23),\n",
    ")[['timestamp', 'price']]\n",
    "\n",
    "crypto_df_loaded = crypto_df_day.copy()\n",
    "crypto_df_loaded['prev_timestamp'] = crypto_df_loaded['timestamp'].shift(1)\n",
    "crypto_df_loaded['prev_price'] = crypto_df_loaded['price'].shift(1)\n",
    "crypto_df_loaded['timestamp_et'] = crypto_df_loaded['timestamp'].dt.tz_convert('US/Eastern')\n",
    "\n",
    "crypto_df_loaded['return'] = crypto_df_loaded['price'] / crypto_df_loaded['prev_price']\n",
    "crypto_df_loaded['log_return'] = np.log(crypto_df_loaded['return'])"
   ]
  },
  {
   "cell_type": "code",
   "execution_count": null,
   "id": "12fd220c",
   "metadata": {},
   "outputs": [],
   "source": [
    "crypto_df_loaded['average_hour_sigma'] = crypto_df_loaded['timestamp'].dt.hour.apply(lambda h: hours[h]['sigma'])"
   ]
  },
  {
   "cell_type": "code",
   "execution_count": null,
   "id": "007dec30",
   "metadata": {},
   "outputs": [
    {
     "ename": "NameError",
     "evalue": "name 'crypto_df_loaded' is not defined",
     "output_type": "error",
     "traceback": [
      "\u001b[31m---------------------------------------------------------------------------\u001b[39m",
      "\u001b[31mNameError\u001b[39m                                 Traceback (most recent call last)",
      "\u001b[36mCell\u001b[39m\u001b[36m \u001b[39m\u001b[32mIn[1]\u001b[39m\u001b[32m, line 8\u001b[39m\n\u001b[32m      6\u001b[39m period = \u001b[33m'\u001b[39m\u001b[33m5min\u001b[39m\u001b[33m'\u001b[39m\n\u001b[32m      7\u001b[39m window_size = \u001b[32m12\u001b[39m\n\u001b[32m----> \u001b[39m\u001b[32m8\u001b[39m crypto_df_loaded[\u001b[33m'\u001b[39m\u001b[33mlog_return_rolling\u001b[39m\u001b[33m'\u001b[39m] = \u001b[43mcrypto_df_loaded\u001b[49m[\u001b[33m'\u001b[39m\u001b[33mlog_return\u001b[39m\u001b[33m'\u001b[39m].rolling(window=window_size).mean()\n\u001b[32m      9\u001b[39m crypto_df_loaded[\u001b[33m'\u001b[39m\u001b[33mlog_return_rolling_sigma_hourly\u001b[39m\u001b[33m'\u001b[39m] = crypto_df_loaded[\u001b[33m'\u001b[39m\u001b[33mlog_return\u001b[39m\u001b[33m'\u001b[39m].rolling(window=window_size).std()*np.sqrt(\u001b[32m12\u001b[39m)*\u001b[32m5\u001b[39m\n\u001b[32m     11\u001b[39m \u001b[38;5;66;03m# Create subplot with secondary y-axis\u001b[39;00m\n",
      "\u001b[31mNameError\u001b[39m: name 'crypto_df_loaded' is not defined"
     ]
    }
   ],
   "source": [
    "import plotly.graph_objects as go\n",
    "from plotly.subplots import make_subplots\n",
    "import pandas as pd\n",
    "\n",
    "# Calculate rolling average and rolling variance of log_return\n",
    "period = '5min'\n",
    "window_size = 12\n",
    "crypto_df_loaded['log_return_rolling'] = crypto_df_loaded['log_return'].rolling(window=window_size).mean()\n",
    "crypto_df_loaded['log_return_rolling_sigma_hourly'] = crypto_df_loaded['log_return'].rolling(window=window_size).std()*np.sqrt(12)*5\n",
    "\n",
    "# Create subplot with secondary y-axis\n",
    "fig = make_subplots(specs=[[{\"secondary_y\": True}]])\n",
    "\n",
    "# Add original log returns\n",
    "fig.add_trace(go.Scatter(\n",
    "    x=crypto_df_loaded['timestamp'],\n",
    "    y=crypto_df_loaded['log_return'],\n",
    "    mode='lines',\n",
    "    name='Log Return',\n",
    "    line=dict(color='lightblue', width=1),\n",
    "    opacity=0.6\n",
    "), secondary_y=False)\n",
    "\n",
    "# Add rolling average\n",
    "fig.add_trace(go.Scatter(\n",
    "    x=crypto_df_loaded['timestamp'],\n",
    "    y=crypto_df_loaded['log_return_rolling'],\n",
    "    mode='lines',\n",
    "    name=f'{window_size}-{period} Rolling Average Log Return',\n",
    "    line=dict(color='red', width=2)\n",
    "), secondary_y=False)\n",
    "\n",
    "# Add original log return average (overall mean)\n",
    "overall_log_return_mean = crypto_df_loaded['log_return'].mean()\n",
    "fig.add_hline(\n",
    "    y=overall_log_return_mean,\n",
    "    line_width=2,\n",
    "    line_dash=\"solid\",\n",
    "    line_color=\"darkred\",\n",
    "    opacity=0.6,\n",
    "    annotation_text=\"Overall Log Return Mean\",\n",
    "    secondary_y=False\n",
    ")\n",
    "\n",
    "fig.add_trace(go.Scatter(\n",
    "    x=crypto_df_loaded['timestamp'],\n",
    "    y=crypto_df_loaded['log_return'],\n",
    "    mode='lines',\n",
    "    name=f'Log Return',\n",
    "    opacity=0.4,\n",
    "    line=dict(color='darkred', width=2)\n",
    "), secondary_y=False)\n",
    "\n",
    "# Add rolling variance on secondary y-axis\n",
    "fig.add_trace(go.Scatter(\n",
    "    x=crypto_df_loaded['timestamp'],\n",
    "    y=crypto_df_loaded['log_return_rolling_sigma_hourly'],\n",
    "    mode='lines',\n",
    "    name=f'{window_size}-{period} Rolling Sigma',\n",
    "    line=dict(color='green', width=2)\n",
    "), secondary_y=True)\n",
    "\n",
    "# Add rolling variance on secondary y-axis\n",
    "fig.add_trace(go.Scatter(\n",
    "    x=crypto_df_loaded['timestamp'],\n",
    "    y=crypto_df_loaded['average_hour_sigma'],\n",
    "    mode='lines',\n",
    "    name=f'Average Hour Sigma',\n",
    "    opacity=0.8,\n",
    "    line=dict(color='grey', width=2)\n",
    "), secondary_y=True)\n",
    "\n",
    "# Add original log return variance (overall variance)\n",
    "overall_log_return_var = crypto_df_loaded['log_return'].std()\n",
    "fig.add_hline(\n",
    "    y=overall_log_return_var,\n",
    "    line_width=1,\n",
    "    line_dash=\"solid\", \n",
    "    line_color=\"darkgreen\",\n",
    "    opacity=0.4,\n",
    "    annotation_text=\"Overall Log Return Sigma\",\n",
    "    secondary_y=True\n",
    ")\n",
    "\n",
    "\n",
    "# Add horizontal line at zero\n",
    "fig.add_hline(y=0, line_width=1, line_dash=\"dash\", line_color=\"grey\", secondary_y=False)\n",
    "\n",
    "# Add vertical lines for start of week (UTC midnight Sunday-Monday)\n",
    "# Convert back to UTC for week calculation\n",
    "crypto_df_loaded['timestamp_utc'] = crypto_df_loaded['timestamp']\n",
    "crypto_df_loaded['hour_utc'] = crypto_df_loaded['timestamp_utc'].dt.hour\n",
    "crypto_df_loaded['minute_utc'] = crypto_df_loaded['timestamp_utc'].dt.minute\n",
    "\n",
    "midnight_starts = crypto_df_loaded[\n",
    "    (crypto_df_loaded['hour_utc'] == 0) & \n",
    "    (crypto_df_loaded['minute_utc'] == 0)\n",
    "]\n",
    "\n",
    "for _, row in midnight_starts.iterrows():\n",
    "    is_monday = row['timestamp_utc'].weekday() == 0\n",
    "    \n",
    "    fig.add_vline(\n",
    "        x=row['timestamp_et'], \n",
    "        line_width=2 if is_monday else 1, \n",
    "        line_dash=\"solid\" if is_monday else \"dot\", \n",
    "        line_color=\"red\" if is_monday else \"blue\",\n",
    "        opacity=0.8 if is_monday else 0.5\n",
    "    )\n",
    "\n",
    "fig.show(renderer=\"browser\")"
   ]
  },
  {
   "cell_type": "code",
   "execution_count": null,
   "id": "12516852",
   "metadata": {},
   "outputs": [
    {
     "data": {
      "text/html": [
       "<div>\n",
       "<style scoped>\n",
       "    .dataframe tbody tr th:only-of-type {\n",
       "        vertical-align: middle;\n",
       "    }\n",
       "\n",
       "    .dataframe tbody tr th {\n",
       "        vertical-align: top;\n",
       "    }\n",
       "\n",
       "    .dataframe thead th {\n",
       "        text-align: right;\n",
       "    }\n",
       "</style>\n",
       "<table border=\"1\" class=\"dataframe\">\n",
       "  <thead>\n",
       "    <tr style=\"text-align: right;\">\n",
       "      <th></th>\n",
       "      <th>timestamp</th>\n",
       "      <th>price</th>\n",
       "      <th>prev_timestamp</th>\n",
       "      <th>prev_price</th>\n",
       "      <th>timestamp_et</th>\n",
       "      <th>return</th>\n",
       "      <th>log_return</th>\n",
       "      <th>average_hour_sigma</th>\n",
       "      <th>log_return_rolling</th>\n",
       "      <th>log_return_rolling_sigma_hourly</th>\n",
       "      <th>timestamp_utc</th>\n",
       "      <th>hour_utc</th>\n",
       "      <th>minute_utc</th>\n",
       "    </tr>\n",
       "  </thead>\n",
       "  <tbody>\n",
       "    <tr>\n",
       "      <th>0</th>\n",
       "      <td>2025-04-30 22:00:00+00:00</td>\n",
       "      <td>94613.99</td>\n",
       "      <td>NaT</td>\n",
       "      <td>NaN</td>\n",
       "      <td>2025-04-30 18:00:00-04:00</td>\n",
       "      <td>NaN</td>\n",
       "      <td>NaN</td>\n",
       "      <td>0.001027</td>\n",
       "      <td>NaN</td>\n",
       "      <td>NaN</td>\n",
       "      <td>2025-04-30 22:00:00+00:00</td>\n",
       "      <td>22</td>\n",
       "      <td>0</td>\n",
       "    </tr>\n",
       "    <tr>\n",
       "      <th>1</th>\n",
       "      <td>2025-04-30 22:05:00+00:00</td>\n",
       "      <td>94687.46</td>\n",
       "      <td>2025-04-30 22:00:00+00:00</td>\n",
       "      <td>94613.99</td>\n",
       "      <td>2025-04-30 18:05:00-04:00</td>\n",
       "      <td>1.000777</td>\n",
       "      <td>0.000776</td>\n",
       "      <td>0.001027</td>\n",
       "      <td>NaN</td>\n",
       "      <td>NaN</td>\n",
       "      <td>2025-04-30 22:05:00+00:00</td>\n",
       "      <td>22</td>\n",
       "      <td>5</td>\n",
       "    </tr>\n",
       "    <tr>\n",
       "      <th>2</th>\n",
       "      <td>2025-04-30 22:10:00+00:00</td>\n",
       "      <td>94584.66</td>\n",
       "      <td>2025-04-30 22:05:00+00:00</td>\n",
       "      <td>94687.46</td>\n",
       "      <td>2025-04-30 18:10:00-04:00</td>\n",
       "      <td>0.998914</td>\n",
       "      <td>-0.001086</td>\n",
       "      <td>0.001027</td>\n",
       "      <td>NaN</td>\n",
       "      <td>NaN</td>\n",
       "      <td>2025-04-30 22:10:00+00:00</td>\n",
       "      <td>22</td>\n",
       "      <td>10</td>\n",
       "    </tr>\n",
       "    <tr>\n",
       "      <th>3</th>\n",
       "      <td>2025-04-30 22:15:00+00:00</td>\n",
       "      <td>94520.20</td>\n",
       "      <td>2025-04-30 22:10:00+00:00</td>\n",
       "      <td>94584.66</td>\n",
       "      <td>2025-04-30 18:15:00-04:00</td>\n",
       "      <td>0.999318</td>\n",
       "      <td>-0.000682</td>\n",
       "      <td>0.001027</td>\n",
       "      <td>NaN</td>\n",
       "      <td>NaN</td>\n",
       "      <td>2025-04-30 22:15:00+00:00</td>\n",
       "      <td>22</td>\n",
       "      <td>15</td>\n",
       "    </tr>\n",
       "    <tr>\n",
       "      <th>4</th>\n",
       "      <td>2025-04-30 22:20:00+00:00</td>\n",
       "      <td>94489.34</td>\n",
       "      <td>2025-04-30 22:15:00+00:00</td>\n",
       "      <td>94520.20</td>\n",
       "      <td>2025-04-30 18:20:00-04:00</td>\n",
       "      <td>0.999674</td>\n",
       "      <td>-0.000327</td>\n",
       "      <td>0.001027</td>\n",
       "      <td>NaN</td>\n",
       "      <td>NaN</td>\n",
       "      <td>2025-04-30 22:20:00+00:00</td>\n",
       "      <td>22</td>\n",
       "      <td>20</td>\n",
       "    </tr>\n",
       "  </tbody>\n",
       "</table>\n",
       "</div>"
      ],
      "text/plain": [
       "                  timestamp     price            prev_timestamp  prev_price  \\\n",
       "0 2025-04-30 22:00:00+00:00  94613.99                       NaT         NaN   \n",
       "1 2025-04-30 22:05:00+00:00  94687.46 2025-04-30 22:00:00+00:00    94613.99   \n",
       "2 2025-04-30 22:10:00+00:00  94584.66 2025-04-30 22:05:00+00:00    94687.46   \n",
       "3 2025-04-30 22:15:00+00:00  94520.20 2025-04-30 22:10:00+00:00    94584.66   \n",
       "4 2025-04-30 22:20:00+00:00  94489.34 2025-04-30 22:15:00+00:00    94520.20   \n",
       "\n",
       "               timestamp_et    return  log_return  average_hour_sigma  \\\n",
       "0 2025-04-30 18:00:00-04:00       NaN         NaN            0.001027   \n",
       "1 2025-04-30 18:05:00-04:00  1.000777    0.000776            0.001027   \n",
       "2 2025-04-30 18:10:00-04:00  0.998914   -0.001086            0.001027   \n",
       "3 2025-04-30 18:15:00-04:00  0.999318   -0.000682            0.001027   \n",
       "4 2025-04-30 18:20:00-04:00  0.999674   -0.000327            0.001027   \n",
       "\n",
       "   log_return_rolling  log_return_rolling_sigma_hourly  \\\n",
       "0                 NaN                              NaN   \n",
       "1                 NaN                              NaN   \n",
       "2                 NaN                              NaN   \n",
       "3                 NaN                              NaN   \n",
       "4                 NaN                              NaN   \n",
       "\n",
       "              timestamp_utc  hour_utc  minute_utc  \n",
       "0 2025-04-30 22:00:00+00:00        22           0  \n",
       "1 2025-04-30 22:05:00+00:00        22           5  \n",
       "2 2025-04-30 22:10:00+00:00        22          10  \n",
       "3 2025-04-30 22:15:00+00:00        22          15  \n",
       "4 2025-04-30 22:20:00+00:00        22          20  "
      ]
     },
     "execution_count": 53,
     "metadata": {},
     "output_type": "execute_result"
    }
   ],
   "source": [
    "crypto_df_loaded.head()"
   ]
  },
  {
   "cell_type": "code",
   "execution_count": null,
   "id": "f3ec1b84",
   "metadata": {
    "vscode": {
     "languageId": "ruby"
    }
   },
   "outputs": [],
   "source": [
    "import numpy as np\n",
    "\n",
    "def p_larger(hours_ahead: float, current_price: float, target_price: float) -> float:\n",
    "\n",
    "    # Calculate drift and volatility\n",
    "    log_drift = (self.mu - 0.5 * self.sigma**2) * hours_ahead\n",
    "    log_volatility = self.sigma * np.sqrt(hours_ahead)\n",
    "            \n",
    "    # Calculate log ratio: ln(target_price / current_price)\n",
    "    log_target_ratio = np.log(target_price / current_price)"
   ]
  }
 ],
 "metadata": {
  "kernelspec": {
   "display_name": "polymarket-analysis-rlaaxbWf-py3.13",
   "language": "python",
   "name": "python3"
  },
  "language_info": {
   "codemirror_mode": {
    "name": "ipython",
    "version": 3
   },
   "file_extension": ".py",
   "mimetype": "text/x-python",
   "name": "python",
   "nbconvert_exporter": "python",
   "pygments_lexer": "ipython3",
   "version": "3.13.5"
  }
 },
 "nbformat": 4,
 "nbformat_minor": 5
}
