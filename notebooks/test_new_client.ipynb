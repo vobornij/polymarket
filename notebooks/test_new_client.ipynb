{
 "cells": [
  {
   "cell_type": "code",
   "execution_count": null,
   "id": "01eaf798",
   "metadata": {},
   "outputs": [],
   "source": [
    "# Setup imports and path\n",
    "from pathlib import Path\n",
    "import pandas as pd\n",
    "import json\n",
    "from polymarket_analysis.data.markets import load_raw_markets\n",
    "from polymarket_analysis.data.load_history import load_price_history\n",
    "from polymarket_analysis.data.binance import Binance\n",
    "\n",
    "pd.set_option('display.max_colwidth', None)  "
   ]
  },
  {
   "cell_type": "code",
   "execution_count": 2,
   "id": "7345bfff",
   "metadata": {},
   "outputs": [],
   "source": [
    "%matplotlib tk\n"
   ]
  },
  {
   "cell_type": "code",
   "execution_count": 3,
   "id": "9b4b7848",
   "metadata": {},
   "outputs": [
    {
     "name": "stdout",
     "output_type": "stream",
     "text": [
      "Loaded 45616 markets.\n"
     ]
    }
   ],
   "source": [
    "raw_markets = load_raw_markets()\n",
    "\n",
    "print(f\"Loaded {len(raw_markets)} markets.\")"
   ]
  },
  {
   "cell_type": "code",
   "execution_count": 7,
   "id": "7e970a95",
   "metadata": {},
   "outputs": [],
   "source": [
    "filtered_markets = raw_markets[\n",
    "    raw_markets['question'].str.contains('Bitcoin|BTC|crypto', case=False, na=False, regex=True) \n",
    "    # raw_markets['question'].str.contains('June 24', case=False, na=False, regex=True)\n",
    "]\n",
    "\n",
    "tokens_with_slugs = [\n",
    "    {\n",
    "        \"slug\": row['market_slug'],\n",
    "        \"outcome\": token['outcome'],\n",
    "        \"token_id\": token['token_id']\n",
    "    }\n",
    "    for _, row in filtered_markets.iterrows()\n",
    "    for token in row['tokens'] if token['outcome'] != ''  and token['token_id'] != ''\n",
    "]"
   ]
  },
  {
   "cell_type": "code",
   "execution_count": 21,
   "id": "532f9ba6",
   "metadata": {},
   "outputs": [],
   "source": [
    "try:\n",
    "    token_histories = [\n",
    "        load_price_history(token_id=market['token_id'], slug=market['slug'], outcome=market['outcome'])\n",
    "        for market in tokens_with_slugs if market['slug'] == 'bitcoin-above-103000-on-june-20'\n",
    "    ]\n",
    "except Exception as e:\n",
    "    print(f\"Error loading price history: {e}\")"
   ]
  },
  {
   "cell_type": "code",
   "execution_count": 22,
   "id": "38e92dd1",
   "metadata": {},
   "outputs": [
    {
     "data": {
      "text/plain": [
       "[PriceHistory(slug='bitcoin-above-103000-on-june-20', outcome='Yes', token_id='23369195288648180659357313269757613104295332489620235641529131236791515394564', price_df=              timestamp  price\n",
       " 0   2025-06-13 15:00:08  0.575\n",
       " 1   2025-06-13 15:10:08  0.750\n",
       " 2   2025-06-13 15:20:08  0.665\n",
       " 3   2025-06-13 15:30:08  0.675\n",
       " 4   2025-06-13 15:40:07  0.745\n",
       " ..                  ...    ...\n",
       " 894 2025-06-19 20:00:08  0.715\n",
       " 895 2025-06-19 20:10:07  0.700\n",
       " 896 2025-06-19 20:20:07  0.725\n",
       " 897 2025-06-19 20:30:07  0.710\n",
       " 898 2025-06-19 20:38:07  0.715\n",
       " \n",
       " [899 rows x 2 columns]),\n",
       " PriceHistory(slug='bitcoin-above-103000-on-june-20', outcome='No', token_id='28690244775797077493520457350695870577692994709973478957963085765560773779976', price_df=              timestamp  price\n",
       " 0   2025-06-13 15:00:08  0.425\n",
       " 1   2025-06-13 15:10:08  0.250\n",
       " 2   2025-06-13 15:20:08  0.335\n",
       " 3   2025-06-13 15:30:08  0.325\n",
       " 4   2025-06-13 15:40:07  0.255\n",
       " ..                  ...    ...\n",
       " 894 2025-06-19 20:00:08  0.285\n",
       " 895 2025-06-19 20:10:07  0.300\n",
       " 896 2025-06-19 20:20:07  0.275\n",
       " 897 2025-06-19 20:30:07  0.290\n",
       " 898 2025-06-19 20:38:07  0.285\n",
       " \n",
       " [899 rows x 2 columns])]"
      ]
     },
     "execution_count": 22,
     "metadata": {},
     "output_type": "execute_result"
    }
   ],
   "source": [
    "token_histories"
   ]
  },
  {
   "cell_type": "code",
   "execution_count": 49,
   "id": "f90e61a8",
   "metadata": {},
   "outputs": [
    {
     "name": "stdout",
     "output_type": "stream",
     "text": [
      "First row as JSON:\n",
      "{\n",
      "  \"enable_order_book\": true,\n",
      "  \"active\": true,\n",
      "  \"closed\": false,\n",
      "  \"archived\": false,\n",
      "  \"accepting_orders\": true,\n",
      "  \"accepting_order_timestamp\": \"2025-06-17T17:23:45Z\",\n",
      "  \"minimum_order_size\": 5,\n",
      "  \"minimum_tick_size\": 0.01,\n",
      "  \"condition_id\": \"0x15d51789d6f1c77c4c588ecd4b317d33595ba4e1022e8b9dc536e7e0c86ef8fb\",\n",
      "  \"question_id\": \"0xc314fe6a8fa235982f3969cd6e4b72b2c2df116c0a626a9af992c79af619d7e4\",\n",
      "  \"question\": \"Bitcoin above $103,000 on June 24?\",\n",
      "  \"description\": \"This market will resolve to \\\"Yes\\\" if the Binance 1 minute candle for BTC/USDT 12:00 in the ET timezone (noon) on the date specified in the title has a final \\u201cClose\\u201d price higher than the price specified in the title. Otherwise, this market will resolve to \\\"No\\\".\\n\\nThe resolution source for this market is Binance, specifically the BTC/USDT \\\"Close\\\" prices currently available at https://www.binance.com/en/trade/BTC_USDT with \\u201c1m\\u201d and \\u201cCandles\\u201d selected on the top bar.\\n\\nPlease note that this market is about the price according to Binance BTC/USDT, not according to other sources or spot markets.\",\n",
      "  \"market_slug\": \"bitcoin-above-103000-on-june-24\",\n",
      "  \"end_date_iso\": \"2025-06-24T00:00:00Z\",\n",
      "  \"game_start_time\": null,\n",
      "  \"seconds_delay\": 0,\n",
      "  \"fpmm\": \"\",\n",
      "  \"maker_base_fee\": 0,\n",
      "  \"taker_base_fee\": 0,\n",
      "  \"notifications_enabled\": true,\n",
      "  \"neg_risk\": false,\n",
      "  \"neg_risk_market_id\": \"\",\n",
      "  \"neg_risk_request_id\": \"\",\n",
      "  \"icon\": \"https://polymarket-upload.s3.us-east-2.amazonaws.com/BTC+fullsize.png\",\n",
      "  \"image\": \"https://polymarket-upload.s3.us-east-2.amazonaws.com/BTC+fullsize.png\",\n",
      "  \"rewards\": {\n",
      "    \"rates\": [\n",
      "      {\n",
      "        \"asset_address\": \"0x2791Bca1f2de4661ED88A30C99A7a9449Aa84174\",\n",
      "        \"rewards_daily_rate\": 30\n",
      "      }\n",
      "    ],\n",
      "    \"min_size\": 100,\n",
      "    \"max_spread\": 3.5\n",
      "  },\n",
      "  \"is_50_50_outcome\": false,\n",
      "  \"tokens\": [\n",
      "    {\n",
      "      \"token_id\": \"60352555957471166575326227858537810202265452051331575843804230788067473830742\",\n",
      "      \"outcome\": \"Yes\",\n",
      "      \"price\": 0.5,\n",
      "      \"winner\": false\n",
      "    },\n",
      "    {\n",
      "      \"token_id\": \"71973162798585948508332312890976070600462784350307607359091804271744761674370\",\n",
      "      \"outcome\": \"No\",\n",
      "      \"price\": 0.5,\n",
      "      \"winner\": false\n",
      "    }\n",
      "  ],\n",
      "  \"tags\": [\n",
      "    \"Crypto\",\n",
      "    \"Bitcoin\",\n",
      "    \"Crypto Prices\",\n",
      "    \"Recurring\",\n",
      "    \"June 24\",\n",
      "    \"Hide From New\"\n",
      "  ]\n",
      "}\n"
     ]
    }
   ],
   "source": [
    "# Convert first row to JSON\n",
    "import json\n",
    "\n",
    "# Get the first row as a dictionary\n",
    "first_row = filtered_markets.iloc[0].to_dict()\n",
    "\n",
    "# Convert to JSON with pretty formatting\n",
    "first_row_json = json.dumps(first_row, indent=2, default=str)\n",
    "\n",
    "print(\"First row as JSON:\")\n",
    "print(first_row_json)"
   ]
  },
  {
   "cell_type": "code",
   "execution_count": 50,
   "id": "0024b6ce",
   "metadata": {},
   "outputs": [
    {
     "name": "stdout",
     "output_type": "stream",
     "text": [
      "                                                               question          end_date_iso\n",
      "45518                                Bitcoin above $103,000 on June 24?  2025-06-24T00:00:00Z\n",
      "45523  Will the price of Bitcoin be between $102K and $104K on June 24?  2025-06-24T00:00:00Z\n",
      "45533  Will the price of Bitcoin be between $104K and $106K on June 24?  2025-06-24T00:00:00Z\n",
      "45554          Will the price of Bitcoin be less than $100K on June 24?  2025-06-24T00:00:00Z\n",
      "45575       Will the price of Bitcoin be greater than $106K on June 24?  2025-06-24T00:00:00Z\n",
      "45596  Will the price of Bitcoin be between $100K and $102K on June 24?  2025-06-24T00:00:00Z\n"
     ]
    }
   ],
   "source": [
    "print(filtered_markets[['question', 'end_date_iso']].to_string())"
   ]
  },
  {
   "cell_type": "code",
   "execution_count": 8,
   "id": "874b7261",
   "metadata": {},
   "outputs": [
    {
     "name": "stdout",
     "output_type": "stream",
     "text": [
      "Filtered Bitcoin data: 325 rows\n"
     ]
    }
   ],
   "source": [
    "polymarket_start = token_histories[0].price_df['timestamp'].min()\n",
    "polymarket_end = token_histories[0].price_df['timestamp'].max()\n",
    "\n",
    "btc_df = Binance.load_bitcon_5min(\n",
    "    from_date=polymarket_start, \n",
    "    to_date=polymarket_end\n",
    ")\n",
    "print(f\"Filtered Bitcoin data: {len(btc_df)} rows\")"
   ]
  },
  {
   "cell_type": "code",
   "execution_count": 27,
   "id": "78e39209",
   "metadata": {},
   "outputs": [],
   "source": [
    "# %matplotlib tk\n",
    "%matplotlib inline\n",
    "\n",
    "import plotly.graph_objects as go\n",
    "from plotly.subplots import make_subplots\n",
    "\n",
    "fig = go.Figure()\n",
    "# Create subplot with secondary y-axis\n",
    "fig = make_subplots(specs=[[{\"secondary_y\": True}]])\n",
    "\n",
    "for mh in token_histories:\n",
    "    fig.add_trace(go.Scatter(\n",
    "            x=mh.price_df['timestamp'], \n",
    "            y=mh.price_df['price'],\n",
    "            mode='lines+markers',\n",
    "            name=f\"{mh.slug}\",\n",
    "        ))\n",
    "\n",
    "# Add Bitcoin price\n",
    "fig.add_trace(\n",
    "    go.Scatter(\n",
    "        x=btc_df['timestamp'], \n",
    "        y=btc_df['price'],\n",
    "        mode='lines',\n",
    "        name='Bitcoin Price',\n",
    "        line=dict(color='black'),\n",
    "    ),\n",
    "    secondary_y=True,\n",
    ")\n",
    "\n",
    "# Update layout\n",
    "fig.update_xaxes(title_text=\"Timestamp\")\n",
    "fig.update_yaxes(title_text=\"Polymarket Price\", secondary_y=False)\n",
    "fig.update_yaxes(title_text=\"Bitcoin Price (USD)\", secondary_y=True)\n",
    "\n",
    "fig.update_layout(\n",
    "    title_text=\"Polymarket vs Bitcoin Price Comparison (5-minute data)\",\n",
    "    legend=dict(\n",
    "        orientation=\"h\",  # horizontal orientation\n",
    "        yanchor=\"top\",\n",
    "        y=-0.1,          # position below the plot\n",
    "        xanchor=\"center\",\n",
    "        x=0.5\n",
    "    ),\n",
    "    showlegend=True\n",
    ")\n",
    "\n",
    "fig.show(renderer=\"browser\")"
   ]
  }
 ],
 "metadata": {
  "kernelspec": {
   "display_name": "polymarket-analysis-rlaaxbWf-py3.13",
   "language": "python",
   "name": "python3"
  },
  "language_info": {
   "codemirror_mode": {
    "name": "ipython",
    "version": 3
   },
   "file_extension": ".py",
   "mimetype": "text/x-python",
   "name": "python",
   "nbconvert_exporter": "python",
   "pygments_lexer": "ipython3",
   "version": "3.13.5"
  }
 },
 "nbformat": 4,
 "nbformat_minor": 5
}
